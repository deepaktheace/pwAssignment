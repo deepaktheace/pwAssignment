{
 "cells": [
  {
   "cell_type": "markdown",
   "id": "afdffbbb-6135-41c3-8a35-08cca36d2599",
   "metadata": {},
   "source": [
    "1. Who developed Python Programming Language? \n",
    "\n",
    "Python programming language was developed by Guido van Rossum in the late 1980s.\n",
    "\n"
   ]
  },
  {
   "cell_type": "markdown",
   "id": "72e28162-3d54-4f03-bfef-6693d7ce0ae9",
   "metadata": {},
   "source": [
    "2. Which type of Programming does Python support? \n",
    "\n",
    "Python is an interpreted programming language, supporting object-oriented, structured, and functional programming.\n",
    "\n"
   ]
  },
  {
   "cell_type": "markdown",
   "id": "6d71500f-da64-4358-861e-764b0d49f878",
   "metadata": {},
   "source": [
    "3. Is Python case sensitive when dealing with identifiers? \n",
    "\n",
    "Yes, Python case sensitive when dealing with identifiers.\n",
    "\n"
   ]
  },
  {
   "cell_type": "markdown",
   "id": "82784f30-a3d3-44b8-a14d-431ee09f57a7",
   "metadata": {},
   "source": [
    "4. What is the correct extension of the Python file? \n",
    "\n",
    "The correct extension of the Python file is .py \n",
    "\n"
   ]
  },
  {
   "cell_type": "markdown",
   "id": "96a33b16-ab63-4709-971d-29d4c12badfd",
   "metadata": {},
   "source": [
    "5. Is Python code compiled or interpreted? \n",
    "\n",
    "Python is an interpreted language, which means the source code of a Python program is converted into bytecode that is then executed by the Python virtual machine"
   ]
  },
  {
   "cell_type": "markdown",
   "id": "aa38932b-b351-4e57-9271-1272daa09ab5",
   "metadata": {},
   "source": [
    "6. Name a few blocks of code used to define in Python language?\n",
    "\n",
    "The following are blocks: a module, a function body, and a class definition. \n",
    "\n"
   ]
  },
  {
   "cell_type": "markdown",
   "id": "413a3e39-3fab-4c9b-8f9c-263a4c884020",
   "metadata": {},
   "source": [
    "7. State a character used to give single-line comments in Python? \n",
    "\n",
    "We can write a single-line comment by adding a single # character before any statement or line of code.\n",
    "\n"
   ]
  },
  {
   "cell_type": "markdown",
   "id": "5c244689-df01-49cf-b78f-cf240f08c274",
   "metadata": {},
   "source": [
    "8. Mention functions which can help us to find the version of python that we are currently working on? \n",
    "\n",
    "The function sys. version can help us to find the version of python that we are currently working on.\n",
    "\n"
   ]
  },
  {
   "cell_type": "markdown",
   "id": "94fe5daf-0ccf-4d59-9a4f-799629e607d9",
   "metadata": {},
   "source": [
    "9. Python supports the creation of anonymous functions at runtime, using a construct called \n",
    "\n",
    "Python supports the creation of anonymous functions (i.e. functions that are not bound to a name) at runtime, using a construct called lambda.\n",
    "\n"
   ]
  },
  {
   "cell_type": "markdown",
   "id": "2431e97a-6af5-411d-b3c5-8fd9c3b8b740",
   "metadata": {},
   "source": [
    "10. What does pip stand for python? \n",
    "\n",
    "pip in python stand for “Preferred Installer Program”\n",
    " \n"
   ]
  },
  {
   "cell_type": "markdown",
   "id": "d8b3711c-a27d-4f98-b41e-d13f32002e38",
   "metadata": {},
   "source": [
    "11. Mention a few built-in functions in python? \n",
    "\n",
    "Few commonly used built-in functions in python are as follows:\n",
    "a. print()\n",
    "b. input()\n",
    "c. type()\n",
    "d. pow()\n",
    "e. abs()\n",
    "f. bool()\n",
    "g. len()\n",
    "h. int()\n",
    "\n"
   ]
  },
  {
   "cell_type": "markdown",
   "id": "f87c6077-f10d-4598-9e06-678601726526",
   "metadata": {},
   "source": [
    "12. What is the maximum possible length of an identifier in Python? \n",
    "\n",
    "The maximum possible length of an identifier in Python is 79 characters. \n",
    "\n"
   ]
  },
  {
   "cell_type": "markdown",
   "id": "b1c40abd-ad59-406a-8a82-5fe5a7365322",
   "metadata": {},
   "source": [
    "13. What are the benefits of using Python? \n",
    "\n",
    "Some of the benefits of using Python are as follows:\n",
    "\n",
    "a. Easy to learn\n",
    "b. Support Object-Oriented programming \n",
    "c. Portable\n",
    "d. Free and open-Source\n",
    "e. Robust\n",
    "\n"
   ]
  },
  {
   "cell_type": "markdown",
   "id": "b298dadd-620d-4342-ab1b-57cf329057ef",
   "metadata": {},
   "source": [
    "14. How is memory managed in Python? \n",
    "\n",
    "Memory management in Python involves a private heap containing all Python objects and data structures.\n",
    "The management of this private heap is ensured internally by the Python memory manager.\n",
    "\n"
   ]
  },
  {
   "cell_type": "markdown",
   "id": "26753fe6-e890-4162-a7c0-0caad8a5dbe5",
   "metadata": {},
   "source": [
    "15. How to install Python on Windows and set path variables? \n",
    "\n",
    "Install python from this link https://www.python.org/downloads/\n",
    "After this, install it on your PC. Look for the location where PYTHON has been installed on your PC using tge following command on your command prompt: cmd python.\n",
    "Then go to advanced system settings and add new variable and name it as PYTHON_NAME and paste the copied path.\n",
    "Then look for the path variable, select it's value and select edit\n",
    "Add a semicolon towards the end of the value if it's not present and then type %PYTHON_HOME%\n",
    "\n"
   ]
  },
  {
   "cell_type": "markdown",
   "id": "06a0a84d-d660-4146-bdc3-455594d58b9e",
   "metadata": {},
   "source": [
    "16. Is indentation required in python? \n",
    "\n",
    "Indentation is mandatory in python to define the blocks of statements. \n",
    "The number of spaces must be uniform in a block of code."
   ]
  },
  {
   "cell_type": "code",
   "execution_count": null,
   "id": "bfe1c827-77d0-49b5-b61c-225e9ad72b53",
   "metadata": {},
   "outputs": [],
   "source": []
  }
 ],
 "metadata": {
  "kernelspec": {
   "display_name": "Python 3 (ipykernel)",
   "language": "python",
   "name": "python3"
  },
  "language_info": {
   "codemirror_mode": {
    "name": "ipython",
    "version": 3
   },
   "file_extension": ".py",
   "mimetype": "text/x-python",
   "name": "python",
   "nbconvert_exporter": "python",
   "pygments_lexer": "ipython3",
   "version": "3.10.8"
  }
 },
 "nbformat": 4,
 "nbformat_minor": 5
}
