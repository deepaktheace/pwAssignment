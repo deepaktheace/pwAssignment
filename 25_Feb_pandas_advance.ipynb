{
 "cells": [
  {
   "cell_type": "markdown",
   "id": "4b7b8834",
   "metadata": {},
   "source": [
    "Consider following code to answer further questions:"
   ]
  },
  {
   "cell_type": "code",
   "execution_count": 1,
   "id": "25060cae",
   "metadata": {},
   "outputs": [
    {
     "data": {
      "text/html": [
       "<div>\n",
       "<style scoped>\n",
       "    .dataframe tbody tr th:only-of-type {\n",
       "        vertical-align: middle;\n",
       "    }\n",
       "\n",
       "    .dataframe tbody tr th {\n",
       "        vertical-align: top;\n",
       "    }\n",
       "\n",
       "    .dataframe thead th {\n",
       "        text-align: right;\n",
       "    }\n",
       "</style>\n",
       "<table border=\"1\" class=\"dataframe\">\n",
       "  <thead>\n",
       "    <tr style=\"text-align: right;\">\n",
       "      <th></th>\n",
       "      <th>course_name</th>\n",
       "      <th>duration</th>\n",
       "    </tr>\n",
       "  </thead>\n",
       "  <tbody>\n",
       "    <tr>\n",
       "      <th>0</th>\n",
       "      <td>Data Science</td>\n",
       "      <td>2</td>\n",
       "    </tr>\n",
       "    <tr>\n",
       "      <th>1</th>\n",
       "      <td>Machine Learning</td>\n",
       "      <td>3</td>\n",
       "    </tr>\n",
       "    <tr>\n",
       "      <th>2</th>\n",
       "      <td>Big Data</td>\n",
       "      <td>6</td>\n",
       "    </tr>\n",
       "    <tr>\n",
       "      <th>3</th>\n",
       "      <td>Data Engineer</td>\n",
       "      <td>4</td>\n",
       "    </tr>\n",
       "  </tbody>\n",
       "</table>\n",
       "</div>"
      ],
      "text/plain": [
       "        course_name  duration\n",
       "0      Data Science         2\n",
       "1  Machine Learning         3\n",
       "2          Big Data         6\n",
       "3     Data Engineer         4"
      ]
     },
     "execution_count": 1,
     "metadata": {},
     "output_type": "execute_result"
    }
   ],
   "source": [
    "import pandas as pd\n",
    "course_name = ['Data Science', \"Machine Learning\", \"Big Data\", \"Data Engineer\"]\n",
    "duration = [2,3,6,4]\n",
    "df = pd.DataFrame(data = {\"course_name\" : course_name, \"duration\" : duration})\n",
    "df"
   ]
  },
  {
   "cell_type": "markdown",
   "id": "f191a295",
   "metadata": {},
   "source": [
    "<br>\n",
    "Q1. Write a code to print the data present in the second row of the dataframe, df."
   ]
  },
  {
   "cell_type": "code",
   "execution_count": 2,
   "id": "ce0490e7",
   "metadata": {},
   "outputs": [
    {
     "data": {
      "text/plain": [
       "course_name    Machine Learning\n",
       "duration                      3\n",
       "Name: 1, dtype: object"
      ]
     },
     "execution_count": 2,
     "metadata": {},
     "output_type": "execute_result"
    }
   ],
   "source": [
    "df.loc[1]"
   ]
  },
  {
   "cell_type": "markdown",
   "id": "da46ff10",
   "metadata": {},
   "source": [
    "<br>\n",
    "Q2. What is the difference between the functions loc and iloc in pandas.DataFrame?\n"
   ]
  },
  {
   "cell_type": "markdown",
   "id": "6881112a",
   "metadata": {},
   "source": [
    "Difference between loc and iloc are as follows:\n",
    "\n",
    "1. loc is used for label-based indexing, allowing you to select rows and columns using their names or labels.\n",
    "2. iloc is for integer-based indexing, where you select rows and columns by their integer positions, similar to Python lists.\n",
    "3. loc includes the end label in slices, while iloc follows Python's exclusive end behavior, excluding the end position in slices.\n",
    "4. loc is more flexible for selecting data using named indices, while iloc is commonly used for integer-based positional selection."
   ]
  },
  {
   "cell_type": "markdown",
   "id": "6a2810d6",
   "metadata": {},
   "source": [
    "<br>\n",
    "Q3. Reindex the given dataframe using a variable, reindex = [3,0,1,2] and store it in the variable, new_df\n",
    "then find the output for both new_df.loc[2] and new_df.iloc[2]. Did you observe any difference in both the outputs? If so then explain it."
   ]
  },
  {
   "cell_type": "code",
   "execution_count": 3,
   "id": "e1fbd886",
   "metadata": {},
   "outputs": [
    {
     "name": "stdout",
     "output_type": "stream",
     "text": [
      "        course_name  duration\n",
      "3     Data Engineer         4\n",
      "0      Data Science         2\n",
      "1  Machine Learning         3\n",
      "2          Big Data         6\n",
      "new_df.loc[2] =  course_name    Big Data\n",
      "duration              6\n",
      "Name: 2, dtype: object\n",
      "\n",
      "new_df.iloc[2] =  course_name    Machine Learning\n",
      "duration                      3\n",
      "Name: 1, dtype: object\n"
     ]
    }
   ],
   "source": [
    "new_df = df.reindex([3,0,1,2])\n",
    "print(new_df)\n",
    "print(\"new_df.loc[2] = \",new_df.loc[2])\n",
    "print()\n",
    "print(\"new_df.iloc[2] = \",new_df.iloc[2])"
   ]
  },
  {
   "cell_type": "markdown",
   "id": "6e4f8392",
   "metadata": {},
   "source": [
    "The difference is clear between both the outputs we have come to the conclusion that as mentioned above too iloc is for integer-based indexing, where you select rows and columns by their integer positions"
   ]
  },
  {
   "cell_type": "markdown",
   "id": "f407e026",
   "metadata": {},
   "source": [
    "<br>\n",
    "Consider following code to answer further questions:"
   ]
  },
  {
   "cell_type": "code",
   "execution_count": 4,
   "id": "12ded68e",
   "metadata": {},
   "outputs": [
    {
     "data": {
      "text/html": [
       "<div>\n",
       "<style scoped>\n",
       "    .dataframe tbody tr th:only-of-type {\n",
       "        vertical-align: middle;\n",
       "    }\n",
       "\n",
       "    .dataframe tbody tr th {\n",
       "        vertical-align: top;\n",
       "    }\n",
       "\n",
       "    .dataframe thead th {\n",
       "        text-align: right;\n",
       "    }\n",
       "</style>\n",
       "<table border=\"1\" class=\"dataframe\">\n",
       "  <thead>\n",
       "    <tr style=\"text-align: right;\">\n",
       "      <th></th>\n",
       "      <th>column_1</th>\n",
       "      <th>column_2</th>\n",
       "      <th>column_3</th>\n",
       "      <th>column_4</th>\n",
       "      <th>column_5</th>\n",
       "      <th>column_6</th>\n",
       "    </tr>\n",
       "  </thead>\n",
       "  <tbody>\n",
       "    <tr>\n",
       "      <th>1</th>\n",
       "      <td>0.478455</td>\n",
       "      <td>0.300483</td>\n",
       "      <td>0.924627</td>\n",
       "      <td>0.493488</td>\n",
       "      <td>0.918921</td>\n",
       "      <td>0.914705</td>\n",
       "    </tr>\n",
       "    <tr>\n",
       "      <th>2</th>\n",
       "      <td>0.804656</td>\n",
       "      <td>0.066733</td>\n",
       "      <td>0.084702</td>\n",
       "      <td>0.659932</td>\n",
       "      <td>0.410448</td>\n",
       "      <td>0.177358</td>\n",
       "    </tr>\n",
       "    <tr>\n",
       "      <th>3</th>\n",
       "      <td>0.910530</td>\n",
       "      <td>0.690076</td>\n",
       "      <td>0.413004</td>\n",
       "      <td>0.936849</td>\n",
       "      <td>0.022139</td>\n",
       "      <td>0.879578</td>\n",
       "    </tr>\n",
       "    <tr>\n",
       "      <th>4</th>\n",
       "      <td>0.055333</td>\n",
       "      <td>0.670719</td>\n",
       "      <td>0.591570</td>\n",
       "      <td>0.160511</td>\n",
       "      <td>0.352107</td>\n",
       "      <td>0.405327</td>\n",
       "    </tr>\n",
       "    <tr>\n",
       "      <th>5</th>\n",
       "      <td>0.206744</td>\n",
       "      <td>0.790217</td>\n",
       "      <td>0.272099</td>\n",
       "      <td>0.395974</td>\n",
       "      <td>0.721759</td>\n",
       "      <td>0.482432</td>\n",
       "    </tr>\n",
       "    <tr>\n",
       "      <th>6</th>\n",
       "      <td>0.456752</td>\n",
       "      <td>0.050090</td>\n",
       "      <td>0.212724</td>\n",
       "      <td>0.084463</td>\n",
       "      <td>0.719640</td>\n",
       "      <td>0.619743</td>\n",
       "    </tr>\n",
       "  </tbody>\n",
       "</table>\n",
       "</div>"
      ],
      "text/plain": [
       "   column_1  column_2  column_3  column_4  column_5  column_6\n",
       "1  0.478455  0.300483  0.924627  0.493488  0.918921  0.914705\n",
       "2  0.804656  0.066733  0.084702  0.659932  0.410448  0.177358\n",
       "3  0.910530  0.690076  0.413004  0.936849  0.022139  0.879578\n",
       "4  0.055333  0.670719  0.591570  0.160511  0.352107  0.405327\n",
       "5  0.206744  0.790217  0.272099  0.395974  0.721759  0.482432\n",
       "6  0.456752  0.050090  0.212724  0.084463  0.719640  0.619743"
      ]
     },
     "execution_count": 4,
     "metadata": {},
     "output_type": "execute_result"
    }
   ],
   "source": [
    "import pandas as pd\n",
    "import numpy as np\n",
    "columns = ['column_1', 'column_2', 'column_3', 'column_4', 'column_5', 'column_6']\n",
    "indices = [1,2,3,4,5,6]\n",
    "#Creating a dataframe:\n",
    "df1 = pd.DataFrame(np.random.rand(6,6), columns = columns, index = indices)\n",
    "df1"
   ]
  },
  {
   "cell_type": "markdown",
   "id": "fac4258a",
   "metadata": {},
   "source": [
    "<br>\n",
    "Q4. Write a code to find the following statistical measurements for the above dataframe df1:<br>\n",
    "(i) mean of each and every column present in the dataframe.<br>\n",
    "(ii) standard deviation of column, ‘column_2’"
   ]
  },
  {
   "cell_type": "code",
   "execution_count": 5,
   "id": "cc44ba5c",
   "metadata": {},
   "outputs": [
    {
     "name": "stdout",
     "output_type": "stream",
     "text": [
      "mean of column_1 is = 0.48541174247991553\n",
      "mean of column_2 is = 0.4280531082687355\n",
      "mean of column_3 is = 0.41645453151109457\n",
      "mean of column_4 is = 0.4552028755486311\n",
      "mean of column_5 is = 0.5241690580467647\n",
      "mean of column_6 is = 0.5798571940228162\n",
      "standard deviation of column_1 is = 0.3304953030758991\n",
      "standard deviation of column_2 is = 0.3311762102905503\n"
     ]
    }
   ],
   "source": [
    "def calculate_stats(df):\n",
    "    for i in df.columns:\n",
    "        print(f\"mean of {i} is = {df[i].mean()}\")\n",
    "    print(f\"standard deviation of column_1 is = {df['column_1'].std()}\")\n",
    "    print(f\"standard deviation of column_2 is = {df.column_2.std()}\")\n",
    "calculate_stats(df1)"
   ]
  },
  {
   "cell_type": "markdown",
   "id": "7b0ddf83",
   "metadata": {},
   "source": [
    "<br>\n",
    "Q5. Replace the data present in the second row of column, ‘column_2’ by a string variable then find the\n",
    "mean of column, column_2.\n",
    "If you are getting errors in executing it then explain why.\n",
    "[Hint: To replace the data use df1.loc[] and equate this to string data of your choice.]"
   ]
  },
  {
   "cell_type": "code",
   "execution_count": 37,
   "id": "2a5b61a9",
   "metadata": {},
   "outputs": [
    {
     "name": "stdout",
     "output_type": "stream",
     "text": [
      "unsupported operand type(s) for +: 'float' and 'str'\n"
     ]
    }
   ],
   "source": [
    "df1['column_2'].iloc[1] = \"String\"\n",
    "df1\n",
    "df1['column_1'].mean()\n",
    "try:\n",
    "    df1['column_2'].mean()\n",
    "except Exception as e:\n",
    "    print(e)"
   ]
  },
  {
   "cell_type": "markdown",
   "id": "db35b8e7",
   "metadata": {},
   "source": [
    "We are getting this error because there is a string value between in the column_2 and we can't calculate mean of an str value"
   ]
  },
  {
   "cell_type": "markdown",
   "id": "0a039c9f",
   "metadata": {},
   "source": [
    "<br>\n",
    "Q6. What do you understand about the windows function in pandas and list the types of windows\n",
    "functions?"
   ]
  },
  {
   "cell_type": "markdown",
   "id": "8cbb0f1e",
   "metadata": {},
   "source": [
    "In pandas, a \"window function\" (also known as a \"windowing\" or \"windowed\" function) is a powerful tool for performing various operations on a specific subset of data within a DataFrame, typically defined by a rolling or expanding window of rows. These functions are useful for tasks that involve calculating aggregated values, such as moving averages, cumulative sums, or rank-based operations, over a specified window of rows in the dataset. "
   ]
  },
  {
   "cell_type": "markdown",
   "id": "57f8d9b3",
   "metadata": {},
   "source": [
    "<br>\n",
    "Q7. Write a code to print only the current month and year at the time of answering this question.\n",
    "[Hint: Use pandas.datetime function]"
   ]
  },
  {
   "cell_type": "code",
   "execution_count": 6,
   "id": "2f9faf1a",
   "metadata": {},
   "outputs": [
    {
     "data": {
      "text/plain": [
       "Timestamp('2023-09-16 00:00:00')"
      ]
     },
     "execution_count": 6,
     "metadata": {},
     "output_type": "execute_result"
    }
   ],
   "source": [
    "pd.to_datetime('today').normalize()"
   ]
  },
  {
   "cell_type": "markdown",
   "id": "9020a30f",
   "metadata": {},
   "source": [
    "<br>\n",
    "Q8. Write a Python program that takes in two dates as input (in the format YYYY-MM-DD) and\n",
    "calculates the difference between them in days, hours, and minutes using Pandas time delta. The\n",
    "program should prompt the user to enter the dates and display the result.\n",
    "Did you observe any difference in both the outputs? If so then explain it."
   ]
  },
  {
   "cell_type": "code",
   "execution_count": 7,
   "id": "08919672",
   "metadata": {},
   "outputs": [
    {
     "name": "stdout",
     "output_type": "stream",
     "text": [
      "Enter the first date (YYYY-MM-DD): 2002-08-21\n",
      "Enter the second date (YYYY-MM-DD): 2002-07-01\n",
      "Time difference: -51 days, 0 hours, 0 minutes\n"
     ]
    }
   ],
   "source": [
    "date1_str = input(\"Enter the first date (YYYY-MM-DD): \")\n",
    "date2_str = input(\"Enter the second date (YYYY-MM-DD): \")\n",
    "\n",
    "date1 = pd.to_datetime(date1_str)\n",
    "date2 = pd.to_datetime(date2_str)\n",
    "\n",
    "time_diff = date2 - date1\n",
    "\n",
    "days = time_diff.days\n",
    "hours, remainder = divmod(time_diff.seconds, 3600)\n",
    "minutes = remainder // 60\n",
    "\n",
    "print(f\"Time difference: {days} days, {hours} hours, {minutes} minutes\")"
   ]
  },
  {
   "cell_type": "markdown",
   "id": "aba0f4a0",
   "metadata": {},
   "source": [
    "<br>\n",
    "Q9. Write a Python program that reads a CSV file containing categorical data and converts a specified\n",
    "column to a categorical data type. The program should prompt the user to enter the file path, column\n",
    "name, and category order, and then display the sorted data."
   ]
  },
  {
   "cell_type": "markdown",
   "id": "606f5ac4",
   "metadata": {},
   "source": [
    "<br>\n",
    "Q10. Write a Python program that reads a CSV file containing sales data for different products and\n",
    "visualizes the data using a stacked bar chart to show the sales of each product category over time. The\n",
    "program should prompt the user to enter the file path and display the chart."
   ]
  },
  {
   "cell_type": "code",
   "execution_count": 8,
   "id": "fb7120a2",
   "metadata": {},
   "outputs": [
    {
     "name": "stdout",
     "output_type": "stream",
     "text": [
      "Enter FIle Path = sales.csv\n",
      "  product  sales(in unit)\n",
      "0     car              20\n",
      "1    bile              15\n",
      "2   truck               7\n",
      "3    boat               3\n",
      "4     jet               9\n"
     ]
    },
    {
     "data": {
      "text/plain": [
       "<AxesSubplot:xlabel='product'>"
      ]
     },
     "execution_count": 8,
     "metadata": {},
     "output_type": "execute_result"
    },
    {
     "data": {
      "text/plain": [
       "<Figure size 720x360 with 0 Axes>"
      ]
     },
     "metadata": {},
     "output_type": "display_data"
    },
    {
     "data": {
      "image/png": "[encoded data removed]",
      "text/plain": [
       "<Figure size 432x288 with 1 Axes>"
      ]
     },
     "metadata": {
      "needs_background": "light"
     },
     "output_type": "display_data"
    }
   ],
   "source": [
    "import matplotlib.pyplot as plt\n",
    "\n",
    "csvFilePath = input(\"Enter FIle Path = \")\n",
    "\n",
    "csvFile = pd.read_csv(csvFilePath)\n",
    "print(csvFile)\n",
    "fig = plt.figure(figsize = (10, 5))\n",
    "# bar_chart = plt.bar(csvFile)\n",
    "csvFile.plot.bar(x='product')"
   ]
  },
  {
   "cell_type": "markdown",
   "id": "7ffbe9a9",
   "metadata": {},
   "source": [
    "<br>\n",
    "Q11. You are given a CSV file containing student data that includes the student ID and their test score. Write\n",
    "a Python program that reads the CSV file, calculates the mean, median, and mode of the test scores, and\n",
    "displays the results in a table.\n",
    "The program should do the following:\n",
    "\n",
    "1. Prompt the user to enter the file path of the CSV file containing the student data\n",
    "2. Read the CSV file into a Pandas DataFrame\n",
    "3. Calculate the mean, median, and mode of the test scores using Pandas tools\n",
    "4. Display the mean, median, and mode in a table.\n",
    "\n",
    "Assume the CSV file contains the following columns\n",
    "\n",
    "1. Student ID: The ID of the student\n",
    "2. Test Score: The score of the student's test.\n",
    "\n",
    "Example usage of the program:\n",
    "Enter the file path of the CSV file containing the student data: student_data.csv\n",
    "\n",
    "| Statistic | Value    |\n",
    "|-----------|----------|\n",
    "| Mean      | 79.6     |\n",
    "| Median    | 82       |\n",
    "| Mode      | 85, 90   |\n",
    "\n",
    "Assume that the CSV file student_data.csv contains the following data:\n",
    "\n",
    "| Student ID | Test Score |\n",
    "|------------|------------|\n",
    "| 1          | 85         |\n",
    "| 2          | 90         |\n",
    "| 3          | 80         |\n",
    "| 4          | 75         |\n",
    "| 5          | 85         |\n",
    "| 6          | 82         |\n",
    "| 7          | 78         |\n",
    "| 8          | 85         |\n",
    "| 9          | 90         |\n",
    "| 10         | 85         |\n",
    "\n",
    "The program should calculate the mean, median, and mode of the test scores and display the results\n",
    "in a table."
   ]
  },
  {
   "cell_type": "code",
   "execution_count": 17,
   "id": "7b368ce4",
   "metadata": {},
   "outputs": [
    {
     "data": {
      "text/html": [
       "<div>\n",
       "<style scoped>\n",
       "    .dataframe tbody tr th:only-of-type {\n",
       "        vertical-align: middle;\n",
       "    }\n",
       "\n",
       "    .dataframe tbody tr th {\n",
       "        vertical-align: top;\n",
       "    }\n",
       "\n",
       "    .dataframe thead th {\n",
       "        text-align: right;\n",
       "    }\n",
       "</style>\n",
       "<table border=\"1\" class=\"dataframe\">\n",
       "  <thead>\n",
       "    <tr style=\"text-align: right;\">\n",
       "      <th></th>\n",
       "      <th>Statistic</th>\n",
       "      <th>Values</th>\n",
       "    </tr>\n",
       "  </thead>\n",
       "  <tbody>\n",
       "    <tr>\n",
       "      <th>0</th>\n",
       "      <td>Mean</td>\n",
       "      <td>83.5</td>\n",
       "    </tr>\n",
       "    <tr>\n",
       "      <th>1</th>\n",
       "      <td>Median</td>\n",
       "      <td>85.0</td>\n",
       "    </tr>\n",
       "    <tr>\n",
       "      <th>2</th>\n",
       "      <td>Mode</td>\n",
       "      <td>0    85\n",
       "Name: Test Score, dtype: int64</td>\n",
       "    </tr>\n",
       "  </tbody>\n",
       "</table>\n",
       "</div>"
      ],
      "text/plain": [
       "  Statistic                                  Values\n",
       "0      Mean                                    83.5\n",
       "1    Median                                    85.0\n",
       "2      Mode  0    85\n",
       "Name: Test Score, dtype: int64"
      ]
     },
     "execution_count": 17,
     "metadata": {},
     "output_type": "execute_result"
    }
   ],
   "source": [
    "# csvFilePath = input(\"Enter FIle Path = \")\n",
    "csvFilePath = \"student_data.csv\"\n",
    "df = pd.read_csv(csvFilePath)\n",
    "output_df = pd.DataFrame({\n",
    "    \"Statistic\": [\"Mean\",\"Median\",\"Mode\"],\n",
    "    \"Values\" : [df[\"Test Score\"].mean(),df[\"Test Score\"].median(), df[\"Test Score\"].mode()]\n",
    "})\n",
    "output_df"
   ]
  },
  {
   "cell_type": "code",
   "execution_count": 15,
   "id": "c8ffe95f",
   "metadata": {},
   "outputs": [
    {
     "data": {
      "text/html": [
       "<div>\n",
       "<style scoped>\n",
       "    .dataframe tbody tr th:only-of-type {\n",
       "        vertical-align: middle;\n",
       "    }\n",
       "\n",
       "    .dataframe tbody tr th {\n",
       "        vertical-align: top;\n",
       "    }\n",
       "\n",
       "    .dataframe thead th {\n",
       "        text-align: right;\n",
       "    }\n",
       "</style>\n",
       "<table border=\"1\" class=\"dataframe\">\n",
       "  <thead>\n",
       "    <tr style=\"text-align: right;\">\n",
       "      <th></th>\n",
       "      <th>Student ID</th>\n",
       "      <th>Test Score</th>\n",
       "    </tr>\n",
       "  </thead>\n",
       "  <tbody>\n",
       "    <tr>\n",
       "      <th>0</th>\n",
       "      <td>1</td>\n",
       "      <td>85</td>\n",
       "    </tr>\n",
       "    <tr>\n",
       "      <th>1</th>\n",
       "      <td>2</td>\n",
       "      <td>90</td>\n",
       "    </tr>\n",
       "    <tr>\n",
       "      <th>2</th>\n",
       "      <td>3</td>\n",
       "      <td>80</td>\n",
       "    </tr>\n",
       "    <tr>\n",
       "      <th>3</th>\n",
       "      <td>4</td>\n",
       "      <td>75</td>\n",
       "    </tr>\n",
       "    <tr>\n",
       "      <th>4</th>\n",
       "      <td>5</td>\n",
       "      <td>85</td>\n",
       "    </tr>\n",
       "    <tr>\n",
       "      <th>5</th>\n",
       "      <td>6</td>\n",
       "      <td>82</td>\n",
       "    </tr>\n",
       "    <tr>\n",
       "      <th>6</th>\n",
       "      <td>7</td>\n",
       "      <td>78</td>\n",
       "    </tr>\n",
       "    <tr>\n",
       "      <th>7</th>\n",
       "      <td>8</td>\n",
       "      <td>85</td>\n",
       "    </tr>\n",
       "    <tr>\n",
       "      <th>8</th>\n",
       "      <td>9</td>\n",
       "      <td>90</td>\n",
       "    </tr>\n",
       "    <tr>\n",
       "      <th>9</th>\n",
       "      <td>10</td>\n",
       "      <td>85</td>\n",
       "    </tr>\n",
       "  </tbody>\n",
       "</table>\n",
       "</div>"
      ],
      "text/plain": [
       "   Student ID  Test Score\n",
       "0           1          85\n",
       "1           2          90\n",
       "2           3          80\n",
       "3           4          75\n",
       "4           5          85\n",
       "5           6          82\n",
       "6           7          78\n",
       "7           8          85\n",
       "8           9          90\n",
       "9          10          85"
      ]
     },
     "execution_count": 15,
     "metadata": {},
     "output_type": "execute_result"
    }
   ],
   "source": [
    "df"
   ]
  }
 ],
 "metadata": {
  "kernelspec": {
   "display_name": "Python 3 (ipykernel)",
   "language": "python",
   "name": "python3"
  },
  "language_info": {
   "codemirror_mode": {
    "name": "ipython",
    "version": 3
   },
   "file_extension": ".py",
   "mimetype": "text/x-python",
   "name": "python",
   "nbconvert_exporter": "python",
   "pygments_lexer": "ipython3",
   "version": "3.10.4"
  }
 },
 "nbformat": 4,
 "nbformat_minor": 5
}
