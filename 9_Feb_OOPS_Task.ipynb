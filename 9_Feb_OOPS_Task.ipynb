{
 "cells": [
  {
   "cell_type": "markdown",
   "id": "249a767c-8277-41ac-afb7-0a4b4e7bd364",
   "metadata": {},
   "source": [
    "#Q1"
   ]
  },
  {
   "cell_type": "code",
   "execution_count": 7,
   "id": "ebd49107-c34d-4ae2-822a-463ab4fcfbb7",
   "metadata": {},
   "outputs": [],
   "source": [
    "class vehicle:\n",
    "    def __init__(self, name_of_vehicle, max_speed, average_of_vehicle):\n",
    "        self.name = name_of_vehicle\n",
    "        self.max_speed = max_speed\n",
    "        self.average = average_of_vehicle"
   ]
  },
  {
   "cell_type": "code",
   "execution_count": 8,
   "id": "01da0efa-a0bf-43bf-9f80-2bfb44ef942c",
   "metadata": {},
   "outputs": [],
   "source": [
    "car1 = vehicle(\"Toyata\", \"90 KMPH\", 35)"
   ]
  },
  {
   "cell_type": "markdown",
   "id": "220a0961-f852-4439-a69a-e10bf774970b",
   "metadata": {},
   "source": [
    "#Q2"
   ]
  },
  {
   "cell_type": "code",
   "execution_count": 20,
   "id": "564ad68c-36ae-4fd8-beab-0f966c8df0cc",
   "metadata": {},
   "outputs": [],
   "source": [
    "class car(vehicle):\n",
    "    def seating_capacity(self, seats):\n",
    "        self.seats = seats\n",
    "        return self.name,self.seats"
   ]
  },
  {
   "cell_type": "code",
   "execution_count": 21,
   "id": "cd5fee1a-a709-477b-940a-e997e269a61f",
   "metadata": {},
   "outputs": [],
   "source": [
    "car2 = car(\"Ford\",\"78 KMPH\", 24)"
   ]
  },
  {
   "cell_type": "code",
   "execution_count": 22,
   "id": "37bb3728-bd5e-483e-a236-d8209ccca4c8",
   "metadata": {},
   "outputs": [
    {
     "data": {
      "text/plain": [
       "('Ford', 6)"
      ]
     },
     "execution_count": 22,
     "metadata": {},
     "output_type": "execute_result"
    }
   ],
   "source": [
    "car2.seating_capacity(6)"
   ]
  },
  {
   "cell_type": "markdown",
   "id": "e4c5ae7d-91b3-4f0f-9776-1e8612237c67",
   "metadata": {},
   "source": [
    "#Q3"
   ]
  },
  {
   "cell_type": "markdown",
   "id": "d674aac8-5d61-43b1-a6ed-22abef82330b",
   "metadata": {},
   "source": [
    "Multiple Inheritance: \n",
    "When a class can be derived from more than one base class this type of inheritance is called multiple inheritances. In multiple inheritances, all the features of the base classes are inherited into the derived class. \n",
    "Example"
   ]
  },
  {
   "cell_type": "code",
   "execution_count": 33,
   "id": "ab2b64a0-c0bc-4530-a61f-43c3e55e3cb6",
   "metadata": {},
   "outputs": [],
   "source": [
    "class mother:\n",
    "    def __init__(self, name):\n",
    "        self.mothername = name\n",
    "\n",
    "class father:\n",
    "    def __init__(self, name):\n",
    "        self.fathername = name\n",
    "\n",
    "class child(mother,father):\n",
    "    def __init__(self, name):\n",
    "        self.name = name\n",
    "    def get_child_details(self):\n",
    "            print(\"Father :\", self.fathername)\n",
    "            print(\"Mother :\", self.mothername)"
   ]
  },
  {
   "cell_type": "code",
   "execution_count": 34,
   "id": "c64be5e6-b34f-45c8-b3ab-8138e6eaaf7e",
   "metadata": {},
   "outputs": [],
   "source": [
    "child1 = child(\"Raj\")"
   ]
  },
  {
   "cell_type": "code",
   "execution_count": 38,
   "id": "3a8d87f6-ee7b-4ac8-a605-f52ce7116beb",
   "metadata": {},
   "outputs": [
    {
     "name": "stdout",
     "output_type": "stream",
     "text": [
      "Father : Ram\n",
      "Mother : Sita\n"
     ]
    }
   ],
   "source": [
    "child1.fathername = \"Ram\"\n",
    "child1.mothername = \"Sita\"\n",
    "child1.get_child_details()"
   ]
  },
  {
   "cell_type": "markdown",
   "id": "e5e83f59-15eb-407e-91fa-02b8881a9faf",
   "metadata": {},
   "source": [
    "#Q4"
   ]
  },
  {
   "cell_type": "markdown",
   "id": "0061ab2c-ab01-4b97-a786-aede0fcdac25",
   "metadata": {},
   "source": [
    "Getter and setter methods are quite popular in many object-oriented programming languages. So, it’s pretty likely that you’ve heard about them already. As a rough definition, you can say that getters and setters are:\n",
    "\n",
    "Getter: A method that allows you to access an attribute in a given class\n",
    "\n",
    "Setter: A method that allows you to set or mutate the value of an attribute in a class"
   ]
  },
  {
   "cell_type": "code",
   "execution_count": 51,
   "id": "efd32e83-85a0-4232-a538-d93722f6c6dd",
   "metadata": {},
   "outputs": [],
   "source": [
    "class bank:\n",
    "    def __init__(self, cur_balance):\n",
    "        self.__bal = cur_balance\n",
    "    def get_balance(self):\n",
    "        return self.__bal\n",
    "    def deposit(self, amount):\n",
    "        self.__bal += amount"
   ]
  },
  {
   "cell_type": "code",
   "execution_count": 54,
   "id": "a90267a7-7fe1-4b3b-a099-e77db9db243c",
   "metadata": {},
   "outputs": [
    {
     "data": {
      "text/plain": [
       "1100"
      ]
     },
     "execution_count": 54,
     "metadata": {},
     "output_type": "execute_result"
    }
   ],
   "source": [
    "ac1 = bank(1000)\n",
    "ac1.deposit(100)\n",
    "ac1.get_balance()"
   ]
  },
  {
   "cell_type": "markdown",
   "id": "a0b65650-faa4-4d92-b289-76b4120c7130",
   "metadata": {},
   "source": [
    "Method overriding in Python is when you have two methods with the same name that each perform different tasks. This is an important feature of inheritance in Python. In method overriding, the child class can change its functions that are defined by its ancestral classes.\n",
    "\n",
    "Example"
   ]
  },
  {
   "cell_type": "code",
   "execution_count": 8,
   "id": "b07439aa-e326-4bca-9b74-189392c12b06",
   "metadata": {},
   "outputs": [
    {
     "name": "stdout",
     "output_type": "stream",
     "text": [
      "Area of Rectangle 15\n",
      "Area of Circle 314.0\n"
     ]
    }
   ],
   "source": [
    "class rectangle:\n",
    "    def __init__(rect, l , b):\n",
    "        rect.l = l\n",
    "        rect.b = b\n",
    "    def area(rect):\n",
    "        return f\"Area of Rectangle {rect.l * rect.b}\"\n",
    "class circle:\n",
    "    def __init__(self, r):\n",
    "        self.r = r\n",
    "    def area(self):\n",
    "        return f\"Area of Circle {self.r * self.r * 3.14}\"\n",
    "re1 = rectangle(3,5)\n",
    "print(re1.area())\n",
    "cr1 = circle(10)\n",
    "print(cr1.area())"
   ]
  }
 ],
 "metadata": {
  "kernelspec": {
   "display_name": "Python 3 (ipykernel)",
   "language": "python",
   "name": "python3"
  },
  "language_info": {
   "codemirror_mode": {
    "name": "ipython",
    "version": 3
   },
   "file_extension": ".py",
   "mimetype": "text/x-python",
   "name": "python",
   "nbconvert_exporter": "python",
   "pygments_lexer": "ipython3",
   "version": "3.10.8"
  }
 },
 "nbformat": 4,
 "nbformat_minor": 5
}
