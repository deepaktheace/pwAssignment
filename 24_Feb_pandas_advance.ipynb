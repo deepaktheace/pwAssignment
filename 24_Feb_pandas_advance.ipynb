{
 "cells": [
  {
   "cell_type": "markdown",
   "id": "cf277e93",
   "metadata": {},
   "source": [
    "Q1. List any five functions of the pandas library with execution."
   ]
  },
  {
   "cell_type": "markdown",
   "id": "2f69913d",
   "metadata": {},
   "source": [
    "Five functions of pandas library are:\n",
    "1. pandas.DataFrame\n",
    "2. pandas.read_csv\n",
    "3. df.head()\n",
    "4. df.shape\n",
    "5. df.to_csv"
   ]
  },
  {
   "cell_type": "code",
   "execution_count": 75,
   "id": "1db6a30f",
   "metadata": {},
   "outputs": [
    {
     "name": "stdout",
     "output_type": "stream",
     "text": [
      "            A    B      C\n",
      "0  2022-01-01  100   True\n",
      "1  2022-02-01  200  False\n",
      "2  2022-03-01  300   True\n",
      "\n",
      "\n",
      "df.to_csv\n",
      "            A    B      C\n",
      "0  2022-01-01  100   True\n",
      "1  2022-02-01  200  False\n",
      "2  2022-03-01  300   True\n",
      "\n",
      "\n",
      "df.head()\n",
      "            A    B      C\n",
      "0  2022-01-01  100   True\n",
      "1  2022-02-01  200  False\n",
      "\n",
      "\n",
      "df.shape()\n",
      "(3, 3)\n"
     ]
    }
   ],
   "source": [
    "import pandas as pd \n",
    "\n",
    "data = {'A': ['2022-01-01', '2022-02-01', '2022-03-01'], 'B': [100, 200, 300], 'C':[True,False,True]}\n",
    "\n",
    "df = pd.DataFrame(data)\n",
    "print(df)\n",
    "print(\"\\n\\ndf.to_csv\")\n",
    "df.to_csv(\"data.csv\",index=False)\n",
    "df = pd.read_csv('data.csv')\n",
    "print(df)\n",
    "print(\"\\n\\ndf.head()\")\n",
    "print(df.head(2))\n",
    "print(\"\\n\\ndf.shape()\")\n",
    "print(df.shape)"
   ]
  },
  {
   "cell_type": "markdown",
   "id": "f0af822a",
   "metadata": {},
   "source": [
    "<br>\n",
    "Q2. Given a Pandas DataFrame df with columns 'A', 'B', and 'C', write a Python function to re-index the\n",
    "DataFrame with a new index that starts from 1 and increments by 2 for each row."
   ]
  },
  {
   "cell_type": "code",
   "execution_count": 76,
   "id": "e0d72780",
   "metadata": {},
   "outputs": [
    {
     "name": "stdout",
     "output_type": "stream",
     "text": [
      "            A    B      C\n",
      "1  2022-01-01  100   True\n",
      "3  2022-02-01  200  False\n",
      "5  2022-03-01  300   True\n"
     ]
    }
   ],
   "source": [
    "def reindex_dataframe(df):\n",
    "    df.reset_index(drop=True, inplace=True)\n",
    "    new_index = pd.Series(range(1, 2 * len(df), 2))\n",
    "    df.index = new_index\n",
    "reindex_dataframe(df)\n",
    "print(df)"
   ]
  },
  {
   "cell_type": "markdown",
   "id": "06025cbf",
   "metadata": {},
   "source": [
    "<br>\n",
    "Q3. You have a Pandas DataFrame df with a column named 'Values'. Write a Python function that\n",
    "iterates over the DataFrame and calculates the sum of the first three values in the 'Values' column. The\n",
    "function should print the sum to the console.\n",
    "For example, if the 'Values' column of df contains the values [10, 20, 30, 40, 50], your function should\n",
    "calculate and print the sum of the first three values, which is 60.\n"
   ]
  },
  {
   "cell_type": "code",
   "execution_count": 77,
   "id": "9188aa1b",
   "metadata": {},
   "outputs": [
    {
     "name": "stdout",
     "output_type": "stream",
     "text": [
      "Sum of the first 3 values: 60\n"
     ]
    }
   ],
   "source": [
    "def calculate_sum(df,num):\n",
    "    sum = df['Values'].iloc[:num].sum()\n",
    "    print(f\"Sum of the first {num} values:\", sum)\n",
    "\n",
    "dataValues = {'Values': [10, 20, 30, 40, 50]}\n",
    "values_df = pd.DataFrame(dataValues)\n",
    "\n",
    "calculate_sum(values_df,3)"
   ]
  },
  {
   "cell_type": "markdown",
   "id": "0615b5ce",
   "metadata": {},
   "source": [
    "<br>\n",
    "Q4. Given a Pandas DataFrame df with a column 'Text', write a Python function to create a new column\n",
    "'Word_Count' that contains the number of words in each row of the 'Text' column."
   ]
  },
  {
   "cell_type": "code",
   "execution_count": 78,
   "id": "0f5312df",
   "metadata": {},
   "outputs": [
    {
     "data": {
      "text/html": [
       "<div>\n",
       "<style scoped>\n",
       "    .dataframe tbody tr th:only-of-type {\n",
       "        vertical-align: middle;\n",
       "    }\n",
       "\n",
       "    .dataframe tbody tr th {\n",
       "        vertical-align: top;\n",
       "    }\n",
       "\n",
       "    .dataframe thead th {\n",
       "        text-align: right;\n",
       "    }\n",
       "</style>\n",
       "<table border=\"1\" class=\"dataframe\">\n",
       "  <thead>\n",
       "    <tr style=\"text-align: right;\">\n",
       "      <th></th>\n",
       "      <th>Text</th>\n",
       "      <th>Word_Count</th>\n",
       "    </tr>\n",
       "  </thead>\n",
       "  <tbody>\n",
       "    <tr>\n",
       "      <th>0</th>\n",
       "      <td>Deepak</td>\n",
       "      <td>6</td>\n",
       "    </tr>\n",
       "    <tr>\n",
       "      <th>1</th>\n",
       "      <td>Raj</td>\n",
       "      <td>3</td>\n",
       "    </tr>\n",
       "    <tr>\n",
       "      <th>2</th>\n",
       "      <td>Rahul</td>\n",
       "      <td>5</td>\n",
       "    </tr>\n",
       "    <tr>\n",
       "      <th>3</th>\n",
       "      <td>Bharti</td>\n",
       "      <td>6</td>\n",
       "    </tr>\n",
       "    <tr>\n",
       "      <th>4</th>\n",
       "      <td>Naman</td>\n",
       "      <td>5</td>\n",
       "    </tr>\n",
       "  </tbody>\n",
       "</table>\n",
       "</div>"
      ],
      "text/plain": [
       "     Text  Word_Count\n",
       "0  Deepak           6\n",
       "1     Raj           3\n",
       "2   Rahul           5\n",
       "3  Bharti           6\n",
       "4   Naman           5"
      ]
     },
     "execution_count": 78,
     "metadata": {},
     "output_type": "execute_result"
    }
   ],
   "source": [
    "data = {'Text': [\"Deepak\", \"Raj\", \"Rahul\", \"Bharti\", \"Naman\"]}\n",
    "df = pd.DataFrame(data)\n",
    "df['Word_Count'] = df['Text'].map(lambda x: len(x))\n",
    "df"
   ]
  },
  {
   "cell_type": "markdown",
   "id": "3aefba36",
   "metadata": {},
   "source": [
    "<br>\n",
    "Q5. How are DataFrame.size() and DataFrame.shape() different?"
   ]
  },
  {
   "cell_type": "markdown",
   "id": "215341f9",
   "metadata": {},
   "source": [
    "Both are different because DataFrame.size returns the number of elements present in a DataFrame while DataFrame.shape returns the dimensions of DataFrame."
   ]
  },
  {
   "cell_type": "code",
   "execution_count": 79,
   "id": "00dfc64e",
   "metadata": {},
   "outputs": [
    {
     "name": "stdout",
     "output_type": "stream",
     "text": [
      "df.size =  10\n",
      "df.shape =  (5, 2)\n"
     ]
    }
   ],
   "source": [
    "print(\"df.size = \",df.size)\n",
    "print(\"df.shape = \",df.shape)"
   ]
  },
  {
   "cell_type": "markdown",
   "id": "ff8024be",
   "metadata": {},
   "source": [
    "<br>\n",
    "Q6. Which function of pandas do we use to read an excel file?"
   ]
  },
  {
   "cell_type": "markdown",
   "id": "1373100c",
   "metadata": {},
   "source": [
    "As mentioned above Pandas read_csv function is used to read an csv into python file."
   ]
  },
  {
   "cell_type": "markdown",
   "id": "7a66ff5d",
   "metadata": {},
   "source": [
    "<br>\n",
    "Q7. You have a Pandas DataFrame df that contains a column named 'Email' that contains email\n",
    "addresses in the format 'username@domain.com'. Write a Python function that creates a new column\n",
    "'Username' in df that contains only the username part of each email address.\n",
    "The username is the part of the email address that appears before the '@' symbol. For example, if the\n",
    "email address is 'john.doe@example.com', the 'Username' column should contain 'john.doe'. Your\n",
    "function should extract the username from each email address and store it in the new 'Username'\n",
    "column."
   ]
  },
  {
   "cell_type": "code",
   "execution_count": 80,
   "id": "318037a4",
   "metadata": {},
   "outputs": [
    {
     "data": {
      "text/html": [
       "<div>\n",
       "<style scoped>\n",
       "    .dataframe tbody tr th:only-of-type {\n",
       "        vertical-align: middle;\n",
       "    }\n",
       "\n",
       "    .dataframe tbody tr th {\n",
       "        vertical-align: top;\n",
       "    }\n",
       "\n",
       "    .dataframe thead th {\n",
       "        text-align: right;\n",
       "    }\n",
       "</style>\n",
       "<table border=\"1\" class=\"dataframe\">\n",
       "  <thead>\n",
       "    <tr style=\"text-align: right;\">\n",
       "      <th></th>\n",
       "      <th>Email</th>\n",
       "      <th>Username</th>\n",
       "    </tr>\n",
       "  </thead>\n",
       "  <tbody>\n",
       "    <tr>\n",
       "      <th>0</th>\n",
       "      <td>deepak@gmail.com</td>\n",
       "      <td>deepak</td>\n",
       "    </tr>\n",
       "    <tr>\n",
       "      <th>1</th>\n",
       "      <td>raj23@open.ai</td>\n",
       "      <td>raj23</td>\n",
       "    </tr>\n",
       "    <tr>\n",
       "      <th>2</th>\n",
       "      <td>rahul@workforce.com</td>\n",
       "      <td>rahul</td>\n",
       "    </tr>\n",
       "    <tr>\n",
       "      <th>3</th>\n",
       "      <td>bharti543@yahoo.com</td>\n",
       "      <td>bharti543</td>\n",
       "    </tr>\n",
       "    <tr>\n",
       "      <th>4</th>\n",
       "      <td>namanjaink@gmail.com</td>\n",
       "      <td>namanjaink</td>\n",
       "    </tr>\n",
       "  </tbody>\n",
       "</table>\n",
       "</div>"
      ],
      "text/plain": [
       "                  Email    Username\n",
       "0      deepak@gmail.com      deepak\n",
       "1         raj23@open.ai       raj23\n",
       "2   rahul@workforce.com       rahul\n",
       "3   bharti543@yahoo.com   bharti543\n",
       "4  namanjaink@gmail.com  namanjaink"
      ]
     },
     "execution_count": 80,
     "metadata": {},
     "output_type": "execute_result"
    }
   ],
   "source": [
    "data = {'Email': [\"deepak@gmail.com\", \"raj23@open.ai\", \"rahul@workforce.com\", \"bharti543@yahoo.com\", \"namanjaink@gmail.com\"]}\n",
    "df = pd.DataFrame(data)\n",
    "df['Username'] = df['Email'].map(lambda x: x.split(\"@\")[0])\n",
    "df"
   ]
  },
  {
   "cell_type": "markdown",
   "id": "bd9f72c6",
   "metadata": {},
   "source": [
    "<br>\n",
    "Q8. You have a Pandas DataFrame df with columns 'A', 'B', and 'C'. Write a Python function that selects\n",
    "all rows where the value in column 'A' is greater than 5 and the value in column 'B' is less than 10. The\n",
    "function should return a new DataFrame that contains only the selected rows.\n",
    "For example, if df contains the following values:\n",
    "\n",
    "|   | A | B | C |\n",
    "|---|---|---|---|\n",
    "| 0 | 3 | 5 | 1 |\n",
    "| 1 | 8 | 2 | 7 |\n",
    "| 2 | 6 | 9 | 4 |\n",
    "| 3 | 2 | 3 | 5 |\n",
    "| 4 | 9 | 1 | 2 |\n",
    "\n",
    "\n",
    "Your function should select the following rows: \n",
    "\n",
    "|   | A | B | C |\n",
    "|---|---|---|---|\n",
    "| 1 | 8 | 2 | 7 |\n",
    "| 4 | 9 | 1 | 2 |\n",
    "\n",
    "The function should return a new DataFrame that contains only the selected rows."
   ]
  },
  {
   "cell_type": "code",
   "execution_count": 81,
   "id": "f9f578d9",
   "metadata": {},
   "outputs": [
    {
     "name": "stdout",
     "output_type": "stream",
     "text": [
      "   A  B  C\n",
      "0  3  5  1\n",
      "1  8  2  7\n",
      "2  6  9  4\n",
      "3  2  3  5\n",
      "4  9  1  2\n"
     ]
    },
    {
     "data": {
      "text/html": [
       "<div>\n",
       "<style scoped>\n",
       "    .dataframe tbody tr th:only-of-type {\n",
       "        vertical-align: middle;\n",
       "    }\n",
       "\n",
       "    .dataframe tbody tr th {\n",
       "        vertical-align: top;\n",
       "    }\n",
       "\n",
       "    .dataframe thead th {\n",
       "        text-align: right;\n",
       "    }\n",
       "</style>\n",
       "<table border=\"1\" class=\"dataframe\">\n",
       "  <thead>\n",
       "    <tr style=\"text-align: right;\">\n",
       "      <th></th>\n",
       "      <th>A</th>\n",
       "      <th>B</th>\n",
       "      <th>C</th>\n",
       "    </tr>\n",
       "  </thead>\n",
       "  <tbody>\n",
       "    <tr>\n",
       "      <th>1</th>\n",
       "      <td>8</td>\n",
       "      <td>2</td>\n",
       "      <td>7</td>\n",
       "    </tr>\n",
       "    <tr>\n",
       "      <th>2</th>\n",
       "      <td>6</td>\n",
       "      <td>9</td>\n",
       "      <td>4</td>\n",
       "    </tr>\n",
       "    <tr>\n",
       "      <th>4</th>\n",
       "      <td>9</td>\n",
       "      <td>1</td>\n",
       "      <td>2</td>\n",
       "    </tr>\n",
       "  </tbody>\n",
       "</table>\n",
       "</div>"
      ],
      "text/plain": [
       "   A  B  C\n",
       "1  8  2  7\n",
       "2  6  9  4\n",
       "4  9  1  2"
      ]
     },
     "execution_count": 81,
     "metadata": {},
     "output_type": "execute_result"
    }
   ],
   "source": [
    "data = {\"A\":[3,8,6,2,9],\n",
    "        \"B\":[5,2,9,3,1],\n",
    "        \"C\":[1,7,4,5,2]\n",
    "       }\n",
    "df = pd.DataFrame(data)\n",
    "print(df)\n",
    "def filter(df):\n",
    "    return df[(df['A'] > 5) & (df['B'] < 10)]\n",
    "newDf = filter(df)\n",
    "newDf"
   ]
  },
  {
   "cell_type": "markdown",
   "id": "07eaf8b8",
   "metadata": {},
   "source": [
    "<br>\n",
    "Q9. Given a Pandas DataFrame df with a column 'Values', write a Python function to calculate the mean,\n",
    "median, and standard deviation of the values in the 'Values' column."
   ]
  },
  {
   "cell_type": "code",
   "execution_count": 82,
   "id": "00151bd3",
   "metadata": {},
   "outputs": [
    {
     "name": "stdout",
     "output_type": "stream",
     "text": [
      "   Values\n",
      "0      10\n",
      "1      20\n",
      "2      30\n",
      "3      40\n",
      "4      50\n",
      "Mean: 30.0\n",
      "Median: 30.0\n",
      "Standard Deviation: 15.811388300841896\n"
     ]
    }
   ],
   "source": [
    "print(values_df)\n",
    "\n",
    "def calculate_stats(df):\n",
    "    mean_value = df['Values'].mean()\n",
    "    median_value = df['Values'].median()\n",
    "    std_deviation = df['Values'].std()\n",
    "    \n",
    "    return mean_value, median_value, std_deviation\n",
    "\n",
    "result = calculate_stats(values_df)\n",
    "print(\"Mean:\", result[0])\n",
    "print(\"Median:\", result[1])\n",
    "print(\"Standard Deviation:\", result[2])"
   ]
  },
  {
   "cell_type": "markdown",
   "id": "982bab21",
   "metadata": {},
   "source": [
    "<br>\n",
    "Q10. Given a Pandas DataFrame df with a column 'Sales' and a column 'Date', write a Python function to\n",
    "create a new column 'MovingAverage' that contains the moving average of the sales for the past 7 days\n",
    "for each row in the DataFrame. The moving average should be calculated using a window of size 7 and\n",
    "should include the current day."
   ]
  },
  {
   "cell_type": "code",
   "execution_count": 83,
   "id": "816b6319",
   "metadata": {},
   "outputs": [
    {
     "name": "stdout",
     "output_type": "stream",
     "text": [
      "                         Date  Sales  MovingAverage\n",
      "29 2023-08-12 17:05:32.106507     80      80.000000\n",
      "28 2023-08-13 17:05:32.106507     70      75.000000\n",
      "27 2023-08-14 17:05:32.106507     81      77.000000\n",
      "26 2023-08-15 17:05:32.106507     21      63.000000\n",
      "25 2023-08-16 17:05:32.106507     10      52.400000\n",
      "24 2023-08-17 17:05:32.106507     73      55.833333\n",
      "23 2023-08-18 17:05:32.106507     78      59.000000\n",
      "22 2023-08-19 17:05:32.106507     26      51.285714\n",
      "21 2023-08-20 17:05:32.106507     38      46.714286\n",
      "20 2023-08-21 17:05:32.106507     82      46.857143\n",
      "19 2023-08-22 17:05:32.106507     89      56.571429\n",
      "18 2023-08-23 17:05:32.106507     47      61.857143\n",
      "17 2023-08-24 17:05:32.106507     88      64.000000\n",
      "16 2023-08-25 17:05:32.106507     40      58.571429\n",
      "15 2023-08-26 17:05:32.106507     66      64.285714\n",
      "14 2023-08-27 17:05:32.106507     59      67.285714\n",
      "13 2023-08-28 17:05:32.106507     13      57.428571\n",
      "12 2023-08-29 17:05:32.106507     89      57.428571\n",
      "11 2023-08-30 17:05:32.106507     89      63.428571\n",
      "10 2023-08-31 17:05:32.106507     71      61.000000\n",
      "9  2023-09-01 17:05:32.106507     88      67.857143\n",
      "8  2023-09-02 17:05:32.106507     37      63.714286\n",
      "7  2023-09-03 17:05:32.106507     22      58.428571\n",
      "6  2023-09-04 17:05:32.106507     84      68.571429\n",
      "5  2023-09-05 17:05:32.106507     10      57.285714\n",
      "4  2023-09-06 17:05:32.106507     68      54.285714\n",
      "3  2023-09-07 17:05:32.106507     68      53.857143\n",
      "2  2023-09-08 17:05:32.106507     65      50.571429\n",
      "1  2023-09-09 17:05:32.106507     48      52.142857\n",
      "0  2023-09-10 17:05:32.106507     45      55.428571\n"
     ]
    }
   ],
   "source": [
    "import numpy as np\n",
    "from datetime import datetime, timedelta\n",
    "\n",
    "# Create sample data for the DataFrame\n",
    "np.random.seed(0)\n",
    "date_today = datetime.now()\n",
    "date_list = [date_today - timedelta(days=x) for x in range(0, 30)]\n",
    "sales_data = np.random.randint(1, 101, size=len(date_list))\n",
    "\n",
    "# Create the DataFrame\n",
    "df = pd.DataFrame({'Date': date_list, 'Sales': sales_data})\n",
    "\n",
    "# Function to calculate the moving average\n",
    "def calculate_moving_average(df):\n",
    "    # Sort the DataFrame by the 'Date' column if it's not already sorted\n",
    "    df['Date'] = pd.to_datetime(df['Date'])\n",
    "    df.sort_values(by='Date', inplace=True)\n",
    "    \n",
    "    # Calculate the moving average with a window of size 7\n",
    "    df['MovingAverage'] = df['Sales'].rolling(window=7, min_periods=1).mean()\n",
    "    \n",
    "    return df\n",
    "\n",
    "# Calculate the moving average and store it in the DataFrame\n",
    "df = calculate_moving_average(df)\n",
    "\n",
    "# Print the resulting DataFrame\n",
    "print(df)\n"
   ]
  },
  {
   "cell_type": "markdown",
   "id": "a08e8647",
   "metadata": {},
   "source": [
    "<br>\n",
    "Q11. You have a Pandas DataFrame df with a column 'Date'. Write a Python function that creates a new\n",
    "column 'Weekday' in the DataFrame. The 'Weekday' column should contain the weekday name (e.g.\n",
    "Monday, Tuesday) corresponding to each date in the 'Date' column.\n",
    "For example, if df contains the following values:\n",
    "\n",
    "|    | Date       |\n",
    "|---:|:-----------|\n",
    "|  0 | 2023-01-01 |\n",
    "|  1 | 2023-01-02 |\n",
    "|  2 | 2023-01-03 |\n",
    "|  3 | 2023-01-04 |\n",
    "|  4 | 2023-01-05 |\n",
    "\n",
    "Your function should create the following DataFrame:\n",
    "\n",
    "Date Weekday\n",
    "\n",
    "|    | Date       | Day       |\n",
    "|---:|:-----------|:----------|\n",
    "|  0 | 2023-01-01 | Sunday    |\n",
    "|  1 | 2023-01-02 | Monday    |\n",
    "|  2 | 2023-01-03 | Tuesday   |\n",
    "|  3 | 2023-01-04 | Wednesday |\n",
    "|  4 | 2023-01-05 | Thursday  |\n",
    "\n",
    "\n",
    "The function should return the modified DataFrame."
   ]
  },
  {
   "cell_type": "code",
   "execution_count": 84,
   "id": "117d8dbd",
   "metadata": {},
   "outputs": [
    {
     "name": "stdout",
     "output_type": "stream",
     "text": [
      "         Date\n",
      "0  2023-01-01\n",
      "1  2023-01-02\n",
      "2  2023-01-03\n",
      "3  2023-01-04\n",
      "4  2023-01-05\n"
     ]
    },
    {
     "data": {
      "text/html": [
       "<div>\n",
       "<style scoped>\n",
       "    .dataframe tbody tr th:only-of-type {\n",
       "        vertical-align: middle;\n",
       "    }\n",
       "\n",
       "    .dataframe tbody tr th {\n",
       "        vertical-align: top;\n",
       "    }\n",
       "\n",
       "    .dataframe thead th {\n",
       "        text-align: right;\n",
       "    }\n",
       "</style>\n",
       "<table border=\"1\" class=\"dataframe\">\n",
       "  <thead>\n",
       "    <tr style=\"text-align: right;\">\n",
       "      <th></th>\n",
       "      <th>Date</th>\n",
       "      <th>Weekday</th>\n",
       "    </tr>\n",
       "  </thead>\n",
       "  <tbody>\n",
       "    <tr>\n",
       "      <th>0</th>\n",
       "      <td>2023-01-01</td>\n",
       "      <td>Sunday</td>\n",
       "    </tr>\n",
       "    <tr>\n",
       "      <th>1</th>\n",
       "      <td>2023-01-02</td>\n",
       "      <td>Monday</td>\n",
       "    </tr>\n",
       "    <tr>\n",
       "      <th>2</th>\n",
       "      <td>2023-01-03</td>\n",
       "      <td>Tuesday</td>\n",
       "    </tr>\n",
       "    <tr>\n",
       "      <th>3</th>\n",
       "      <td>2023-01-04</td>\n",
       "      <td>Wednesday</td>\n",
       "    </tr>\n",
       "    <tr>\n",
       "      <th>4</th>\n",
       "      <td>2023-01-05</td>\n",
       "      <td>Thursday</td>\n",
       "    </tr>\n",
       "  </tbody>\n",
       "</table>\n",
       "</div>"
      ],
      "text/plain": [
       "        Date    Weekday\n",
       "0 2023-01-01     Sunday\n",
       "1 2023-01-02     Monday\n",
       "2 2023-01-03    Tuesday\n",
       "3 2023-01-04  Wednesday\n",
       "4 2023-01-05   Thursday"
      ]
     },
     "execution_count": 84,
     "metadata": {},
     "output_type": "execute_result"
    }
   ],
   "source": [
    "data = {\n",
    "    'Date': ['2023-01-01', '2023-01-02', '2023-01-03', '2023-01-04', '2023-01-05']\n",
    "}\n",
    "\n",
    "date_df = pd.DataFrame(data)\n",
    "print(date_df)\n",
    "\n",
    "\n",
    "def add_weekday_column(df):\n",
    "    # Convert the 'Date' column to a datetime type\n",
    "    df['Date'] = pd.to_datetime(df['Date'])\n",
    "    \n",
    "    # Add a new 'Weekday' column with the weekday names\n",
    "    df['Weekday'] = df['Date'].dt.strftime('%A')\n",
    "    \n",
    "    return df\n",
    "\n",
    "weekend_df = add_weekday_column(date_df)\n",
    "weekend_df\n"
   ]
  },
  {
   "cell_type": "markdown",
   "id": "ae888a41",
   "metadata": {},
   "source": [
    "<br>\n",
    "Q12. Given a Pandas DataFrame df with a column 'Date' that contains timestamps, write a Python\n",
    "function to select all rows where the date is between '2023-01-01' and '2023-01-31'."
   ]
  },
  {
   "cell_type": "code",
   "execution_count": 85,
   "id": "34dedfaa",
   "metadata": {},
   "outputs": [
    {
     "name": "stdout",
     "output_type": "stream",
     "text": [
      "        Date    Weekday\n",
      "0 2023-01-01     Sunday\n",
      "1 2023-01-02     Monday\n",
      "2 2023-01-03    Tuesday\n",
      "3 2023-01-04  Wednesday\n",
      "4 2023-01-05   Thursday\n"
     ]
    }
   ],
   "source": [
    "def filter_df_with_date(df,start_date,end_date):\n",
    "    \n",
    "    start_date = pd.to_datetime(start_date)\n",
    "    end_date = pd.to_datetime(end_date)\n",
    "    filtered_df = df[(df['Date'] >= start_date) & (df['Date'] <= end_date)]\n",
    "    return filtered_df\n",
    "print(filter_df_with_date(date_df,'2023-01-01','2023-01-31'))"
   ]
  },
  {
   "cell_type": "markdown",
   "id": "925918bd",
   "metadata": {},
   "source": [
    "<br>\n",
    "Q13. To use the basic functions of pandas, what is the first and foremost necessary library that needs to\n",
    "be imported?"
   ]
  },
  {
   "cell_type": "markdown",
   "id": "08375e20",
   "metadata": {},
   "source": [
    "As per the operations done above we came to the conclusion that to perfomr any kind of functionality of pandas we first need to import the pandas libray. Generally pandas is imported as 'pd'. "
   ]
  },
  {
   "cell_type": "code",
   "execution_count": null,
   "id": "6f842d37",
   "metadata": {},
   "outputs": [],
   "source": []
  }
 ],
 "metadata": {
  "kernelspec": {
   "display_name": "Python 3 (ipykernel)",
   "language": "python",
   "name": "python3"
  },
  "language_info": {
   "codemirror_mode": {
    "name": "ipython",
    "version": 3
   },
   "file_extension": ".py",
   "mimetype": "text/x-python",
   "name": "python",
   "nbconvert_exporter": "python",
   "pygments_lexer": "ipython3",
   "version": "3.10.4"
  }
 },
 "nbformat": 4,
 "nbformat_minor": 5
}
