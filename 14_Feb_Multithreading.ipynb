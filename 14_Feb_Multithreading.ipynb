{
 "cells": [
  {
   "cell_type": "markdown",
   "id": "fc9ba686",
   "metadata": {},
   "source": [
    "QI. What is multithreading in python? Why is it used? Name the module used to handle threads in python."
   ]
  },
  {
   "cell_type": "markdown",
   "id": "8405ba9d",
   "metadata": {},
   "source": [
    "\n",
    "Multithreading in Python refers to the concurrent execution of multiple threads within a single process. \n",
    "\n",
    "A thread is a lightweight, independent unit of execution that can perform tasks concurrently with other threads in the same program. \n",
    "\n",
    "Python provides a built-in module called threading to work with threads."
   ]
  },
  {
   "cell_type": "markdown",
   "id": "954f8752",
   "metadata": {},
   "source": [
    "<br>\n",
    "Q2. Why threading module used? Write the use of the following functions:\n",
    "\n",
    "1. activeCount()\n",
    "2. currentThread()\n",
    "3. enumerate()"
   ]
  },
  {
   "cell_type": "markdown",
   "id": "25dd5d26",
   "metadata": {},
   "source": [
    "The threading module in Python is used for creating and managing threads in a Python program. It provides a higher-level interface for working with threads compared to the lower-level thread module. \n",
    "\n",
    "Uses of functions are as follows:\n",
    "\n",
    "1. activeCount():\n",
    "\n",
    "The activeCount() function is used to retrieve the number of Thread objects currently alive and in the system. It returns an integer representing the count of active threads.\n",
    "\n",
    "2. currentThread():\n",
    "\n",
    "The currentThread() function is used to retrieve the current Thread object corresponding to the caller's thread of execution. Use case: This function is often used when you need to obtain information about the currently executing thread, such as its name or identity.\n",
    "\n",
    "3. enumerate():\n",
    "\n",
    "The enumerate() function returns a list of all Thread objects currently alive and in the system. Each Thread object is in a tuple along with its name and a reference to the thread's frame (not often used).\n"
   ]
  },
  {
   "cell_type": "markdown",
   "id": "c223b4f5",
   "metadata": {},
   "source": [
    "<br>\n",
    "Q3. Explain the following functions:\n",
    "\n",
    "1. run()\n",
    "\n",
    "2. start()\n",
    "3. join()\n",
    "\n",
    "4. isAlive()"
   ]
  },
  {
   "cell_type": "markdown",
   "id": "447c9382",
   "metadata": {},
   "source": [
    "In Python's threading module, these functions are related to the management and execution of threads:\n",
    "\n",
    "run():\n",
    "\n",
    "The run() method is not typically called directly by the programmer. Instead, it's a method that you can override in your own custom thread classes. When you create a new thread by subclassing the Thread class and defining your own run() method, the code within your run() method will be executed when the thread starts running.\n",
    "Use case: You override the run() method to define the behavior of your thread. \n",
    "\n",
    "start():\n",
    "\n",
    "The start() method is used to initiate the execution of a thread. When you call start(), it creates a new thread of execution and begins executing the run() method in that thread.\n",
    "\n",
    "join():\n",
    "\n",
    "The join() method is used to block the execution of the calling thread until the thread on which it's called has finished executing. It's a way to ensure that a thread has completed its work before proceeding with the main program or other tasks.\n",
    "\n"
   ]
  },
  {
   "cell_type": "markdown",
   "id": "28efcebd",
   "metadata": {},
   "source": [
    "<br>\n",
    "Q4. Write a python program to create two threads. Thread one must print the list of squares and thread\n",
    "two must print the list of cubes."
   ]
  },
  {
   "cell_type": "code",
   "execution_count": 2,
   "id": "5943f4b6",
   "metadata": {},
   "outputs": [
    {
     "name": "stdout",
     "output_type": "stream",
     "text": [
      "Square of 1: 1\n",
      "Square of 2: 4\n",
      "Square of 3: 9\n",
      "Square of 4: 16\n",
      "Square of 5: 25\n",
      "Cube of 1: 1\n",
      "Cube of 2: 8\n",
      "Cube of 3: 27\n",
      "Cube of 4: 64\n",
      "Cube of 5: 125\n",
      "Both threads have finished.\n"
     ]
    }
   ],
   "source": [
    "import threading\n",
    "\n",
    "# Function to print squares of numbers\n",
    "def print_squares():\n",
    "    for i in range(1, 6):\n",
    "        print(f\"Square of {i}: {i**2}\")\n",
    "\n",
    "# Function to print cubes of numbers\n",
    "def print_cubes():\n",
    "    for i in range(1, 6):\n",
    "        print(f\"Cube of {i}: {i**3}\")\n",
    "\n",
    "# Create two threads\n",
    "thread1 = threading.Thread(target=print_squares)\n",
    "thread2 = threading.Thread(target=print_cubes)\n",
    "\n",
    "# Start the threads\n",
    "thread1.start()\n",
    "thread2.start()\n",
    "\n",
    "# Wait for both threads to finish\n",
    "thread1.join()\n",
    "thread2.join()\n",
    "\n",
    "print(\"Both threads have finished.\")\n"
   ]
  },
  {
   "cell_type": "markdown",
   "id": "35c0371f",
   "metadata": {},
   "source": [
    "<br>\n",
    "Q5. State advantages and disadvantages of multithreading."
   ]
  },
  {
   "cell_type": "markdown",
   "id": "2638985e",
   "metadata": {},
   "source": [
    "Advantages of threads\n",
    "\n",
    "1. We can execute multiple tasks of an application at a time\n",
    "2. Reduces the complexity of a big applications\n",
    "3. Helps to improve the performance of an application drastically\n",
    "4. Utilizes the max resources of multiprocessor systems\n",
    "5. Better user interface in case of GUI based applications\n",
    "6. Reduces the development time of an application\n",
    "7. All the threads are independent , any unexpected exception happens in any of the thread will not lead to an application exit.\n",
    "\n",
    "Disadvantages of threads\n",
    "\n",
    "1. Thread synchronization is an extra over head to the developers\n",
    "2. Shares the common data across the threads might cause the data inconsistency or thread sync issues\n",
    "3. Threads blocking for resources is more common problem\n",
    "4. Difficult in managing the code in terms of debugging or writing the code"
   ]
  },
  {
   "cell_type": "markdown",
   "id": "37ddfeaa",
   "metadata": {},
   "source": [
    "<br>\n",
    "Q6. Explain deadlocks and race conditions."
   ]
  },
  {
   "cell_type": "markdown",
   "id": "73428081",
   "metadata": {},
   "source": [
    "Deadlocks:\n",
    "\n",
    "Deadlock describes a condition in which two or more threads are blocked (hung) forever because they are waiting for each other. There are many causes of deadlocks. The Thread Analyzer detects deadlocks that are caused by the inappropriate use of mutual exclusion locks. This type of deadlock is commonly encountered in multi-threaded applications. \n",
    "\n",
    "Race Conditions:\n",
    "\n",
    "A race condition occurs when two threads use the same variable at a given time. Deadlock exists when two threads seek one lock simultaneously.  \n",
    "\n",
    "This situation will stop both threads from processing or executing the functions. "
   ]
  },
  {
   "cell_type": "code",
   "execution_count": null,
   "id": "ff9f8c58",
   "metadata": {},
   "outputs": [],
   "source": []
  }
 ],
 "metadata": {
  "kernelspec": {
   "display_name": "Python 3 (ipykernel)",
   "language": "python",
   "name": "python3"
  },
  "language_info": {
   "codemirror_mode": {
    "name": "ipython",
    "version": 3
   },
   "file_extension": ".py",
   "mimetype": "text/x-python",
   "name": "python",
   "nbconvert_exporter": "python",
   "pygments_lexer": "ipython3",
   "version": "3.10.4"
  }
 },
 "nbformat": 4,
 "nbformat_minor": 5
}
