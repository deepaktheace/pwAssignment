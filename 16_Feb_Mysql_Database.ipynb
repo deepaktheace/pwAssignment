{
 "cells": [
  {
   "cell_type": "markdown",
   "id": "bbb9d987",
   "metadata": {},
   "source": [
    "QI. What is a database? Differentiate between SQL and NoSQL databases."
   ]
  },
  {
   "cell_type": "markdown",
   "id": "51a54dd5",
   "metadata": {},
   "source": [
    "Database\n",
    "\n",
    "A database is a structured collection of data that is organized and stored in a way that allows for efficient retrieval, management, and manipulation of that data. Databases are used to store and manage vast amounts of information, ranging from simple lists and catalogs to complex business data and application data. Databases are a core component of modern software applications, enabling data persistence and retrieval.\n",
    "\n",
    "Difference between SQL and NoSQL database:\n",
    "\n",
    "1. SQL databases are relational, and NoSQL databases are non-relational.\n",
    "2. SQL databases use structured query language (SQL) and have a predefined schema. NoSQL databases have dynamic schemas for unstructured data.\n",
    "3. SQL databases are vertically scalable, while NoSQL databases are horizontally scalable.\n"
   ]
  },
  {
   "cell_type": "markdown",
   "id": "450b4315",
   "metadata": {},
   "source": [
    "<br>\n",
    "Q2. What is DDL? Explain why CREATE, DROP, ALTER, and TRUNCATE are used with an example.\n"
   ]
  },
  {
   "cell_type": "markdown",
   "id": "7c106d35",
   "metadata": {},
   "source": [
    "DDL\n",
    "\n",
    "DDL stands for Data Definition Language in the context of databases. It's a subset of SQL (Structured Query Language) used for defining, managing, and modifying the structure of a database and its objects. DDL commands include CREATE, DROP, ALTER, and TRUNCATE, among others. Here's an explanation of each command with an example:\n",
    "\n",
    "CREATE is used to define new database objects.<br>\n",
    "DROP is used to delete existing database objects and their data.<br>\n",
    "ALTER is used to modify the structure of existing database objects.<br>\n",
    "TRUNCATE is used to remove all data from a table while preserving its structure.<br>\n",
    "\n",
    "Examples:\n",
    "\n",
    "CREATE TABLE Employees (\n",
    "    EmployeeID INT PRIMARY KEY,\n",
    "    Name VARCHAR(50),\n",
    "    Salary DECIMAL(10, 2)\n",
    ");\n",
    "\n",
    "This will create Employee table is database with given fields.\n",
    "\n",
    "DROP TABLE Employees;\n",
    "\n",
    "This can be used to Drop/delete the table from database.\n",
    "\n",
    "ALTER TABLE Employees ADD Department VARCHAR(50);\n",
    "\n",
    "This will modify the database in this case it will add a colmun named Department into the table.\n",
    "\n",
    "TRUNCATE TABLE Employees;\n",
    "\n",
    "Truncate will remove all the data from the table but it will maintain the table in the defined manner.\n"
   ]
  },
  {
   "cell_type": "markdown",
   "id": "80542dee",
   "metadata": {},
   "source": [
    "<br>\n",
    "Q3. What is DML? Explain INSERT, UPDATE, and DELETE with an example."
   ]
  },
  {
   "cell_type": "markdown",
   "id": "f9a9826d",
   "metadata": {},
   "source": [
    "DML stands for Data Manipulation Language in the context of databases. It's a subset of SQL (Structured Query Language) used for manipulating and managing data within a database. DML commands include INSERT, UPDATE, DELETE, and SELECT.\n",
    "\n",
    "INSERT is used to add new records to a table.<br>\n",
    "UPDATE is used to modify existing records in a table.<br>\n",
    "DELETE is used to remove records from a table based on a specified condition.<br>"
   ]
  },
  {
   "cell_type": "markdown",
   "id": "33c114e9",
   "metadata": {},
   "source": [
    "<br>\n",
    "Q4. What is DQL? Explain SELECT with an example."
   ]
  },
  {
   "cell_type": "markdown",
   "id": "0e508897",
   "metadata": {},
   "source": [
    "\n",
    "DQL stands for Data Query Language in the context of databases. It's a subset of SQL (Structured Query Language) used for querying and retrieving data from a database. The primary DQL command is SELECT, which allows you to specify the data you want to retrieve from one or more database tables. Here's an explanation of the SELECT command with an example:\n",
    "\n",
    "SELECT: The SELECT command is used to query and retrieve data from one or more tables in a database. It allows you to specify which columns you want to retrieve, as well as conditions to filter the rows you're interested in.\n",
    "\n",
    "Example:\n",
    "\n",
    "Select * from details;\n",
    "\n",
    "This will retrive al the data from the table named as details."
   ]
  },
  {
   "cell_type": "markdown",
   "id": "0174b907",
   "metadata": {},
   "source": [
    "<br>\n",
    "Q5. Explain Primary Key and Foreign Key."
   ]
  },
  {
   "cell_type": "markdown",
   "id": "44515f1e",
   "metadata": {},
   "source": [
    "Primary Key\n",
    "\n",
    "A primary key is a special type of constraint used in a relational database to uniquely identify each record or row in a table. It serves as a reference point to maintain data integrity and establish relationships between tables. Here are key characteristics and points to know about primary keys:\n",
    "\n",
    "1. Uniqueness\n",
    "2. Indexed\n",
    "3. Not-Null\n",
    "\n",
    "Foreign Key\n",
    "\n",
    "A foreign key is a database constraint that establishes a link between two tables by referencing the primary key of another table. It enforces referential integrity, ensuring that the relationships between tables are maintained correctly. \n",
    "\n",
    "1. References\n",
    "2. Enforcement\n",
    "3. Many-to-One Relationships"
   ]
  },
  {
   "cell_type": "markdown",
   "id": "752c3d9d",
   "metadata": {},
   "source": [
    "<br>\n",
    "Q6. Write a python code to connect MySQL to python. Explain the cursor() and execute() method."
   ]
  },
  {
   "cell_type": "code",
   "execution_count": 6,
   "id": "f3f4f167",
   "metadata": {},
   "outputs": [
    {
     "name": "stdout",
     "output_type": "stream",
     "text": [
      "CMySQLCursor: (Nothing executed yet)\n",
      "None\n"
     ]
    }
   ],
   "source": [
    "import mysql.connector as db\n",
    "\n",
    "con = db.connect(host=\"localhost\",database=\"employeedetails\",password=\"\",user=\"root\")\n",
    "cursor = con.cursor()\n",
    "print(cursor)\n",
    "\n",
    "print(cursor.execute(\"SHOW TABLES\"))"
   ]
  },
  {
   "cell_type": "markdown",
   "id": "552feb8f",
   "metadata": {},
   "source": [
    "cursor():\n",
    "\n",
    "The cursor() method is used to create a cursor object within your database connection. A cursor is a control structure that allows you to traverse records in a database and perform various database operations like inserting, updating, deleting, and selecting records.\n",
    "\n",
    "execute():\n",
    "\n",
    "The execute() method is used with a cursor object to execute SQL queries or commands. It allows you to send SQL statements to the database for execution. The SQL statement is typically passed as an argument to the execute() method."
   ]
  },
  {
   "cell_type": "markdown",
   "id": "8839b646",
   "metadata": {},
   "source": [
    "<br>\n",
    "Q7. Give the order of execution of SQL clauses in an SQL query."
   ]
  },
  {
   "cell_type": "code",
   "execution_count": null,
   "id": "bc32e885",
   "metadata": {},
   "outputs": [],
   "source": [
    "FROM Clause:\n",
    "\n",
    "1. The FROM clause is the first clause executed.\n",
    "2. It specifies the source tables or views from which data is retrieved.\n",
    "3. If multiple tables are involved (joins), the tables are combined according to the join conditions.\n",
    "\n",
    "Example:\n",
    "\n",
    "SELECT * FROM details;\n",
    "\n",
    "This query will retrive all the data from 'details tanl'"
   ]
  }
 ],
 "metadata": {
  "kernelspec": {
   "display_name": "Python 3 (ipykernel)",
   "language": "python",
   "name": "python3"
  },
  "language_info": {
   "codemirror_mode": {
    "name": "ipython",
    "version": 3
   },
   "file_extension": ".py",
   "mimetype": "text/x-python",
   "name": "python",
   "nbconvert_exporter": "python",
   "pygments_lexer": "ipython3",
   "version": "3.10.4"
  }
 },
 "nbformat": 4,
 "nbformat_minor": 5
}
