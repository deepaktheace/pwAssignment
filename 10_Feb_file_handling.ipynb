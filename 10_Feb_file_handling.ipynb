{
 "cells": [
  {
   "cell_type": "markdown",
   "id": "59062e79-23b2-4deb-a7cf-5c173df9c036",
   "metadata": {},
   "source": [
    "#Q1"
   ]
  },
  {
   "cell_type": "markdown",
   "id": "e4c463c6-d3e6-4961-a8d3-e6d570f131e5",
   "metadata": {},
   "source": [
    "\"open()\" method is used in python to open a file.\n",
    "Different modes of opening a file are as follows:-\n",
    "\n",
    "r = Open a file for reading. This mode is used bydefault.<br>\n",
    "w = Open a file for writing. Creates a new file if it does not exist or overwrite the file if it exists.<br>\n",
    "a = Open a file for appending at the end of the file without overwritting it. Creates a new file if it does not exist."
   ]
  },
  {
   "cell_type": "markdown",
   "id": "74bc752f-ca25-43d8-8f3b-00f4b8f3fdb0",
   "metadata": {},
   "source": [
    "#Q2"
   ]
  },
  {
   "cell_type": "markdown",
   "id": "4cfbde38-f621-4259-990f-9a63f1baaabc",
   "metadata": {},
   "source": [
    "The \"close()\" function is been used to close the currently running file.\n",
    "\n",
    "It is maditory to use close() function or else the operations performed for the currrent active file might won't get saved and also it could be hard to debug."
   ]
  },
  {
   "cell_type": "markdown",
   "id": "b530e925-32fd-423e-83d1-8a8a81b79bd2",
   "metadata": {},
   "source": [
    "#Q3"
   ]
  },
  {
   "cell_type": "code",
   "execution_count": 6,
   "id": "1b1d5ccc-f91a-4d64-9761-533922bf5631",
   "metadata": {},
   "outputs": [
    {
     "data": {
      "text/plain": [
       "'I want to become a Data Scientist'"
      ]
     },
     "execution_count": 6,
     "metadata": {},
     "output_type": "execute_result"
    }
   ],
   "source": [
    "p = open(\"new_file\",\"w\")\n",
    "p.write(\"I want to become a Data Scientist\")\n",
    "p.close()\n",
    "new_file_data = open(\"new_file\",\"r\")\n",
    "new_file_data.read()"
   ]
  },
  {
   "cell_type": "markdown",
   "id": "0420715c-1c28-4872-9a29-bc26f074f523",
   "metadata": {},
   "source": [
    "#Q4"
   ]
  },
  {
   "cell_type": "markdown",
   "id": "b5f8c089-0c0a-4ba0-9009-ff48987d35ab",
   "metadata": {},
   "source": [
    "Explaniation for python code: read(), readline() and readlines() is as follows :\n",
    "\n",
    "read()<br>\n",
    "The read() method returns the specified number of bytes from the file. Default is -1 which means the whole file.\n",
    "\n",
    "readline()<br>\n",
    "Python readline() method will return a line from the file when called.\n",
    "\n",
    "readlines()<br>\n",
    "readlines() method will return all the lines in a file in the format of a list where each element is a line in the file."
   ]
  },
  {
   "cell_type": "markdown",
   "id": "b8ae4f82-0394-4e16-8529-414420053cb3",
   "metadata": {},
   "source": [
    "#Q5"
   ]
  },
  {
   "cell_type": "markdown",
   "id": "1a03429a-32d4-4e0c-a51e-98996b3e3f55",
   "metadata": {},
   "source": [
    "The with statement works with the open() function to open a file.\n",
    "\n",
    "The advantage of using with satement is unlike open() where you have to close the file with the close() method, the with statement closes the file for you without you telling it to. This is because the with statement calls 2 built-in methods behind the scene – __enter()__ and __exit()__ ."
   ]
  },
  {
   "cell_type": "markdown",
   "id": "a1c5cfa1-762a-4e12-aa26-5cff2d288fcd",
   "metadata": {},
   "source": [
    "#Q6"
   ]
  },
  {
   "cell_type": "markdown",
   "id": "0de15733-9809-4270-a7ae-c42cd7d4b8bf",
   "metadata": {},
   "source": [
    "write()<br>\n",
    "The write() method accepts a string as an argument and writes this string to the text file. If you provide a list of strings to the write() method, then it will raise an exception.\n",
    "\n",
    "writelines()<br>\n",
    "the writelines() method accepts an iterable i.e. a string or the list of strings as an argument and writes these strings to the text file. The writelines() function does not throw any error as it can accept a list of strings."
   ]
  },
  {
   "cell_type": "code",
   "execution_count": 11,
   "id": "9fc8da02-817b-47b5-9fcd-15535fa95705",
   "metadata": {},
   "outputs": [
    {
     "data": {
      "text/plain": [
       "'HelloWorld! I am learning Python'"
      ]
     },
     "execution_count": 11,
     "metadata": {},
     "output_type": "execute_result"
    }
   ],
   "source": [
    "first_string = \"Hello\"\n",
    "second_string = \"World! \"\n",
    "third_string = \"I am \"\n",
    "fourth_string = \"learning \"\n",
    "fifth_string = \"Python\"\n",
    "\n",
    "full_string = [first_string, second_string, third_string, fourth_string, fifth_string]\n",
    "\n",
    "new_file1 = open(\"demoFile.txt\", 'w')\n",
    "new_file1.writelines(full_string)\n",
    "new_file1.close()\n",
    "new_file1_data = open(\"demoFile.txt\", 'r')\n",
    "new_file1_data.read()"
   ]
  }
 ],
 "metadata": {
  "kernelspec": {
   "display_name": "Python 3 (ipykernel)",
   "language": "python",
   "name": "python3"
  },
  "language_info": {
   "codemirror_mode": {
    "name": "ipython",
    "version": 3
   },
   "file_extension": ".py",
   "mimetype": "text/x-python",
   "name": "python",
   "nbconvert_exporter": "python",
   "pygments_lexer": "ipython3",
   "version": "3.10.8"
  }
 },
 "nbformat": 4,
 "nbformat_minor": 5
}
