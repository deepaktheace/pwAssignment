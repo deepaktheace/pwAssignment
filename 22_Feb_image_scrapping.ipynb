{
 "cells": [
  {
   "cell_type": "markdown",
   "id": "b923d914",
   "metadata": {},
   "source": [
    "Q1. Write a python program to extract the video URL of the first five videos."
   ]
  },
  {
   "cell_type": "code",
   "execution_count": 129,
   "id": "9c874585",
   "metadata": {},
   "outputs": [],
   "source": [
    "from bs4 import BeautifulSoup\n",
    "from selenium import webdriver\n",
    "from selenium.webdriver.chrome.service import Service\n",
    "import warnings \n",
    "# Settings the warnings to be ignored\n",
    "warnings.filterwarnings('ignore')"
   ]
  },
  {
   "cell_type": "code",
   "execution_count": 130,
   "id": "92363691",
   "metadata": {},
   "outputs": [
    {
     "ename": "WebDriverException",
     "evalue": "Message: unknown error: failed to change window state to 'maximized', current state is 'minimized'\n  (Session info: chrome=116.0.5845.180)\nStacktrace:\n\tGetHandleVerifier [0x00ED37C3+48947]\n\t(No symbol) [0x00E68551]\n\t(No symbol) [0x00D6C92D]\n\t(No symbol) [0x00D55725]\n\t(No symbol) [0x00D544E4]\n\t(No symbol) [0x00D53D34]\n\t(No symbol) [0x00DD5A29]\n\t(No symbol) [0x00DB508C]\n\t(No symbol) [0x00DC75DA]\n\t(No symbol) [0x00DB4E86]\n\t(No symbol) [0x00D916C7]\n\t(No symbol) [0x00D9284D]\n\tGetHandleVerifier [0x0111FDF9+2458985]\n\tGetHandleVerifier [0x0116744F+2751423]\n\tGetHandleVerifier [0x01161361+2726609]\n\tGetHandleVerifier [0x00F50680+560624]\n\t(No symbol) [0x00E7238C]\n\t(No symbol) [0x00E6E268]\n\t(No symbol) [0x00E6E392]\n\t(No symbol) [0x00E610B7]\n\tBaseThreadInitThunk [0x75A67D59+25]\n\tRtlInitializeExceptionChain [0x76F1B79B+107]\n\tRtlClearBits [0x76F1B71F+191]\n",
     "output_type": "error",
     "traceback": [
      "\u001b[1;31m---------------------------------------------------------------------------\u001b[0m",
      "\u001b[1;31mWebDriverException\u001b[0m                        Traceback (most recent call last)",
      "Input \u001b[1;32mIn [130]\u001b[0m, in \u001b[0;36m<cell line: 6>\u001b[1;34m()\u001b[0m\n\u001b[0;32m      4\u001b[0m url \u001b[38;5;241m=\u001b[39m  \u001b[38;5;124m'\u001b[39m\u001b[38;5;124mhttps://www.youtube.com/@PW-Foundation/videos\u001b[39m\u001b[38;5;124m'\u001b[39m\n\u001b[0;32m      5\u001b[0m driver\u001b[38;5;241m.\u001b[39mget(url)\n\u001b[1;32m----> 6\u001b[0m \u001b[43mdriver\u001b[49m\u001b[38;5;241;43m.\u001b[39;49m\u001b[43mmaximize_window\u001b[49m\u001b[43m(\u001b[49m\u001b[43m)\u001b[49m\n\u001b[0;32m      7\u001b[0m html_text \u001b[38;5;241m=\u001b[39m driver\u001b[38;5;241m.\u001b[39mpage_source\n\u001b[0;32m      8\u001b[0m soup \u001b[38;5;241m=\u001b[39m BeautifulSoup(html_text, \u001b[38;5;124m'\u001b[39m\u001b[38;5;124mhtml.parser\u001b[39m\u001b[38;5;124m'\u001b[39m)\n",
      "File \u001b[1;32m~\\AppData\\Local\\Programs\\Python\\Python310\\lib\\site-packages\\selenium\\webdriver\\remote\\webdriver.py:496\u001b[0m, in \u001b[0;36mWebDriver.maximize_window\u001b[1;34m(self)\u001b[0m\n\u001b[0;32m    494\u001b[0m \u001b[38;5;250m\u001b[39m\u001b[38;5;124;03m\"\"\"Maximizes the current window that webdriver is using.\"\"\"\u001b[39;00m\n\u001b[0;32m    495\u001b[0m command \u001b[38;5;241m=\u001b[39m Command\u001b[38;5;241m.\u001b[39mW3C_MAXIMIZE_WINDOW\n\u001b[1;32m--> 496\u001b[0m \u001b[38;5;28;43mself\u001b[39;49m\u001b[38;5;241;43m.\u001b[39;49m\u001b[43mexecute\u001b[49m\u001b[43m(\u001b[49m\u001b[43mcommand\u001b[49m\u001b[43m,\u001b[49m\u001b[43m \u001b[49m\u001b[38;5;28;43;01mNone\u001b[39;49;00m\u001b[43m)\u001b[49m\n",
      "File \u001b[1;32m~\\AppData\\Local\\Programs\\Python\\Python310\\lib\\site-packages\\selenium\\webdriver\\remote\\webdriver.py:344\u001b[0m, in \u001b[0;36mWebDriver.execute\u001b[1;34m(self, driver_command, params)\u001b[0m\n\u001b[0;32m    342\u001b[0m response \u001b[38;5;241m=\u001b[39m \u001b[38;5;28mself\u001b[39m\u001b[38;5;241m.\u001b[39mcommand_executor\u001b[38;5;241m.\u001b[39mexecute(driver_command, params)\n\u001b[0;32m    343\u001b[0m \u001b[38;5;28;01mif\u001b[39;00m response:\n\u001b[1;32m--> 344\u001b[0m     \u001b[38;5;28;43mself\u001b[39;49m\u001b[38;5;241;43m.\u001b[39;49m\u001b[43merror_handler\u001b[49m\u001b[38;5;241;43m.\u001b[39;49m\u001b[43mcheck_response\u001b[49m\u001b[43m(\u001b[49m\u001b[43mresponse\u001b[49m\u001b[43m)\u001b[49m\n\u001b[0;32m    345\u001b[0m     response[\u001b[38;5;124m\"\u001b[39m\u001b[38;5;124mvalue\u001b[39m\u001b[38;5;124m\"\u001b[39m] \u001b[38;5;241m=\u001b[39m \u001b[38;5;28mself\u001b[39m\u001b[38;5;241m.\u001b[39m_unwrap_value(response\u001b[38;5;241m.\u001b[39mget(\u001b[38;5;124m\"\u001b[39m\u001b[38;5;124mvalue\u001b[39m\u001b[38;5;124m\"\u001b[39m, \u001b[38;5;28;01mNone\u001b[39;00m))\n\u001b[0;32m    346\u001b[0m     \u001b[38;5;28;01mreturn\u001b[39;00m response\n",
      "File \u001b[1;32m~\\AppData\\Local\\Programs\\Python\\Python310\\lib\\site-packages\\selenium\\webdriver\\remote\\errorhandler.py:229\u001b[0m, in \u001b[0;36mErrorHandler.check_response\u001b[1;34m(self, response)\u001b[0m\n\u001b[0;32m    227\u001b[0m         alert_text \u001b[38;5;241m=\u001b[39m value[\u001b[38;5;124m\"\u001b[39m\u001b[38;5;124malert\u001b[39m\u001b[38;5;124m\"\u001b[39m]\u001b[38;5;241m.\u001b[39mget(\u001b[38;5;124m\"\u001b[39m\u001b[38;5;124mtext\u001b[39m\u001b[38;5;124m\"\u001b[39m)\n\u001b[0;32m    228\u001b[0m     \u001b[38;5;28;01mraise\u001b[39;00m exception_class(message, screen, stacktrace, alert_text)  \u001b[38;5;66;03m# type: ignore[call-arg]  # mypy is not smart enough here\u001b[39;00m\n\u001b[1;32m--> 229\u001b[0m \u001b[38;5;28;01mraise\u001b[39;00m exception_class(message, screen, stacktrace)\n",
      "\u001b[1;31mWebDriverException\u001b[0m: Message: unknown error: failed to change window state to 'maximized', current state is 'minimized'\n  (Session info: chrome=116.0.5845.180)\nStacktrace:\n\tGetHandleVerifier [0x00ED37C3+48947]\n\t(No symbol) [0x00E68551]\n\t(No symbol) [0x00D6C92D]\n\t(No symbol) [0x00D55725]\n\t(No symbol) [0x00D544E4]\n\t(No symbol) [0x00D53D34]\n\t(No symbol) [0x00DD5A29]\n\t(No symbol) [0x00DB508C]\n\t(No symbol) [0x00DC75DA]\n\t(No symbol) [0x00DB4E86]\n\t(No symbol) [0x00D916C7]\n\t(No symbol) [0x00D9284D]\n\tGetHandleVerifier [0x0111FDF9+2458985]\n\tGetHandleVerifier [0x0116744F+2751423]\n\tGetHandleVerifier [0x01161361+2726609]\n\tGetHandleVerifier [0x00F50680+560624]\n\t(No symbol) [0x00E7238C]\n\t(No symbol) [0x00E6E268]\n\t(No symbol) [0x00E6E392]\n\t(No symbol) [0x00E610B7]\n\tBaseThreadInitThunk [0x75A67D59+25]\n\tRtlInitializeExceptionChain [0x76F1B79B+107]\n\tRtlClearBits [0x76F1B71F+191]\n"
     ]
    }
   ],
   "source": [
    "service = Service(executable_path='chromedriver.exe')\n",
    "options = webdriver.ChromeOptions()\n",
    "driver = webdriver.Chrome(service=service, options=options)\n",
    "url =  'https://www.youtube.com/@PW-Foundation/videos'\n",
    "driver.get(url)\n",
    "driver.maximize_window()\n",
    "html_text = driver.page_source\n",
    "soup = BeautifulSoup(html_text, 'html.parser')"
   ]
  },
  {
   "cell_type": "code",
   "execution_count": null,
   "id": "a99b24cd",
   "metadata": {},
   "outputs": [],
   "source": [
    "video_contents = soup.find_all(\"div\",attrs = {\"class\":\"style-scope ytd-rich-item-renderer\"})\n",
    "video_links = []\n",
    "# https://www.youtube.com\n",
    "for video_content in video_contents:\n",
    "    video_links.append('https://www.youtube.com' + video_content.a['href'])  #/watch?v=dYh6Chnq0lo\n",
    "video_links[:5]"
   ]
  },
  {
   "cell_type": "markdown",
   "id": "09147e11",
   "metadata": {},
   "source": [
    "<br>\n",
    "Q2. Write a python program to extract the URL of the video thumbnails of the first five videos.\n"
   ]
  },
  {
   "cell_type": "code",
   "execution_count": null,
   "id": "ebf115aa",
   "metadata": {},
   "outputs": [],
   "source": [
    "images = soup.find_all(\"img\",attrs = {\"style\":\"background-color: transparent;\"})\n",
    "thubnail_urls = []\n",
    "\n",
    "for image in images:\n",
    "    thubnail_urls.append(image.get(\"src\")) \n",
    "thubnail_urls[:5]"
   ]
  },
  {
   "cell_type": "markdown",
   "id": "cb00fdb7",
   "metadata": {},
   "source": [
    "<br>\n",
    "Q3. Write a python program to extract the title of the first five videos.\n"
   ]
  },
  {
   "cell_type": "code",
   "execution_count": null,
   "id": "efc00a9a",
   "metadata": {},
   "outputs": [],
   "source": [
    "title_tages = soup.find_all(\"a\",attrs = {\"id\":\"video-title-link\"})\n",
    "video_titles = []\n",
    "\n",
    "for title in title_tages:\n",
    "    video_titles.append(title.text) \n",
    "video_titles[:5]"
   ]
  },
  {
   "cell_type": "markdown",
   "id": "868dc1ab",
   "metadata": {},
   "source": [
    "<br>\n",
    "Q4. Write a python program to extract the number of views of the first five videos.\n"
   ]
  },
  {
   "cell_type": "code",
   "execution_count": null,
   "id": "b57d5c8e",
   "metadata": {},
   "outputs": [],
   "source": [
    "view_tages = soup.find_all(\"span\",attrs = {\"class\":\"inline-metadata-item style-scope ytd-video-meta-block\"})\n",
    "video_views = []\n",
    "\n",
    "for view_tag in view_tages:\n",
    "    video_views.append(view_tag.text) \n",
    "video_views = video_views[:10]\n",
    "video_views[0::2]"
   ]
  },
  {
   "cell_type": "markdown",
   "id": "50b4ed51",
   "metadata": {},
   "source": [
    "<br>\n",
    "Q5. Write a python program to extract the time of posting of video for the first five videos.\n"
   ]
  },
  {
   "cell_type": "code",
   "execution_count": null,
   "id": "b17fa24b",
   "metadata": {},
   "outputs": [],
   "source": [
    "timestamp_tages = soup.find_all(\"span\",attrs = {\"class\":\"inline-metadata-item style-scope ytd-video-meta-block\"})\n",
    "timestamp_list = []\n",
    "\n",
    "for timestamp_tag in timestamp_tages:\n",
    "    timestamp_list.append(timestamp_tag.text) \n",
    "timestamp_list = timestamp_list[:10]\n",
    "timestamp_list[1::2]"
   ]
  },
  {
   "cell_type": "code",
   "execution_count": null,
   "id": "8087a6e4",
   "metadata": {},
   "outputs": [],
   "source": []
  }
 ],
 "metadata": {
  "kernelspec": {
   "display_name": "Python 3 (ipykernel)",
   "language": "python",
   "name": "python3"
  },
  "language_info": {
   "codemirror_mode": {
    "name": "ipython",
    "version": 3
   },
   "file_extension": ".py",
   "mimetype": "text/x-python",
   "name": "python",
   "nbconvert_exporter": "python",
   "pygments_lexer": "ipython3",
   "version": "3.10.4"
  }
 },
 "nbformat": 4,
 "nbformat_minor": 5
}
