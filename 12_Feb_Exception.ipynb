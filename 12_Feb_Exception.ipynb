{
 "cells": [
  {
   "cell_type": "markdown",
   "id": "22631eab-d8f2-4ead-ae8d-601d4b0c63cb",
   "metadata": {},
   "source": [
    "#Q1"
   ]
  },
  {
   "cell_type": "markdown",
   "id": "d9e34345-5f7c-4755-bb98-5905a6f80cfd",
   "metadata": {},
   "source": [
    "An exception in Python is a mistake that happens while a programme is being run. An exception is reported when an error happens, interrupting the program's regular flow and allowing the programme to catch and manage it.\n",
    "\n",
    "Exceptions can happen for a number of causes, including:\n",
    "\n",
    "1. Syntax errors\n",
    "2. Logical errors\n",
    "3. Runtime errors,  such as division by zero or accessing a non-existent variable\n",
    "Python provides a mechanism to catch and handle exceptions using a try-except block. The code that might raise an exception is put inside the try block, and the code to handle the exception is put inside the except block.\n",
    "\n",
    "Exceptions and syntax errors are both types of errors that can occur in Python, but they have different causes and characteristics.\n",
    "\n",
    "Syntax errors occur when the Python interpreter encounters code that does not conform to the syntax rules of the language. These errors are detected during the parsing stage of the program, before the code is executed. Syntax errors are typically caused by mistakes in the code, such as misspelling a keyword, forgetting a parenthesis, or using an incorrect operator. A syntax error will prevent the code from running at all and will need to be corrected before the program can be executed.\n",
    "\n",
    "Exceptions, on the other hand, occur during the execution of a program when an unexpected condition or situation arises. Exceptions can be caused by a variety of factors, such as invalid input data, network problems, or insufficient resources. Unlike syntax errors, exceptions are not necessarily caused by mistakes in the code. Exceptions can be caught and handled by the program using a try-except block."
   ]
  },
  {
   "cell_type": "markdown",
   "id": "59bea59f-ced0-446e-aba1-f5ed3ee893ff",
   "metadata": {},
   "source": [
    "#Q2"
   ]
  },
  {
   "cell_type": "markdown",
   "id": "910fe1c1-fabd-4981-97f1-98b67452a36c",
   "metadata": {},
   "source": [
    "When an exception is not handled in Python, the program will terminate abruptly and an error message will be displayed, indicating the type of exception that occurred and the location in the code where it happened. This behavior is known as an \"unhandled exception\" or a \"runtime error.\"\n",
    "\n",
    "Example:"
   ]
  },
  {
   "cell_type": "code",
   "execution_count": 2,
   "id": "6284a7ac-3e0c-4e5f-abbe-577d546c940b",
   "metadata": {},
   "outputs": [
    {
     "ename": "ZeroDivisionError",
     "evalue": "division by zero",
     "output_type": "error",
     "traceback": [
      "\u001b[0;31m---------------------------------------------------------------------------\u001b[0m",
      "\u001b[0;31mZeroDivisionError\u001b[0m                         Traceback (most recent call last)",
      "Cell \u001b[0;32mIn[2], line 1\u001b[0m\n\u001b[0;32m----> 1\u001b[0m a \u001b[38;5;241m=\u001b[39m \u001b[38;5;241;43m10\u001b[39;49m\u001b[43m \u001b[49m\u001b[38;5;241;43m/\u001b[39;49m\u001b[43m \u001b[49m\u001b[38;5;241;43m0\u001b[39;49m\n",
      "\u001b[0;31mZeroDivisionError\u001b[0m: division by zero"
     ]
    }
   ],
   "source": [
    "a = 10 / 0"
   ]
  },
  {
   "cell_type": "markdown",
   "id": "c0daa800-76a9-4249-a1dc-93d715b458ed",
   "metadata": {},
   "source": [
    "Output\n",
    "---------------------------------------------------------------------------\n",
    "ZeroDivisionError                         Traceback (most recent call last)\n",
    "Cell In[2], line 1\n",
    "----> 1 a = 10 / 0\n",
    "      2 #ZeroDivisionError: division by zero\n",
    "\n",
    "ZeroDivisionError: division by zero"
   ]
  },
  {
   "cell_type": "markdown",
   "id": "bfe5a06a-ca74-4ed8-8aef-dd27b785d655",
   "metadata": {},
   "source": [
    "#Q3"
   ]
  },
  {
   "cell_type": "markdown",
   "id": "04c877b5-d52a-4676-9011-f6afb8119ef0",
   "metadata": {},
   "source": [
    "In Python, the try, except, else, and finally statements are used to catch and handle exceptions. These statements form a try-except block, which allows you to write code that may raise exceptions within the try block and handle them gracefully in the except block."
   ]
  },
  {
   "cell_type": "code",
   "execution_count": 4,
   "id": "109e206b-dd12-4cb8-9ca2-ba4c1392ec51",
   "metadata": {},
   "outputs": [
    {
     "name": "stdout",
     "output_type": "stream",
     "text": [
      "Error: 'd'\n"
     ]
    }
   ],
   "source": [
    "my_dict = {'a': 1, 'b': 2, 'c': 3}\n",
    "\n",
    "try:\n",
    "    value = my_dict['d']  # Accessing a non-existent key\n",
    "except KeyError as e:\n",
    "    print(\"Error:\", e)"
   ]
  },
  {
   "cell_type": "markdown",
   "id": "da4d1bcd-47b4-4819-a7e9-4212cb485963",
   "metadata": {},
   "source": [
    "#Q4"
   ]
  },
  {
   "cell_type": "markdown",
   "id": "82c216fd-03d9-4494-a3e9-8024464e4a56",
   "metadata": {},
   "source": [
    "try and else: \n",
    "\n",
    "The try block is used to enclose the code that may raise an exception, and the else block is used to specify code that should be executed if no exceptions occur within the try block.\n",
    "\n",
    "finally:\n",
    "\n",
    "The finally block is used to specify code that should be executed regardless of whether an exception occurred or not. It is typically used for cleanup operations or actions that must be performed regardless of the outcome.\n",
    "\n",
    "raise:\n",
    "\n",
    "The raise statement is used to raise an exception explicitly. It allows you to signal that an exceptional condition has occurred and needs to be handled by an appropriate exception handler.\n",
    "\n",
    "A combined example for all is as follows:"
   ]
  },
  {
   "cell_type": "code",
   "execution_count": 11,
   "id": "4552769d-54bf-4839-aedd-939badd2a0bf",
   "metadata": {},
   "outputs": [
    {
     "name": "stdin",
     "output_type": "stream",
     "text": [
      "Enter your age:  -12\n"
     ]
    },
    {
     "name": "stdout",
     "output_type": "stream",
     "text": [
      "Invalid input: Age cannot be negative.\n",
      "This block executes everytime\n"
     ]
    }
   ],
   "source": [
    "def check_age(age):\n",
    "    if age < 0:\n",
    "        raise ValueError(\"Age cannot be negative.\")\n",
    "\n",
    "try:\n",
    "    user_age = int(input(\"Enter your age: \"))\n",
    "    check_age(user_age)\n",
    "except ValueError as e:\n",
    "    print(\"Invalid input:\", e)\n",
    "finally:\n",
    "    print(\"This block executes everytime\")"
   ]
  },
  {
   "cell_type": "markdown",
   "id": "d58f93db-3805-43d0-90c0-616c2c8b0134",
   "metadata": {},
   "source": [
    "#Q5"
   ]
  },
  {
   "cell_type": "markdown",
   "id": "35f72e66-be27-4dd4-a7d6-ab943ae17ad7",
   "metadata": {},
   "source": [
    "Custom exceptions in Python are user-defined exception classes that extend the base Exception class or any of its subclasses. By creating custom exceptions, you can define your own specific error types to handle exceptional situations that may arise in your application. These custom exceptions allow you to provide more informative and meaningful error messages to users and developers, making it easier to understand the cause of an exception and take appropriate actions.\n",
    "\n",
    "Error Handling: Custom exceptions allow you to handle specific error scenarios in a more structured manner. You can catch and handle custom exceptions differently from built-in exceptions, enabling better error handling strategies."
   ]
  },
  {
   "cell_type": "markdown",
   "id": "142be099-546f-4d19-9999-5f0e03c0f392",
   "metadata": {},
   "source": [
    "#Q6"
   ]
  },
  {
   "cell_type": "code",
   "execution_count": 15,
   "id": "1cb43cd6-f6d5-42d8-9fec-3e3736fd0918",
   "metadata": {},
   "outputs": [
    {
     "name": "stdin",
     "output_type": "stream",
     "text": [
      "Enter a positive number:  -17\n"
     ]
    },
    {
     "name": "stdout",
     "output_type": "stream",
     "text": [
      "Custom Error: Value must be non-negative.\n"
     ]
    }
   ],
   "source": [
    "class CustomError(Exception):\n",
    "    \"\"\"Custom exception class.\"\"\"\n",
    "    pass\n",
    "\n",
    "def example_function(value):\n",
    "    if value < 0:\n",
    "        raise CustomError(\"Value must be non-negative.\")\n",
    "\n",
    "try:\n",
    "    user_input = int(input(\"Enter a positive number: \"))\n",
    "    example_function(user_input)\n",
    "    print(\"Value:\", user_input)\n",
    "except CustomError as ce:\n",
    "    print(\"Custom Error:\", ce)\n",
    "except ValueError as ve:\n",
    "    print(\"Invalid input:\", ve)\n"
   ]
  }
 ],
 "metadata": {
  "kernelspec": {
   "display_name": "Python 3 (ipykernel)",
   "language": "python",
   "name": "python3"
  },
  "language_info": {
   "codemirror_mode": {
    "name": "ipython",
    "version": 3
   },
   "file_extension": ".py",
   "mimetype": "text/x-python",
   "name": "python",
   "nbconvert_exporter": "python",
   "pygments_lexer": "ipython3",
   "version": "3.10.8"
  }
 },
 "nbformat": 4,
 "nbformat_minor": 5
}
