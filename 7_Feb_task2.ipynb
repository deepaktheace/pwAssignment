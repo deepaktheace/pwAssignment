{
 "cells": [
  {
   "cell_type": "markdown",
   "id": "336021b8-418d-4df6-afac-0f5f6e8c7f2b",
   "metadata": {},
   "source": [
    "#Q1"
   ]
  },
  {
   "cell_type": "code",
   "execution_count": 44,
   "id": "1bfcade1-1d4a-4ba4-8a87-d1a18caea725",
   "metadata": {},
   "outputs": [
    {
     "name": "stdout",
     "output_type": "stream",
     "text": [
      "1. The Password should contain at least two uppercase letters and at least two lowercase letters.\n",
      "2. The Password should contain at least a number and three special characters.\n",
      "3. The length of the password should be 10 characters long.\n",
      "\n"
     ]
    },
    {
     "name": "stdin",
     "output_type": "stream",
     "text": [
      "Kindly enter password :  ASas1!@#1q\n"
     ]
    },
    {
     "name": "stdout",
     "output_type": "stream",
     "text": [
      "\n",
      "Valid Password\n"
     ]
    }
   ],
   "source": [
    "print(\"\"\"1. The Password should contain at least two uppercase letters and at least two lowercase letters.\n",
    "2. The Password should contain at least a number and three special characters.\n",
    "3. The length of the password should be 10 characters long.\\n\"\"\")\n",
    "password = input(\"Kindly enter password : \")\n",
    "\n",
    "def check_password(password):\n",
    "    password = password.strip()\n",
    "    upper_count = 0\n",
    "    lower_count = 0\n",
    "    num_count = 0\n",
    "    sp_count = 0\n",
    "    if len(password) == 10:\n",
    "        for i in password:\n",
    "            if i.isspace() == True: print(\"\\nSpace not allowed\")\n",
    "            \n",
    "            else:\n",
    "                if i.isupper() == True: upper_count += 1 \n",
    "                    \n",
    "                elif i.islower() == True: lower_count += 1\n",
    "                   \n",
    "                elif i.isnumeric() == True: num_count += 1\n",
    "                  \n",
    "                else: sp_count += 1\n",
    "                  \n",
    "        if upper_count >= 2 and lower_count >= 2 and num_count >= 1 and sp_count >= 3:\n",
    "            print(\"\\nValid Password\")\n",
    "        else:\n",
    "            print(\"\\nInvalid Password\")\n",
    "    else:\n",
    "        print(\"\\nInvalid Password\\nPassword must be of 10 characters\")\n",
    "check_password(password)"
   ]
  },
  {
   "cell_type": "markdown",
   "id": "5c37341c-4143-481e-b031-1475eae351bf",
   "metadata": {},
   "source": [
    "#Q2"
   ]
  },
  {
   "cell_type": "code",
   "execution_count": 53,
   "id": "a7f25f1e-ab74-4f8c-befa-55c75278e70f",
   "metadata": {},
   "outputs": [
    {
     "name": "stdin",
     "output_type": "stream",
     "text": [
      "Enter String :  qwe\n",
      "Enter 1st Character :  1\n"
     ]
    },
    {
     "data": {
      "text/plain": [
       "False"
      ]
     },
     "execution_count": 53,
     "metadata": {},
     "output_type": "execute_result"
    }
   ],
   "source": [
    "str1  = input(\"Enter String : \")\n",
    "chara = input(\"Enter 1st Character : \")\n",
    "starts_with = lambda x: True if x.startswith(f'{chara}') else False\n",
    "starts_with(str1)"
   ]
  },
  {
   "cell_type": "code",
   "execution_count": 72,
   "id": "76c859f3-06a5-4c3e-a8ef-cef172ecceab",
   "metadata": {},
   "outputs": [
    {
     "name": "stdin",
     "output_type": "stream",
     "text": [
      "Enter String :  -43432.57\n"
     ]
    },
    {
     "data": {
      "text/plain": [
       "True"
      ]
     },
     "execution_count": 72,
     "metadata": {},
     "output_type": "execute_result"
    }
   ],
   "source": [
    "num_str  = input(\"Enter String : \")\n",
    "is_num = lambda q: q.replace('.','',1).isdigit()\n",
    "is_num1 = lambda r: is_num(r[1:]) if r[0]=='-' else is_num(r)\n",
    "is_num1(num_str)"
   ]
  },
  {
   "cell_type": "code",
   "execution_count": 73,
   "id": "dc957bed-2f35-4c16-af66-8706fd2cf759",
   "metadata": {},
   "outputs": [
    {
     "data": {
      "text/plain": [
       "[('orange', 80), ('mango', 99), ('grapes', 1000)]"
      ]
     },
     "execution_count": 73,
     "metadata": {},
     "output_type": "execute_result"
    }
   ],
   "source": [
    "fruit_list = [(\"mango\",99),(\"orange\",80), (\"grapes\", 1000)]\n",
    "fruit_list.sort(key=lambda x : x[1])\n",
    "fruit_list"
   ]
  },
  {
   "cell_type": "code",
   "execution_count": 75,
   "id": "d492a78a-72eb-4be5-8f78-98dc1a7ed196",
   "metadata": {},
   "outputs": [
    {
     "data": {
      "text/plain": [
       "[1, 4, 9, 16, 25, 36, 49, 64, 81, 100]"
      ]
     },
     "execution_count": 75,
     "metadata": {},
     "output_type": "execute_result"
    }
   ],
   "source": [
    "num_list = [1, 2, 3, 4, 5, 6, 7, 8, 9, 10]\n",
    "list(map(lambda x : x**2,num_list))"
   ]
  },
  {
   "cell_type": "code",
   "execution_count": 76,
   "id": "1cb72395-fd4f-4567-9745-0d3fa2e78541",
   "metadata": {},
   "outputs": [
    {
     "data": {
      "text/plain": [
       "[1, 8, 27, 64, 125, 216, 343, 512, 729, 1000]"
      ]
     },
     "execution_count": 76,
     "metadata": {},
     "output_type": "execute_result"
    }
   ],
   "source": [
    "num_list = [1, 2, 3, 4, 5, 6, 7, 8, 9, 10]\n",
    "list(map(lambda x : x**3,num_list))"
   ]
  },
  {
   "cell_type": "code",
   "execution_count": 99,
   "id": "5af77194-c83c-4d1f-80cb-cee7ebdbefa3",
   "metadata": {},
   "outputs": [
    {
     "data": {
      "text/plain": [
       "'12 is even'"
      ]
     },
     "execution_count": 99,
     "metadata": {},
     "output_type": "execute_result"
    }
   ],
   "source": [
    "result = lambda x : f\"{x} is even\" if x %2==0 else f\"{x} is odd\"\n",
    "result(12)"
   ]
  },
  {
   "cell_type": "code",
   "execution_count": 81,
   "id": "fae849ff-d05a-4814-8d04-00bac6025558",
   "metadata": {},
   "outputs": [
    {
     "data": {
      "text/plain": [
       "[1, 3, 5, 7, 9]"
      ]
     },
     "execution_count": 81,
     "metadata": {},
     "output_type": "execute_result"
    }
   ],
   "source": [
    "num_list = [1,2,3,4,5,6,7,8,9,10]\n",
    "list(filter(lambda x : x % 2 != 0 ,num_list))"
   ]
  },
  {
   "cell_type": "code",
   "execution_count": 87,
   "id": "bccacaec-be1c-4eae-a548-8ca98f17c66d",
   "metadata": {},
   "outputs": [
    {
     "name": "stdout",
     "output_type": "stream",
     "text": [
      "Positive List :  [1, 2, 3, 4, 5, 6]\n",
      "Negative List :  [-1, -2, -3, -4, -5]\n"
     ]
    }
   ],
   "source": [
    "lst = [1,2,3,4,5,6,-1,-2,-3,-4,-5,0]\n",
    "positive_numbers = list(filter(lambda x: x > 0, lst))\n",
    "negative_numbers = list(filter(lambda x: x < 0, lst))\n",
    "print(\"Positive List : \",positive_numbers)\n",
    "print(\"Negative List : \",negative_numbers)"
   ]
  }
 ],
 "metadata": {
  "kernelspec": {
   "display_name": "Python 3 (ipykernel)",
   "language": "python",
   "name": "python3"
  },
  "language_info": {
   "codemirror_mode": {
    "name": "ipython",
    "version": 3
   },
   "file_extension": ".py",
   "mimetype": "text/x-python",
   "name": "python",
   "nbconvert_exporter": "python",
   "pygments_lexer": "ipython3",
   "version": "3.10.8"
  }
 },
 "nbformat": 4,
 "nbformat_minor": 5
}
