{
 "cells": [
  {
   "cell_type": "markdown",
   "id": "a6865b91-2bd0-42aa-87e2-365578b39b1b",
   "metadata": {},
   "source": [
    "<br>\n",
    "Q1. Explain GET and POST methods."
   ]
  },
  {
   "cell_type": "markdown",
   "id": "62cecf7f-5baf-441e-9e14-db98a2e90b9e",
   "metadata": {},
   "source": [
    "GET:\n",
    "\n",
    "GET is used to request data from a specified resource.\n",
    "Note that the query string (name/value pairs) is sent in the URL of a GET request:\n",
    "\n",
    "Example:<br>\n",
    "/test/demo_form.php?name1=value1&name2=value2\n",
    "\n",
    "POST:\n",
    "\n",
    "POST is used to send data to a server to create/update a resource.\n",
    "The data sent to the server with POST is stored in the request body of the HTTP request:\n",
    "\n",
    "Example:<br>\n",
    "POST /test/demo_form.php HTTP/1.1\n",
    "<br>\n",
    "Host: w3schools.com\n",
    "<br>\n",
    "name1=value1&name2=value2"
   ]
  },
  {
   "cell_type": "markdown",
   "id": "dd263fc8-7af1-478a-b098-346cf2a728da",
   "metadata": {},
   "source": [
    "<br>\n",
    "Q2. Why is request used in Flask?"
   ]
  },
  {
   "cell_type": "markdown",
   "id": "b7e5feec-de8a-4bec-a094-26256cce7407",
   "metadata": {},
   "source": [
    "In the client-server architecture, the request object contains all the data that is sent from the client to the server. As we have already discussed in the tutorial, we can retrieve the data at the server side using the HTTP methods.\n",
    "\n",
    "When the Flask application handles a request, it creates a Request object based on the environment it received from the WSGI server. Because a worker (thread, process, or coroutine depending on the server) handles only one request at a time, the request data can be considered global to that worker during that request."
   ]
  },
  {
   "cell_type": "markdown",
   "id": "64471db0-9008-4e8e-ac0f-cdc9e93ee63e",
   "metadata": {},
   "source": [
    "<br>\n",
    "Q3. Why is redirect() used in Flask?"
   ]
  },
  {
   "cell_type": "markdown",
   "id": "47871ccb-4f3c-4703-a154-4a3286d69a10",
   "metadata": {},
   "source": [
    "A redirect is used in the Flask class to send the user to a particular URL with the status code. conversely, this status code additionally identifies the issue. When we access a website, our browser sends a request to the server, and the server replies with what is known as the HTTP status code, which is a three-digit number."
   ]
  },
  {
   "cell_type": "markdown",
   "id": "32995659-c6f4-4dd9-aa2c-8f59985349e8",
   "metadata": {},
   "source": [
    "<br>\n",
    "Q4. What are templates in Flask? Why is the render_template() function used?"
   ]
  },
  {
   "cell_type": "markdown",
   "id": "5fd8a437-e1c6-4e6a-ad05-0ca089e24316",
   "metadata": {},
   "source": [
    "Templates are files that contain static data as well as placeholders for dynamic data. A template is rendered with specific data to produce a final document. Flask uses the Jinja template library to render templates. In your application, you will use templates to render HTML which will display in the user's browser.\n",
    "\n",
    "render_template is a Flask function from the flask.templating package. render_template is used to generate output from a template file based on the Jinja2 engine that is found in the application's templates folder.\n",
    "\n",
    "Note that render_template is typically imported directly from the flask package instead of from flask.templating. It is the same function that is imported, but there are less characters to type when you leave off the .templating part."
   ]
  },
  {
   "cell_type": "markdown",
   "id": "34b3a33b-3ee5-425b-9c4f-82ba952c9e8a",
   "metadata": {},
   "source": [
    "<br>\n",
    "Q5. Create a simple API. Use Postman to test it. Attach the screenshot of the output in the Jupyter Notebook."
   ]
  },
  {
   "cell_type": "code",
   "execution_count": null,
   "id": "a9467b38-c47c-47d1-9ed1-0c22193e34bd",
   "metadata": {},
   "outputs": [],
   "source": []
  }
 ],
 "metadata": {
  "kernelspec": {
   "display_name": "Python 3 (ipykernel)",
   "language": "python",
   "name": "python3"
  },
  "language_info": {
   "codemirror_mode": {
    "name": "ipython",
    "version": 3
   },
   "file_extension": ".py",
   "mimetype": "text/x-python",
   "name": "python",
   "nbconvert_exporter": "python",
   "pygments_lexer": "ipython3",
   "version": "3.10.8"
  }
 },
 "nbformat": 4,
 "nbformat_minor": 5
}
