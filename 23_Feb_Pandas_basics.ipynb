{
 "cells": [
  {
   "cell_type": "markdown",
   "id": "d1c16625",
   "metadata": {},
   "source": [
    "Q1. Create a Pandas Series that contains the following data: 4, 8, 15, 16, 23, and 42. Then, print the series."
   ]
  },
  {
   "cell_type": "code",
   "execution_count": 32,
   "id": "2df3274c",
   "metadata": {},
   "outputs": [
    {
     "data": {
      "text/plain": [
       "0     4\n",
       "1     8\n",
       "2    15\n",
       "3    16\n",
       "4    23\n",
       "5    42\n",
       "dtype: int64"
      ]
     },
     "execution_count": 32,
     "metadata": {},
     "output_type": "execute_result"
    }
   ],
   "source": [
    "import pandas as pd\n",
    "\n",
    "col1 = [4,8,15,16,23,42]\n",
    "\n",
    "se1 = pd.Series(col1)\n",
    "se1"
   ]
  },
  {
   "cell_type": "markdown",
   "id": "ace37b59",
   "metadata": {},
   "source": [
    "<br>Q2. Create a variable of list type containing 10 elements in it, and apply pandas.Series function on the\n",
    "variable print it."
   ]
  },
  {
   "cell_type": "code",
   "execution_count": 33,
   "id": "de23fe83",
   "metadata": {},
   "outputs": [
    {
     "data": {
      "text/plain": [
       "0     1\n",
       "1     2\n",
       "2     3\n",
       "3     4\n",
       "4     5\n",
       "5     6\n",
       "6     7\n",
       "7     8\n",
       "8     9\n",
       "9    10\n",
       "dtype: int64"
      ]
     },
     "execution_count": 33,
     "metadata": {},
     "output_type": "execute_result"
    }
   ],
   "source": [
    "lst = [1,2,3,4,5,6,7,8,9,10]\n",
    "\n",
    "se = pd.Series(lst)\n",
    "se"
   ]
  },
  {
   "cell_type": "markdown",
   "id": "aa66cff4",
   "metadata": {},
   "source": [
    "<br>Q3. Create a Pandas DataFrame that contains the following data:\n",
    "\n",
    "Then, print the DataFrame."
   ]
  },
  {
   "cell_type": "code",
   "execution_count": 34,
   "id": "ab93d53e",
   "metadata": {},
   "outputs": [
    {
     "data": {
      "text/html": [
       "<div>\n",
       "<style scoped>\n",
       "    .dataframe tbody tr th:only-of-type {\n",
       "        vertical-align: middle;\n",
       "    }\n",
       "\n",
       "    .dataframe tbody tr th {\n",
       "        vertical-align: top;\n",
       "    }\n",
       "\n",
       "    .dataframe thead th {\n",
       "        text-align: right;\n",
       "    }\n",
       "</style>\n",
       "<table border=\"1\" class=\"dataframe\">\n",
       "  <thead>\n",
       "    <tr style=\"text-align: right;\">\n",
       "      <th></th>\n",
       "      <th>Name</th>\n",
       "      <th>Age</th>\n",
       "      <th>Gender</th>\n",
       "    </tr>\n",
       "  </thead>\n",
       "  <tbody>\n",
       "    <tr>\n",
       "      <th>0</th>\n",
       "      <td>Alice</td>\n",
       "      <td>25</td>\n",
       "      <td>Female</td>\n",
       "    </tr>\n",
       "    <tr>\n",
       "      <th>1</th>\n",
       "      <td>Bob</td>\n",
       "      <td>30</td>\n",
       "      <td>Male</td>\n",
       "    </tr>\n",
       "    <tr>\n",
       "      <th>2</th>\n",
       "      <td>Claire</td>\n",
       "      <td>27</td>\n",
       "      <td>Female</td>\n",
       "    </tr>\n",
       "  </tbody>\n",
       "</table>\n",
       "</div>"
      ],
      "text/plain": [
       "     Name  Age  Gender\n",
       "0   Alice   25  Female\n",
       "1     Bob   30    Male\n",
       "2  Claire   27  Female"
      ]
     },
     "execution_count": 34,
     "metadata": {},
     "output_type": "execute_result"
    }
   ],
   "source": [
    "\n",
    "data={\"Name\":[\"Alice\",\"Bob\",\"Claire\"],\n",
    "\"Age\":[25,30,27],\n",
    "\"Gender\":[\"Female\",\"Male\",\"Female\"]\n",
    "}\n",
    "\n",
    "df = pd.DataFrame(data)\n",
    "df"
   ]
  },
  {
   "cell_type": "markdown",
   "id": "1415cc11",
   "metadata": {},
   "source": [
    "Q4. What is ‘DataFrame’ in pandas and how is it different from pandas.series? Explain with an example.\n",
    "<br>"
   ]
  },
  {
   "cell_type": "markdown",
   "id": "69654ddc",
   "metadata": {},
   "source": [
    "In pandas, a DataFrame is a two-dimensional, size-mutable, and potentially heterogeneous tabular data structure with labeled axes (rows and columns). It can be thought of as similar to a spreadsheet or SQL table. \n",
    "\n",
    "Difference between DataFrame and Series :\n",
    "\n",
    "DataFrame:\n",
    "1. A two-dimensional structure.\n",
    "2. Can store data of different types in different columns.\n",
    "3. Contains both row and column labels, making it easy to access and manipulate data.\n",
    "\n",
    "Series:\n",
    "1. A one-dimensional structure, essentially a single column of data.\n",
    "2. Contains data of a single type.\n",
    "3. Has an index (label) for each element.\n",
    "\n",
    "Example:<br>\n",
    "The se Series and df Dataframe can be used for examples we can clearly see the df is multi-dimensional but the se is only one-dimensional."
   ]
  },
  {
   "cell_type": "markdown",
   "id": "c0ac6dd0",
   "metadata": {},
   "source": [
    "<br>Q5. What are some common functions you can use to manipulate data in a Pandas DataFrame? Can\n",
    "you give an example of when you might use one of these functions?"
   ]
  },
  {
   "cell_type": "markdown",
   "id": "466ebf9f",
   "metadata": {},
   "source": [
    "Some of the commonly used function to manipluate data in a DataFrame are as follows :\n",
    "1. iloc[]\n",
    "2. pivot()\n",
    "3. apply()\n",
    "4. fillna()\n",
    "5. drop()"
   ]
  },
  {
   "cell_type": "code",
   "execution_count": 35,
   "id": "46b2cccd",
   "metadata": {},
   "outputs": [
    {
     "name": "stdout",
     "output_type": "stream",
     "text": [
      "     Name  Age  Gender\n",
      "0   Alice   25  Female\n",
      "1     Bob   30    Male\n",
      "2  Claire   27  Female\n",
      "----------------------\n",
      "     Name  Age  Gender\n",
      "0   Alice   12  Female\n",
      "1     Bob   30    Male\n",
      "2  Claire   27  Female\n"
     ]
    }
   ],
   "source": [
    "print(df)\n",
    "df.iloc[0,1] = 12\n",
    "print('----------------------')\n",
    "print(df)"
   ]
  },
  {
   "cell_type": "markdown",
   "id": "1ccbb3bb",
   "metadata": {},
   "source": [
    "<br>\n",
    "Q6. Which of the following is mutable in nature Series, DataFrame, Panel?"
   ]
  },
  {
   "cell_type": "markdown",
   "id": "15a052d1",
   "metadata": {},
   "source": [
    "All three Series, DataFrame, Panel are mutable in Nature."
   ]
  },
  {
   "cell_type": "markdown",
   "id": "8555abf4",
   "metadata": {},
   "source": [
    "<br>\n",
    "Q7. Create a DataFrame using multiple Series. Explain with an example."
   ]
  },
  {
   "cell_type": "code",
   "execution_count": 36,
   "id": "50000b3d",
   "metadata": {},
   "outputs": [
    {
     "data": {
      "text/html": [
       "<div>\n",
       "<style scoped>\n",
       "    .dataframe tbody tr th:only-of-type {\n",
       "        vertical-align: middle;\n",
       "    }\n",
       "\n",
       "    .dataframe tbody tr th {\n",
       "        vertical-align: top;\n",
       "    }\n",
       "\n",
       "    .dataframe thead th {\n",
       "        text-align: right;\n",
       "    }\n",
       "</style>\n",
       "<table border=\"1\" class=\"dataframe\">\n",
       "  <thead>\n",
       "    <tr style=\"text-align: right;\">\n",
       "      <th></th>\n",
       "      <th>index</th>\n",
       "      <th>name</th>\n",
       "      <th>result</th>\n",
       "    </tr>\n",
       "  </thead>\n",
       "  <tbody>\n",
       "    <tr>\n",
       "      <th>0</th>\n",
       "      <td>1</td>\n",
       "      <td>Rakesh</td>\n",
       "      <td>Fail</td>\n",
       "    </tr>\n",
       "    <tr>\n",
       "      <th>1</th>\n",
       "      <td>2</td>\n",
       "      <td>Prince</td>\n",
       "      <td>Pass</td>\n",
       "    </tr>\n",
       "    <tr>\n",
       "      <th>2</th>\n",
       "      <td>3</td>\n",
       "      <td>Rahul</td>\n",
       "      <td>Fail</td>\n",
       "    </tr>\n",
       "  </tbody>\n",
       "</table>\n",
       "</div>"
      ],
      "text/plain": [
       "   index    name result\n",
       "0      1  Rakesh   Fail\n",
       "1      2  Prince   Pass\n",
       "2      3   Rahul   Fail"
      ]
     },
     "execution_count": 36,
     "metadata": {},
     "output_type": "execute_result"
    }
   ],
   "source": [
    "series1 = pd.Series([1,2,3])\n",
    "series2 = pd.Series([\"Rakesh\",\"Prince\",\"Rahul\"])\n",
    "series3 = pd.Series([\"Fail\",\"Pass\",\"Fail\"])\n",
    "\n",
    "seriesData = data = {\n",
    "    'index': series1,\n",
    "    'name': series2,\n",
    "    'result': series3\n",
    "}\n",
    "\n",
    "seriesDf = pd.DataFrame(seriesData)\n",
    "seriesDf"
   ]
  },
  {
   "cell_type": "markdown",
   "id": "7d02c7f4",
   "metadata": {},
   "source": [
    "In this example, we create three Series (series1, series2, and series3), and then we create a DataFrame seriesDf by passing a dictionary where the keys are the column names, and the values are the Series. The resulting DataFrame will have three columns: 'index', 'name', and 'result', with the data from the corresponding Series."
   ]
  },
  {
   "cell_type": "code",
   "execution_count": 42,
   "id": "c5f2e6e5",
   "metadata": {},
   "outputs": [
    {
     "name": "stdout",
     "output_type": "stream",
     "text": [
      "1        Bob\n",
      "2    Charlie\n",
      "Name: name, dtype: object\n"
     ]
    }
   ],
   "source": [
    "data = {'name': ['Alice', 'Bob', 'Charlie'], 'age': [30, 25, 40]}\n",
    "\n",
    "df = pd.DataFrame(data)\n",
    "\n",
    " \n",
    "\n",
    "df_subset = df.loc[1:2, 'name']\n",
    "\n",
    " \n",
    "\n",
    "print(df_subset)"
   ]
  },
  {
   "cell_type": "code",
   "execution_count": 44,
   "id": "cb4c0f18",
   "metadata": {},
   "outputs": [
    {
     "name": "stdout",
     "output_type": "stream",
     "text": [
      "        date  sales  month\n",
      "0 2022-01-01    100      1\n",
      "1 2022-02-01    200      2\n",
      "2 2022-03-01    300      3\n"
     ]
    }
   ],
   "source": [
    "data = {'date': ['2022-01-01', '2022-02-01', '2022-03-01'], 'sales': [100, 200, 300]}\n",
    "\n",
    "df = pd.DataFrame(data)\n",
    "\n",
    " \n",
    "\n",
    "df['date'] = pd.to_datetime(df['date'])\n",
    "\n",
    "df['month'] = df['date'].dt.month\n",
    "\n",
    " \n",
    "\n",
    "print(df)"
   ]
  },
  {
   "cell_type": "code",
   "execution_count": null,
   "id": "1bfc7d80",
   "metadata": {},
   "outputs": [],
   "source": []
  }
 ],
 "metadata": {
  "kernelspec": {
   "display_name": "Python 3 (ipykernel)",
   "language": "python",
   "name": "python3"
  },
  "language_info": {
   "codemirror_mode": {
    "name": "ipython",
    "version": 3
   },
   "file_extension": ".py",
   "mimetype": "text/x-python",
   "name": "python",
   "nbconvert_exporter": "python",
   "pygments_lexer": "ipython3",
   "version": "3.10.4"
  }
 },
 "nbformat": 4,
 "nbformat_minor": 5
}
