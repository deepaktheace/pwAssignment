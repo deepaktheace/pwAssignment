{
 "cells": [
  {
   "cell_type": "code",
   "execution_count": 66,
   "id": "488220ac-0c92-4a93-a85d-7108fed70efa",
   "metadata": {},
   "outputs": [
    {
     "name": "stdout",
     "output_type": "stream",
     "text": [
      "4134711838987085478833841242112000\n"
     ]
    }
   ],
   "source": [
    "from functools import reduce\n",
    "def product_of_numbers(lst):\n",
    "    flat_list = []\n",
    "    for item in lst:\n",
    "        if type(item) in (int, float):\n",
    "            flat_list.append(item)\n",
    "        elif type(item) == bool:\n",
    "            continue\n",
    "        elif type(item) == str:\n",
    "            continue\n",
    "        elif type(item) == list:\n",
    "            flat_list.extend([i for i in item if type(i) in (int, float)])\n",
    "        elif type(item) == tuple:\n",
    "            flat_list.extend([i for i in item if type(i) in (int, float)])\n",
    "        elif type(item) == set:\n",
    "            flat_list.extend([i for i in item if type(i) in (int, float)])\n",
    "        elif type(item) == dict:\n",
    "            flat_list.extend([i for i in item.values() if type(i) in (int, float)])\n",
    "            flat_list.extend([i for i in item.keys() if type(i) in (int, float)])\n",
    "            for k, v in item.items():\n",
    "                if type(v) == list:\n",
    "                    flat_list.extend([i for i in v if type(i) in (int, float)])\n",
    "                elif type(v) == tuple:\n",
    "                    flat_list.extend([i for i in v if type(i) in (int, float)])\n",
    "                elif type(v) == set:\n",
    "                    flat_list.extend([i for i in v if type(i) in (int, float)])\n",
    "        else:\n",
    "            continue\n",
    "            \n",
    "    return reduce(lambda x,y : x*y,flat_list)\n",
    "\n",
    "list1 = [1,2,3,4, [44,55,66, True], False, (34,56,78,89,34), {1,2,3,3,2,1},\n",
    "        {1:34, \"key2\": [55, 67, 78, 89], 4: (45, 22, 61, 34)}, [56, 'data science'], 'Machine Learning']\n",
    "\n",
    "print(product_of_numbers(list1))"
   ]
  },
  {
   "cell_type": "code",
   "execution_count": 77,
   "id": "3d308dca-364d-4bda-98f2-b817f1545ecd",
   "metadata": {},
   "outputs": [
    {
     "data": {
      "text/plain": [
       "'I$wznt$to$yexome$z$Dztz$Sxientist.'"
      ]
     },
     "execution_count": 77,
     "metadata": {},
     "output_type": "execute_result"
    }
   ],
   "source": [
    "input_str = \"I want to become a Data Scientist.\"\n",
    "new_str = input_str.replace(\"a\",\"z\").replace(\"b\",\"y\").replace(\"c\",\"x\").replace(\" \",\"$\")\n",
    "new_str"
   ]
  },
  {
   "cell_type": "code",
   "execution_count": null,
   "id": "c26c93d2-1659-4262-905f-bb9d8dd98e68",
   "metadata": {},
   "outputs": [],
   "source": []
  }
 ],
 "metadata": {
  "kernelspec": {
   "display_name": "Python 3 (ipykernel)",
   "language": "python",
   "name": "python3"
  },
  "language_info": {
   "codemirror_mode": {
    "name": "ipython",
    "version": 3
   },
   "file_extension": ".py",
   "mimetype": "text/x-python",
   "name": "python",
   "nbconvert_exporter": "python",
   "pygments_lexer": "ipython3",
   "version": "3.10.8"
  }
 },
 "nbformat": 4,
 "nbformat_minor": 5
}
