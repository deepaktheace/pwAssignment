{
 "cells": [
  {
   "cell_type": "markdown",
   "id": "09282b07-1d97-401c-96e3-53874500f5fc",
   "metadata": {},
   "source": [
    "<br>\n",
    "Q1. What is Flask Framework? What are the advantages of Flask Framework?"
   ]
  },
  {
   "cell_type": "markdown",
   "id": "7e9f9fc8-45e2-4cb4-bc5d-63f502eb44e7",
   "metadata": {},
   "source": [
    "Flask is a great framework for modern development. Generally, you see two ideologies on frameworks. You have the micro-frameworks or libraries that are minimal or provide an ecosystem of components that can be mixed and matched as needed, focusing on including only what you need. Then you have the monoliths like Django which attempt to provide a complete toolset.\n",
    "\n",
    "\n",
    "Advantages:\n",
    "\n",
    "1. Scalable. I would argue more scalable than monoliths if using modern methods. Today, applications are often running in containers or using cloud computing with auto-scaling. Applications do not typically “scale” themselves. The infrastructure scales. With a smaller application, it's easier to deploy instances across thousands of server easily to handle increased traffic/load. That’s part of the reason why Pinterest needed to migrate from Django to Flask as they grew to support more of a microservices pattern.\n",
    "\n",
    "2. Simpler Development. If you understand Python well, then you’ll be able to move around and contribute to a Flask application pretty easily. It’s less opinionated so fewer standards to learn.\n",
    "3. Flexibility. There are very few parts of Flask that cannot be easily and safely altered because of its simplicity and minimality.\n",
    "\n",
    "Disadvantages:\n",
    "\n",
    "1. Not standardized. On the flip side of being simpler, it’s not very opinionated. A Python developer without Flask experience will get adjusted to a Flask application quicker than a Python developer without Django experience would get adjusted to a Django application. But Django is building up a large group of talent who knows the framework very well. A Python developer with Django experience will get adjusted to a new Django app quicker than a Python developer with Flask experience would get adjusted to a large Flask application.\n",
    "2. Bad developers will write worse code. I like to assume that companies are not hiring “bad developers”, but in the case that you have a younger developer training or used to have developers contributing lower quality code, then it will amplify the bad code. It’s easier to draw within the lines of a large, standardized framework like Django.\n",
    "3. Fewer tools. You don’t have a full toolset underneath you. So you may need to build more on your own or search out extensions/libraries from the community."
   ]
  },
  {
   "cell_type": "markdown",
   "id": "b1d49576-9bf0-42b2-afe5-dc8ac01250ea",
   "metadata": {},
   "source": [
    "<br>\n",
    "Q2. Create a simple Flask application to display ‘Hello World!!’. Attach the screenshot of the output in\n",
    "Jupyter Notebook."
   ]
  },
  {
   "cell_type": "markdown",
   "id": "d69b6232-7724-400a-811f-03aa21518cd7",
   "metadata": {},
   "source": [
    "![title](img/output.png)"
   ]
  },
  {
   "cell_type": "markdown",
   "id": "a9d1e2ef-9c53-4a80-8e5d-8dd48012d4fe",
   "metadata": {},
   "source": [
    "<br>\n",
    "Q3. What is App routing in Flask? Why do we use app routes?"
   ]
  },
  {
   "cell_type": "markdown",
   "id": "3571ab21-8da5-43b8-9fc3-aca2b0618d7a",
   "metadata": {},
   "source": [
    "Routing In Flask\n",
    "\n",
    "App routing is the technique used to map the specific URL with the associated function intended to perform some task. The Latest Web frameworks use the routing technique to help users remember application URLs. It is helpful to access the desired page directly without navigating from the home page.\n",
    "\n",
    "The URL (‘/’) is linked with the root URL in every application.  "
   ]
  },
  {
   "cell_type": "markdown",
   "id": "5d2c6664-c95d-4a9c-992d-d191217bc34e",
   "metadata": {},
   "source": [
    "<br>\n",
    "Q4. Create a “/welcome” route to display the welcome message “Welcome to ABC Corporation” and a “/”\n",
    "route to show the following details:\n",
    "Company Name: ABC Corporation\n",
    "Location: India\n",
    "Contact Detail: 999-999-9999\n",
    "Attach the screenshot of the output in Jupyter Notebook."
   ]
  },
  {
   "cell_type": "markdown",
   "id": "3afbb894-a5c1-44f9-b62c-a0c928244d98",
   "metadata": {},
   "source": [
    "![Code](img/company_code.png)"
   ]
  },
  {
   "cell_type": "markdown",
   "id": "10146fd6-437d-4d79-924b-5d2f7425ca50",
   "metadata": {},
   "source": [
    "![Code](img/company_output.png)"
   ]
  },
  {
   "cell_type": "markdown",
   "id": "513405e3-d5d0-486b-8376-c6b741c54633",
   "metadata": {},
   "source": [
    "<br>\n",
    "Q5. What function is used in Flask for URL Building? Write a Python code to demonstrate the working of the\n",
    "url_for() function."
   ]
  },
  {
   "cell_type": "markdown",
   "id": "8678d086-7dce-4b38-ab50-aa239258eb09",
   "metadata": {},
   "source": [
    "The url_for() method, is used to prepare a URL, for a function dynamically, such that, changing URLs, in the application, is avoided. It accepts, the name of the view function, as the first argument, and, any number of keywords, to be sent(to the view function), as the second argument. "
   ]
  },
  {
   "cell_type": "code",
   "execution_count": 6,
   "id": "4d24698c-3b2c-4aeb-b4fe-1b53ce5efebf",
   "metadata": {},
   "outputs": [],
   "source": [
    "from flask import Flask, jsonify, request, redirect,  url_for\n",
    "\n",
    "app = Flask(__name__)\n",
    "\n",
    "@app.route('/', methods=['GET'])\n",
    "def index():\n",
    "    if(request.method == 'GET'):\n",
    "        data = {\"Company Name\": \"ABC Corporation\", \"Location\": \"India\", \"Contact Detail\": 999-999-9999}\n",
    "        return jsonify(data)\n",
    "\n",
    "@app.route(\"/welcome\")\n",
    "def welcome():\n",
    "    return \"<h1>Welcome to ABC Corporation</h1>\"\n",
    "\n",
    "@app.route(\"/welcome2\")\n",
    "def welcome2():\n",
    "    return redirect(url_for('welcome'))\n"
   ]
  },
  {
   "cell_type": "markdown",
   "id": "f58e087f-d1d5-48d8-8bbf-42cf9d29865c",
   "metadata": {},
   "source": [
    "This is a simple example of url_for which is used in redirect function, where redirect is been used to redirect to other endpoint of web-application in url_for we can pass the function name in string to trigger the binded route with the given function name. "
   ]
  },
  {
   "cell_type": "code",
   "execution_count": null,
   "id": "06a5907f-ac17-4855-bbe3-dec31763a379",
   "metadata": {},
   "outputs": [],
   "source": []
  }
 ],
 "metadata": {
  "kernelspec": {
   "display_name": "Python 3 (ipykernel)",
   "language": "python",
   "name": "python3"
  },
  "language_info": {
   "codemirror_mode": {
    "name": "ipython",
    "version": 3
   },
   "file_extension": ".py",
   "mimetype": "text/x-python",
   "name": "python",
   "nbconvert_exporter": "python",
   "pygments_lexer": "ipython3",
   "version": "3.10.8"
  }
 },
 "nbformat": 4,
 "nbformat_minor": 5
}
