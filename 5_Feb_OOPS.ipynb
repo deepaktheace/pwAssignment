{
 "cells": [
  {
   "cell_type": "markdown",
   "id": "2273712b-5907-4717-8f02-214f91d629e3",
   "metadata": {},
   "source": [
    "#Q1\n",
    "Python Classes\n",
    "\n",
    "A class is considered as a blueprint of objects. We can think of the class as a sketch (prototype) of a house. It contains all the details about the floors, doors, windows, etc. Based on these descriptions we build the house. House is the object.\n",
    "\n",
    "Since many houses can be made from the same description, we can create many objects from a class.\n",
    "\n",
    "Python Objects\n",
    "\n",
    "An object is called an instance of a class. For example, suppose Bike is a class then we can create objects like bike1, bike2, etc from the class.\n",
    "\n",
    "Example"
   ]
  },
  {
   "cell_type": "code",
   "execution_count": 22,
   "id": "462fffa5-eef6-4a75-a53c-38ff22ecaa9c",
   "metadata": {},
   "outputs": [
    {
     "data": {
      "text/plain": [
       "('siden', 'GJ05MT1203')"
      ]
     },
     "execution_count": 22,
     "metadata": {},
     "output_type": "execute_result"
    }
   ],
   "source": [
    "class car:\n",
    "    \n",
    "    def __init__(self,car_type,car_number):\n",
    "        self.car_type = car_type\n",
    "        self.car_number = car_number\n",
    "    def details(self):\n",
    "        return self.car_type,self.car_number\n",
    "\n",
    "maruti_100 = car(\"siden\",\"GJ05MT1203\")\n",
    "maruti_100.details()"
   ]
  },
  {
   "cell_type": "markdown",
   "id": "b14d144f-7371-4a25-8bdc-2e29fe8258f5",
   "metadata": {},
   "source": [
    "Here, in the above example the car is a class and maruti_100 is an object. We can say that maruti_100 have to attributes named as car_type and car_number"
   ]
  },
  {
   "cell_type": "markdown",
   "id": "92cdbe71-64a5-428e-8d1b-66e357529717",
   "metadata": {},
   "source": [
    "Q2\n",
    "There are four basic pillars of object-oriented programming (OOP) in Python:\n",
    "\n",
    "Encapsulation: Encapsulation is the practice of hiding the internal details of an object from the outside world and providing a public interface for accessing and manipulating the object's state. This is achieved through the use of classes, which encapsulate data and methods.\n",
    "\n",
    "Abstraction: Abstraction is the process of reducing complexity by hiding unnecessary details and exposing only what is relevant. In Python, abstraction is achieved through the use of abstract classes and interfaces.\n",
    "\n",
    "Inheritance: Inheritance is the process of creating a new class that is a modified version of an existing class. In Python, inheritance is achieved through the use of the \"class\" keyword and the \"super()\" function.\n",
    "\n",
    "Polymorphism: Polymorphism is the ability of an object to take on many forms. In Python, polymorphism is achieved through the use of method overloading, operator overloading, and duck typing."
   ]
  },
  {
   "cell_type": "markdown",
   "id": "4f25f6bb-be41-4821-8f81-7ab3a64cb7cc",
   "metadata": {},
   "source": [
    "#Q3 The __init__ method is the Python equivalent of the C++ constructor in an object-oriented approach. The __init__  function is called every time an object is created from a class. The __init__ method lets the class initialize the object’s attributes and serves no other purpose. \n",
    "It is only used within classes. "
   ]
  },
  {
   "cell_type": "code",
   "execution_count": 23,
   "id": "d608b94c-583d-462b-92cc-fcc241ddc8ba",
   "metadata": {},
   "outputs": [
    {
     "data": {
      "text/plain": [
       "('siden', 'GJ05MT1203')"
      ]
     },
     "execution_count": 23,
     "metadata": {},
     "output_type": "execute_result"
    }
   ],
   "source": [
    "class car:\n",
    "    \n",
    "    def __init__(self,car_type,car_number):\n",
    "        self.car_type = car_type\n",
    "        self.car_number = car_number\n",
    "    def details(self):\n",
    "        return self.car_type,self.car_number\n",
    "\n",
    "maruti_100 = car(\"siden\",\"GJ05MT1203\")\n",
    "maruti_100.details()"
   ]
  },
  {
   "cell_type": "markdown",
   "id": "8a5d57b6-ae14-4bd3-b430-530f5926af82",
   "metadata": {},
   "source": [
    "#Q4\n",
    "self is used in Python or any other OOPS supporting language to refer current object in class methods or class constructor\n",
    "\n",
    "Unlike other programming languages like C++, where self is considered to be a keyword, in Python it is a convention that programmers tend to follow. It is basically a parameter in a method definition. However, you can use any other name in place of self like another or me or anything else for the first parameter of a method."
   ]
  },
  {
   "cell_type": "markdown",
   "id": "4684114e-c0f3-463b-a613-c90bc512e6a6",
   "metadata": {},
   "source": [
    "Q5 \n",
    "Inheritance is defined as the mechanism of inheriting the properties of the base class to the child class. Here we a going to see the types of inheritance in Python.\n",
    "\n",
    "Single Inheritance: \n",
    "Single inheritance enables a derived class to inherit properties from a single parent class, thus enabling code reusability and the addition of new features to existing code.\n",
    "Example"
   ]
  },
  {
   "cell_type": "code",
   "execution_count": 24,
   "id": "4a7b88c8-dff5-456f-acb4-5a8be94d6988",
   "metadata": {},
   "outputs": [
    {
     "name": "stdout",
     "output_type": "stream",
     "text": [
      "This function is in parent class.\n",
      "This function is in child class.\n"
     ]
    }
   ],
   "source": [
    "# single inheritance\n",
    "# Base class\n",
    "class Parent:\n",
    "\tdef func1(self):\n",
    "\t\tprint(\"This function is in parent class.\")\n",
    "\n",
    "# Derived class\n",
    "class Child(Parent):\n",
    "\tdef func2(self):\n",
    "\t\tprint(\"This function is in child class.\")\n",
    "\n",
    "# Driver's code\n",
    "object = Child()\n",
    "object.func1()\n",
    "object.func2()"
   ]
  },
  {
   "cell_type": "markdown",
   "id": "1b7510a5-c75f-4884-9bc1-ddf5258f8d1a",
   "metadata": {},
   "source": [
    "Multiple Inheritance: \n",
    "When a class can be derived from more than one base class this type of inheritance is called multiple inheritances. In multiple inheritances, all the features of the base classes are inherited into the derived class. \n",
    "Example\n"
   ]
  },
  {
   "cell_type": "code",
   "execution_count": 25,
   "id": "45e01849-a104-465a-ba11-8bc9a650bbe5",
   "metadata": {},
   "outputs": [
    {
     "name": "stdout",
     "output_type": "stream",
     "text": [
      "Father : RAM\n",
      "Mother : SITA\n"
     ]
    }
   ],
   "source": [
    "# multiple inheritance\n",
    "# Base class1\n",
    "class Mother:\n",
    "\tmothername = \"\"\n",
    "\n",
    "\tdef mother(self):\n",
    "\t\tprint(self.mothername)\n",
    "\n",
    "# Base class2\n",
    "class Father:\n",
    "\tfathername = \"\"\n",
    "\n",
    "\tdef father(self):\n",
    "\t\tprint(self.fathername)\n",
    "\n",
    "# Derived class\n",
    "class Son(Mother, Father):\n",
    "\tdef parents(self):\n",
    "\t\tprint(\"Father :\", self.fathername)\n",
    "\t\tprint(\"Mother :\", self.mothername)\n",
    "\n",
    "# Driver's code\n",
    "s1 = Son()\n",
    "s1.fathername = \"RAM\"\n",
    "s1.mothername = \"SITA\"\n",
    "s1.parents()"
   ]
  },
  {
   "cell_type": "markdown",
   "id": "ca035b08-8c51-4683-924e-13d7c09c07c8",
   "metadata": {},
   "source": [
    "Multilevel Inheritance :\n",
    "In multilevel inheritance, features of the base class and the derived class are further inherited into the new derived class. This is similar to a relationship representing a child and a grandfather. Example"
   ]
  },
  {
   "cell_type": "code",
   "execution_count": 26,
   "id": "fa8632ae-9054-4fc1-a1ec-a60f41e98320",
   "metadata": {},
   "outputs": [
    {
     "name": "stdout",
     "output_type": "stream",
     "text": [
      "Grandfather name : Lal mani\n",
      "Father name : Rampal\n",
      "Son name : Prince\n"
     ]
    }
   ],
   "source": [
    "# multilevel inheritance\n",
    "\n",
    "# Base class\n",
    "class Grandfather:\n",
    "\n",
    "\tdef __init__(self, grandfathername):\n",
    "\t\tself.grandfathername = grandfathername\n",
    "\n",
    "# Intermediate class\n",
    "class Father(Grandfather):\n",
    "\tdef __init__(self, fathername, grandfathername):\n",
    "\t\tself.fathername = fathername\n",
    "\n",
    "\t\t# invoking constructor of Grandfather class\n",
    "\t\tGrandfather.__init__(self, grandfathername)\n",
    "\n",
    "# Derived class\n",
    "class Son(Father):\n",
    "\tdef __init__(self, sonname, fathername, grandfathername):\n",
    "\t\tself.sonname = sonname\n",
    "\n",
    "\t\t# invoking constructor of Father class\n",
    "\t\tFather.__init__(self, fathername, grandfathername)\n",
    "\n",
    "\tdef print_name(self):\n",
    "\t\tprint('Grandfather name :', self.grandfathername)\n",
    "\t\tprint(\"Father name :\", self.fathername)\n",
    "\t\tprint(\"Son name :\", self.sonname)\n",
    "\n",
    "# Driver code\n",
    "s1 = Son('Prince', 'Rampal', 'Lal mani')\n",
    "s1.print_name()"
   ]
  },
  {
   "cell_type": "markdown",
   "id": "8e332255-64b0-4c03-99de-b4a41ce68d68",
   "metadata": {},
   "source": [
    "Hierarchical Inheritance: \n",
    "When more than one derived class are created from a single base this type of inheritance is called hierarchical inheritance. In this program, we have a parent (base) class and two child (derived) classes. Example"
   ]
  },
  {
   "cell_type": "code",
   "execution_count": 27,
   "id": "84aa7c3b-bc41-43df-9e88-1603e9a1ea49",
   "metadata": {},
   "outputs": [
    {
     "name": "stdout",
     "output_type": "stream",
     "text": [
      "This function is in parent class.\n",
      "This function is in child 1.\n",
      "This function is in parent class.\n",
      "This function is in child 2.\n"
     ]
    }
   ],
   "source": [
    "# Hierarchical inheritance\n",
    "# Base class\n",
    "class Parent:\n",
    "\tdef func1(self):\n",
    "\t\tprint(\"This function is in parent class.\")\n",
    "\n",
    "# Derived class1\n",
    "class Child1(Parent):\n",
    "\tdef func2(self):\n",
    "\t\tprint(\"This function is in child 1.\")\n",
    "\n",
    "# Derivied class2\n",
    "class Child2(Parent):\n",
    "\tdef func3(self):\n",
    "\t\tprint(\"This function is in child 2.\")\n",
    "\n",
    "# Driver's code\n",
    "object1 = Child1()\n",
    "object2 = Child2()\n",
    "object1.func1()\n",
    "object1.func2()\n",
    "object2.func1()\n",
    "object2.func3()"
   ]
  },
  {
   "cell_type": "markdown",
   "id": "72441102-8cd5-4185-8376-b00fc940f02d",
   "metadata": {},
   "source": [
    "Hybrid Inheritance: \n",
    "Inheritance consisting of multiple types of inheritance is called hybrid inheritance."
   ]
  },
  {
   "cell_type": "code",
   "execution_count": 28,
   "id": "ed6500cf-d4a1-47da-a96e-ae633f0277c2",
   "metadata": {},
   "outputs": [
    {
     "name": "stdout",
     "output_type": "stream",
     "text": [
      "This function is in school.\n",
      "This function is in student 1. \n"
     ]
    }
   ],
   "source": [
    "# Python program to demonstrate\n",
    "# hybrid inheritance\n",
    "#Base class\n",
    "class School:\n",
    "\tdef func1(self):\n",
    "\t\tprint(\"This function is in school.\")\n",
    "\n",
    "# Derivied class1\n",
    "class Student1(School):\n",
    "\tdef func2(self):\n",
    "\t\tprint(\"This function is in student 1. \")\n",
    "\n",
    "# Derivied class2\n",
    "class Student2(School):\n",
    "\tdef func3(self):\n",
    "\t\tprint(\"This function is in student 2.\")\n",
    "\n",
    "#Multople Inheritance\n",
    "class Student3(Student1, School):\n",
    "\tdef func4(self):\n",
    "\t\tprint(\"This function is in student 3.\")\n",
    "\n",
    "# Driver's code\n",
    "object = Student3()\n",
    "object.func1()\n",
    "object.func2()"
   ]
  }
 ],
 "metadata": {
  "kernelspec": {
   "display_name": "Python 3 (ipykernel)",
   "language": "python",
   "name": "python3"
  },
  "language_info": {
   "codemirror_mode": {
    "name": "ipython",
    "version": 3
   },
   "file_extension": ".py",
   "mimetype": "text/x-python",
   "name": "python",
   "nbconvert_exporter": "python",
   "pygments_lexer": "ipython3",
   "version": "3.10.8"
  }
 },
 "nbformat": 4,
 "nbformat_minor": 5
}
