{
 "cells": [
  {
   "cell_type": "code",
   "execution_count": 3,
   "id": "992401e3-fe5f-43b3-97e2-5363265d82ba",
   "metadata": {},
   "outputs": [
    {
     "name": "stdin",
     "output_type": "stream",
     "text": [
      "Kindly Enter your marks :  99\n"
     ]
    },
    {
     "name": "stdout",
     "output_type": "stream",
     "text": [
      "You have achieved Grade A\n"
     ]
    }
   ],
   "source": [
    "#Q1\n",
    "marks = int(input(\"Kindly Enter your marks : \"))\n",
    "if marks <= 100:\n",
    "    if marks > 90:\n",
    "        print(\"You have achieved Grade A\")\n",
    "    elif marks > 80 and marks <= 90:\n",
    "        print(\"You have achieved Grade B\")\n",
    "    elif marks > 60 and marks <= 80:\n",
    "        print(\"You have achieved Grade C\")\n",
    "    elif marks < 60:\n",
    "        print(\"You have achieved Grade D\")\n",
    "else:\n",
    "    print(\"Invalid input marks can't be greater than 100\")"
   ]
  },
  {
   "cell_type": "code",
   "execution_count": 4,
   "id": "37ed9c3f-7471-4ff9-ae0d-640006a779c3",
   "metadata": {},
   "outputs": [
    {
     "name": "stdin",
     "output_type": "stream",
     "text": [
      "Kindly Enter your bike cost price :  100001\n"
     ]
    },
    {
     "name": "stdout",
     "output_type": "stream",
     "text": [
      "You have pay 15000.15 Rs as tax\n"
     ]
    }
   ],
   "source": [
    "#Q2\n",
    "cost = int(input(\"Kindly Enter your bike cost price : \"))\n",
    "if cost > 100000:\n",
    "        print(f\"You have pay {(cost*15)/100} Rs as tax\")\n",
    "elif cost > 50000 and cost <= 100000:\n",
    "        print(f\"You have pay {(cost*10)/100} Rs as tax\")\n",
    "elif cost <= 50000:\n",
    "        print(f\"You have pay {(cost*5)/100} Rs as tax\")"
   ]
  },
  {
   "cell_type": "code",
   "execution_count": 5,
   "id": "6a4862a8-0249-4d6e-aefe-26b4126a947f",
   "metadata": {},
   "outputs": [
    {
     "name": "stdin",
     "output_type": "stream",
     "text": [
      "Kindly Enter your city :  agra\n"
     ]
    },
    {
     "name": "stdout",
     "output_type": "stream",
     "text": [
      "Monument for Agra is Taj Mahal\n"
     ]
    }
   ],
   "source": [
    "#Q3\n",
    "city = str(input(\"Kindly Enter your city : \"))\n",
    "city = city.title()\n",
    "if city == \"Delhi\":\n",
    "        print(f\"Monument for {city} is Red fort\")\n",
    "elif city == \"Agra\":\n",
    "        print(f\"Monument for {city} is Taj Mahal\")\n",
    "elif city == \"Jaipur\":\n",
    "        print(f\"Monument for {city} is Jal Mahal\")"
   ]
  },
  {
   "cell_type": "code",
   "execution_count": 2,
   "id": "47e14ba3-9908-494e-b88e-3918f7b1145b",
   "metadata": {},
   "outputs": [
    {
     "name": "stdin",
     "output_type": "stream",
     "text": [
      "Kindly enter a number :  20\n"
     ]
    },
    {
     "name": "stdout",
     "output_type": "stream",
     "text": [
      "20 can be divided 0 times by 3 before it is less tha or equal to zero.\n"
     ]
    }
   ],
   "source": [
    "#Q4\n",
    "num = int(input(\"Kindly enter a number : \"))\n",
    "temp = num\n",
    "count = 0\n",
    "while(num <=10):\n",
    "    num = num/3\n",
    "    count+=1\n",
    "print(f\"{temp} can be divided {count} times by 3 before it is less tha or equal to zero.\")"
   ]
  },
  {
   "cell_type": "markdown",
   "id": "c6491ffa-ff6a-4222-9fa8-18591589cc77",
   "metadata": {},
   "source": [
    "#Q5 \n",
    "A while loop is a control flow statement in Python that allows code to be repeatedly executed as long as a certain condition is true.\n",
    "\n",
    "Example"
   ]
  },
  {
   "cell_type": "code",
   "execution_count": 9,
   "id": "a41c84e6-61a0-4604-9c93-a27cbcb40def",
   "metadata": {},
   "outputs": [
    {
     "name": "stdout",
     "output_type": "stream",
     "text": [
      "1\n",
      "2\n",
      "3\n",
      "4\n",
      "5\n"
     ]
    }
   ],
   "source": [
    "numbers = [1, 2, 3, 4, 5]\n",
    "i = 0\n",
    "\n",
    "while i < len(numbers):\n",
    "    print(numbers[i])\n",
    "    i += 1"
   ]
  },
  {
   "cell_type": "code",
   "execution_count": 11,
   "id": "ccb6fa8d-d273-44d3-990c-5d83615f998e",
   "metadata": {},
   "outputs": [
    {
     "name": "stdout",
     "output_type": "stream",
     "text": [
      "* * * * * \n",
      "* * * * * \n",
      "* * * * * \n",
      "* * * * * \n",
      "* * * * * \n"
     ]
    }
   ],
   "source": [
    "#Q6\n",
    "n = 5\n",
    "i = 1\n",
    "\n",
    "while i <= n:\n",
    "    j = 1\n",
    "    while j <= n:\n",
    "        print(\"*\", end=\" \")\n",
    "        j += 1\n",
    "    print()\n",
    "    i += 1\n"
   ]
  },
  {
   "cell_type": "code",
   "execution_count": 15,
   "id": "8325396c-b12e-4cd5-80ca-30851d0d7af1",
   "metadata": {},
   "outputs": [
    {
     "name": "stdout",
     "output_type": "stream",
     "text": [
      "* \n",
      "* * \n",
      "* * * \n",
      "* * * * \n",
      "* * * * * \n"
     ]
    }
   ],
   "source": [
    "n = 5\n",
    "i = 1\n",
    "\n",
    "while i <= n:\n",
    "    j = 1\n",
    "    while j <= i:\n",
    "        print(\"*\", end=\" \")\n",
    "        j += 1\n",
    "    print()\n",
    "    i += 1"
   ]
  },
  {
   "cell_type": "code",
   "execution_count": 16,
   "id": "f4939554-d529-42e8-a4aa-654c30056a9d",
   "metadata": {},
   "outputs": [
    {
     "name": "stdout",
     "output_type": "stream",
     "text": [
      "        * \n",
      "      * * * \n",
      "    * * * * * \n",
      "  * * * * * * * \n",
      "* * * * * * * * * \n"
     ]
    }
   ],
   "source": [
    "n = 5\n",
    "i = 1\n",
    "\n",
    "while i <= n:\n",
    "    j = 1\n",
    "    while j <= n-i:\n",
    "        print(\" \", end=\" \")\n",
    "        j += 1\n",
    "    j = 1\n",
    "    while j <= 2*i-1:\n",
    "        print(\"*\", end=\" \")\n",
    "        j += 1\n",
    "    print()\n",
    "    i += 1"
   ]
  },
  {
   "cell_type": "code",
   "execution_count": 17,
   "id": "e3df8c19-f276-48b1-916a-e45a63095ff4",
   "metadata": {},
   "outputs": [
    {
     "name": "stdout",
     "output_type": "stream",
     "text": [
      "10\n",
      "9\n",
      "8\n",
      "7\n",
      "6\n",
      "5\n",
      "4\n",
      "3\n",
      "2\n",
      "1\n"
     ]
    }
   ],
   "source": [
    "#Q7\n",
    "num = 10\n",
    "\n",
    "while num >= 1:\n",
    "    print(num)\n",
    "    num -= 1"
   ]
  },
  {
   "cell_type": "code",
   "execution_count": 18,
   "id": "bb1d378d-372b-4fb0-949f-80b49977439b",
   "metadata": {},
   "outputs": [
    {
     "name": "stdout",
     "output_type": "stream",
     "text": [
      "10\n",
      "9\n",
      "8\n",
      "7\n",
      "6\n",
      "5\n",
      "4\n",
      "3\n",
      "2\n",
      "1\n"
     ]
    }
   ],
   "source": [
    "#Q8\n",
    "num = 10\n",
    "\n",
    "while num >= 1:\n",
    "    print(num)\n",
    "    num -= 1"
   ]
  },
  {
   "cell_type": "code",
   "execution_count": null,
   "id": "beb0a791-0730-4eb6-b982-13febf36ff2d",
   "metadata": {},
   "outputs": [],
   "source": []
  }
 ],
 "metadata": {
  "kernelspec": {
   "display_name": "Python 3 (ipykernel)",
   "language": "python",
   "name": "python3"
  },
  "language_info": {
   "codemirror_mode": {
    "name": "ipython",
    "version": 3
   },
   "file_extension": ".py",
   "mimetype": "text/x-python",
   "name": "python",
   "nbconvert_exporter": "python",
   "pygments_lexer": "ipython3",
   "version": "3.10.8"
  }
 },
 "nbformat": 4,
 "nbformat_minor": 5
}
