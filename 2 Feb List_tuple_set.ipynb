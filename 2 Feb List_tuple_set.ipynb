{
 "cells": [
  {
   "cell_type": "raw",
   "id": "e9b53981-d010-46af-bf89-56d53351c39c",
   "metadata": {},
   "source": [
    "Q1. What are the characteristics of the tuples? Is tuple immutable?\n",
    "\n",
    "The following are the characteristics of tuples:\n",
    "\n",
    "Ordered: Tuples are ordered, which means the elements of a tuple are arranged in a specific order and each element is assigned a unique index starting from zero.\n",
    "\n",
    "Immutable: Tuples are immutable, which means that once a tuple is created, its elements cannot be changed or modified. However, it is possible to create a new tuple by concatenating or slicing existing tuples.\n",
    "\n",
    "Heterogeneous: Tuples can contain elements of different data types, such as integers, floating-point numbers, strings, or even other tuples.\n",
    "\n",
    "Iterable: Tuples are iterable, which means that we can access each element of a tuple using a loop or by indexing.\n",
    "\n",
    "Fixed length: Once a tuple is created, its length is fixed, which means we cannot add or remove elements from a tuple.\n",
    "\n",
    "Thus,  tuple are Immutable."
   ]
  },
  {
   "cell_type": "raw",
   "id": "fe9e8186-419e-4b55-b9c3-4155a424e732",
   "metadata": {},
   "source": [
    "Q2. What are the two tuple methods in python? Give an example of each method. Give a reason why\n",
    "tuples have only two in-built methods as compared to Lists.\n",
    "\n",
    "There are two built-in tuple methods in Python:\n",
    "\n",
    "count() method: This method is used to count the number of occurrences of a specific element in a tuple. It takes one argument, which is the element to be counted. If the element is not found in the tuple, it returns zero.\n",
    "\n",
    "Example"
   ]
  },
  {
   "cell_type": "code",
   "execution_count": 1,
   "id": "c7c589c9-0421-4640-8da5-2fecbee81ea8",
   "metadata": {},
   "outputs": [
    {
     "name": "stdout",
     "output_type": "stream",
     "text": [
      "3\n"
     ]
    }
   ],
   "source": [
    "tup = (1, 2, 2, 3, 4, 2)\n",
    "count = tup.count(2)\n",
    "print(count)   "
   ]
  },
  {
   "cell_type": "raw",
   "id": "b9edfa6f-3f8d-4f19-82b1-d44ea68508de",
   "metadata": {},
   "source": [
    "index() method: This method is used to find the index of a specific element in a tuple. It takes one argument, which is the element to be searched. If the element is not found in the tuple, it raises a ValueError.\n",
    "\n",
    "Example"
   ]
  },
  {
   "cell_type": "code",
   "execution_count": 2,
   "id": "b5aa7233-defa-49fe-8067-9f6126145d3a",
   "metadata": {},
   "outputs": [
    {
     "name": "stdout",
     "output_type": "stream",
     "text": [
      "1\n"
     ]
    }
   ],
   "source": [
    "tup = (1, 2, 2, 3, 4, 2)\n",
    "index = tup.index(2)\n",
    "print(index)"
   ]
  },
  {
   "cell_type": "raw",
   "id": "2cecf34f-8747-4832-8983-7d22ea3766d2",
   "metadata": {},
   "source": [
    "Q3. Which collection datatypes in python do not allow duplicate items? Write a code using a set to remove\n",
    "duplicates from the given list.\n",
    "\n",
    "In Python, sets are the collection datatype that does not allow duplicate items."
   ]
  },
  {
   "cell_type": "code",
   "execution_count": 6,
   "id": "60f65ca4-41f4-4e77-8daa-40e2478e05b2",
   "metadata": {},
   "outputs": [
    {
     "name": "stdout",
     "output_type": "stream",
     "text": [
      "[1, 2, 3, 4]\n"
     ]
    }
   ],
   "source": [
    "List = [1, 1, 1, 2, 1, 3, 1, 4, 2, 1, 2, 2, 2, 3, 2, 4, 3, 1, 3, 2, 3, 3, 3, 4, 4, 1, 4, 2, 4, 3, 4, 4]\n",
    "my_set = set(List)\n",
    "List = list(my_set) \n",
    "\n",
    "print(List) "
   ]
  },
  {
   "cell_type": "raw",
   "id": "ccf4f7d1-2e1c-4648-ba1c-3a9191f36d8c",
   "metadata": {},
   "source": [
    "Q4. Explain the difference between the union() and update() methods for a set. Give an example of\n",
    "each method.\n",
    "\n",
    "The union() method returns a new set containing all the unique elements from the original set as well as the set passed as argument, without modifying the original set.\n",
    "\n",
    "Example"
   ]
  },
  {
   "cell_type": "code",
   "execution_count": 7,
   "id": "ab2a0cb5-c42d-40ca-8463-171c5b654fbf",
   "metadata": {},
   "outputs": [
    {
     "name": "stdout",
     "output_type": "stream",
     "text": [
      "{1, 2, 3, 4, 5, 6, 7}\n",
      "{1, 2, 3}\n"
     ]
    }
   ],
   "source": [
    "set1 = {1, 2, 3}\n",
    "set2 = {3, 4, 5}\n",
    "set3 = {5, 6, 7}\n",
    "new_set = set1.union(set2, set3)\n",
    "print(new_set) \n",
    "print(set1)  "
   ]
  },
  {
   "cell_type": "raw",
   "id": "1b17d2ba-e04e-4806-9989-2a4179410ce2",
   "metadata": {},
   "source": [
    "The update() method, on the other hand, modifies the original set by adding all the unique elements from the set passed as argument to it. \n",
    "\n",
    "Example"
   ]
  },
  {
   "cell_type": "code",
   "execution_count": 8,
   "id": "163130d5-f71d-456a-a585-2effb4a90ce6",
   "metadata": {},
   "outputs": [
    {
     "name": "stdout",
     "output_type": "stream",
     "text": [
      "{1, 2, 3, 4, 5, 6, 7}\n"
     ]
    }
   ],
   "source": [
    "set1 = {1, 2, 3}\n",
    "set2 = {3, 4, 5}\n",
    "set3 = {5, 6, 7}\n",
    "set1.update(set2, set3)\n",
    "print(set1)"
   ]
  },
  {
   "cell_type": "raw",
   "id": "0d98a373-e1ab-4570-9622-73be45a9a156",
   "metadata": {},
   "source": [
    "So, the main difference between union() and update() is that union() returns a new set without modifying the original set, while update() modifies the original set in-place."
   ]
  },
  {
   "cell_type": "raw",
   "id": "20f09e4b-b75b-4013-84bd-1682c707d608",
   "metadata": {},
   "source": [
    "Q5. What is a dictionary? Give an example. Also, state whether a dictionary is ordered or unordered.\n",
    "\n",
    "In Python, a dictionary is a collection data type that stores key-value pairs. Each key-value pair is separated by a colon : and individual pairs are separated by a comma ,. The keys in a dictionary must be unique and immutable (i.e., strings, numbers, or tuples) and the values can be of any data type.\n",
    "\n",
    "Example"
   ]
  },
  {
   "cell_type": "code",
   "execution_count": 9,
   "id": "e121aca4-1cfe-41e2-b44d-13d1f6a2f7f8",
   "metadata": {},
   "outputs": [
    {
     "name": "stdout",
     "output_type": "stream",
     "text": [
      "{'name': 'prakash', 'age': 14, 'gender': 'male'}\n"
     ]
    }
   ],
   "source": [
    "my_dict = {\"name\": \"prakash\", \"age\": 14, \"gender\": \"male\"}\n",
    "print(my_dict)"
   ]
  },
  {
   "cell_type": "raw",
   "id": "3c72cc6b-d97b-4ee2-b591-6fab5cb25398",
   "metadata": {},
   "source": [
    "In terms of order, dictionaries in Python are unordered,"
   ]
  },
  {
   "cell_type": "raw",
   "id": "4e3af02a-9175-4281-9a23-a167522eb398",
   "metadata": {},
   "source": [
    "Q6. Can we create a nested dictionary? If so, please give an example by creating a simple one-level\n",
    "nested dictionary.\n",
    "\n",
    "Yes, we can create nested dictionaries in Python. A nested dictionary is a dictionary where the values are themselves dictionaries.\n",
    "\n",
    "Example"
   ]
  },
  {
   "cell_type": "code",
   "execution_count": 11,
   "id": "1eb9431c-bfb2-4318-98fa-a72056328144",
   "metadata": {},
   "outputs": [
    {
     "name": "stdout",
     "output_type": "stream",
     "text": [
      "{'name': 'prakash', 'age': 14, 'gender': 'male', 'hobblies': {'singing': 'good', 'dancing': 'good', 'reading': 'moderate'}}\n"
     ]
    }
   ],
   "source": [
    "my_dict = {\"name\": \"prakash\", \"age\": 14, \"gender\": \"male\", \"hobblies\": {\"singing\": \"good\",\n",
    "\"dancing\": \"good\", \"reading\": \"moderate\"}}\n",
    "print(my_dict)"
   ]
  },
  {
   "cell_type": "raw",
   "id": "7cbe212d-e1ad-460f-bbf7-400aa8e0e500",
   "metadata": {},
   "source": [
    "Q7. Using setdefault() method, create key named topics in the given dictionary and also add the value of\n",
    "the key as this list ['Python', 'Machine Learning’, 'Deep Learning']"
   ]
  },
  {
   "cell_type": "code",
   "execution_count": 13,
   "id": "7c9a1d82-5328-43f3-bb78-79cd19c5aed6",
   "metadata": {},
   "outputs": [
    {
     "name": "stdout",
     "output_type": "stream",
     "text": [
      "{'language': 'Python', 'course': 'Data Science Masters', 'topics': ['Python', 'Machine Learning', 'Deep Learning']}\n"
     ]
    }
   ],
   "source": [
    "dict1 = {'language' : 'Python', 'course': 'Data Science Masters'}\n",
    "dict1.setdefault(\"topics\", ['Python', 'Machine Learning', 'Deep Learning'])\n",
    "print(dict1)"
   ]
  },
  {
   "cell_type": "raw",
   "id": "0a94b8df-c85e-4793-8ce0-2bc6a505d64e",
   "metadata": {},
   "source": [
    "Q8. What are the three view objects in dictionaries? Use the three in-built methods in python to display\n",
    "these three view objects for the given dictionary.\n",
    "dict1 = {'Sport': 'Cricket' , 'Teams': ['India', 'Australia', 'England', 'South Africa', 'Sri Lanka', 'New Zealand']}\n",
    "\n",
    "In Python, there are three view objects associated with a dictionary:\n",
    "\n",
    "dict_keys: This view object provides a dynamic view of the keys in the dictionary.\n",
    "dict_values: This view object provides a dynamic view of the values in the dictionary.\n",
    "dict_items: This view object provides a dynamic view of the key-value pairs in the dictionary.\n",
    "\n",
    "Example"
   ]
  },
  {
   "cell_type": "code",
   "execution_count": 21,
   "id": "cbde1f29-966c-45f0-9227-ab82b7cd3e9e",
   "metadata": {},
   "outputs": [
    {
     "name": "stdout",
     "output_type": "stream",
     "text": [
      "dict_keys(['Sport', 'Teams'])\n",
      "dict_values(['Cricket', ['India', 'Australia', 'England', 'South Africa', 'Sri Lanka', 'New Zealand']])\n",
      "dict_items([('Sport', 'Cricket'), ('Teams', ['India', 'Australia', 'England', 'South Africa', 'Sri Lanka', 'New Zealand'])])\n"
     ]
    }
   ],
   "source": [
    "dict1 = {'Sport': 'Cricket', 'Teams': ['India', 'Australia', 'England', 'South Africa', 'Sri Lanka', 'New Zealand']}\n",
    "\n",
    "print(dict1.keys())\n",
    "\n",
    "print(dict1.values())\n",
    "\n",
    "print(dict1.items())"
   ]
  }
 ],
 "metadata": {
  "kernelspec": {
   "display_name": "Python 3 (ipykernel)",
   "language": "python",
   "name": "python3"
  },
  "language_info": {
   "codemirror_mode": {
    "name": "ipython",
    "version": 3
   },
   "file_extension": ".py",
   "mimetype": "text/x-python",
   "name": "python",
   "nbconvert_exporter": "python",
   "pygments_lexer": "ipython3",
   "version": "3.10.8"
  }
 },
 "nbformat": 4,
 "nbformat_minor": 5
}
