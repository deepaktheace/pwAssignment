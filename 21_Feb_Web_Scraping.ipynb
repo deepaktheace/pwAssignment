{
 "cells": [
  {
   "cell_type": "markdown",
   "id": "4b61c398",
   "metadata": {},
   "source": [
    "Q1. What is Web Scraping? Why is it Used? Give three areas where Web Scraping is used to get data."
   ]
  },
  {
   "cell_type": "markdown",
   "id": "924fe9a2",
   "metadata": {},
   "source": [
    "Web scraping is the process of using bots to extract content and data from a website.\n",
    "\n",
    "Unlike screen scraping, which only copies pixels displayed onscreen, web scraping extracts underlying HTML code and, with it, data stored in a database. \n",
    "\n",
    "Web scraping is used in a variety of digital businesses that rely on data harvesting. Uses and areas of Web Scraping:\n",
    "\n",
    "1. Search engine bots crawling a site, analyzing its content and then ranking it.\n",
    "2. Price comparison sites deploying bots to auto-fetch prices and product descriptions for allied seller websites.\n",
    "3. Market research companies using scrapers to pull data from forums and social media (e.g., for sentiment analysis)."
   ]
  },
  {
   "cell_type": "markdown",
   "id": "55721e51",
   "metadata": {},
   "source": [
    "<br>\n",
    "Q2. What are the different methods used for Web Scraping?"
   ]
  },
  {
   "cell_type": "markdown",
   "id": "0ee6404e",
   "metadata": {},
   "source": [
    "Some of the methods used for Web Scraping are as follows:\n",
    "\n",
    "1. HTML Parsing. HTML parsing involves the use of JavaScript to target a linear or nested HTML page. \n",
    "2. DOM Parsing. \n",
    "3. Vertical Aggregation. \n",
    "4. XPath. "
   ]
  },
  {
   "cell_type": "markdown",
   "id": "b2c59a04",
   "metadata": {},
   "source": [
    "<br>\n",
    "Q3. What is Beautiful Soup? Why is it used?"
   ]
  },
  {
   "cell_type": "markdown",
   "id": "0e8798dc",
   "metadata": {},
   "source": [
    "Beautiful Soup is a Python library that makes it easy to scrape information from web pages. It sits atop an HTML or XML parser and provides Pythonic idioms for iterating, searching, and modifying the parse tree.\n",
    "\n",
    "Uses of Beautiful Soup\n",
    "\n",
    "The Beautiful Soup library helps with isolating titles and links from webpages. It can extract all of the text from ​HTML tags, and alter the HTML ​in the document with which we’re working."
   ]
  },
  {
   "cell_type": "markdown",
   "id": "31832470",
   "metadata": {},
   "source": [
    "<br>\n",
    "Q4. Why is flask used in this Web Scraping project?"
   ]
  },
  {
   "cell_type": "markdown",
   "id": "9ffe1f9d",
   "metadata": {},
   "source": [
    "Flask is used in web scraping projects to create a user-friendly web interface for inputting URLs and parameters, making it easier to interact with the scraper. It's also handy for developing APIs to integrate scraping functionality with other applications. Additionally, Flask supports asynchronous tasks, making it suitable for concurrent scraping tasks. Overall, Flask simplifies the development and deployment of web scraping tools."
   ]
  },
  {
   "cell_type": "markdown",
   "id": "0d0e1aaf",
   "metadata": {},
   "source": [
    "<br>\n",
    "Q5. Write the names of AWS services used in this project. Also, explain the use of each service."
   ]
  },
  {
   "cell_type": "markdown",
   "id": "0a05d402",
   "metadata": {},
   "source": [
    "AWS services used in this project is AWS Elastic Beanstalk. It abstracts infrastructure tasks, supports multiple programming languages, and offers easy deployment methods. "
   ]
  },
  {
   "cell_type": "code",
   "execution_count": null,
   "id": "b24f3e5c",
   "metadata": {},
   "outputs": [],
   "source": []
  }
 ],
 "metadata": {
  "kernelspec": {
   "display_name": "Python 3 (ipykernel)",
   "language": "python",
   "name": "python3"
  },
  "language_info": {
   "codemirror_mode": {
    "name": "ipython",
    "version": 3
   },
   "file_extension": ".py",
   "mimetype": "text/x-python",
   "name": "python",
   "nbconvert_exporter": "python",
   "pygments_lexer": "ipython3",
   "version": "3.10.4"
  }
 },
 "nbformat": 4,
 "nbformat_minor": 5
}
