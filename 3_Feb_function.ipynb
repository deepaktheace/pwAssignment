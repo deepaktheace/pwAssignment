{
 "cells": [
  {
   "cell_type": "markdown",
   "id": "336856fe-ea72-499d-b83b-8b82c35aa8b9",
   "metadata": {},
   "source": [
    "Q1\n",
    "def keyword is been used to create a function in Python."
   ]
  },
  {
   "cell_type": "code",
   "execution_count": 2,
   "id": "7b5ace6a-75b6-44b6-a59e-e9da5a90bd77",
   "metadata": {},
   "outputs": [
    {
     "data": {
      "text/plain": [
       "[1, 3, 5, 7, 9, 11, 13, 15, 17, 19, 21, 23]"
      ]
     },
     "execution_count": 2,
     "metadata": {},
     "output_type": "execute_result"
    }
   ],
   "source": [
    "def fun():\n",
    "    lst = []\n",
    "    for i in range(0,25):\n",
    "        if i % 2 != 0:\n",
    "            lst.append(i)\n",
    "    return lst\n",
    "fun()"
   ]
  },
  {
   "cell_type": "markdown",
   "id": "7c68d1d2-7bbd-474f-a1a6-803d26bcdd04",
   "metadata": {},
   "source": [
    "Q2\n",
    "You can use *args and **kwargs as arguments of a function when you are unsure about the number of arguments to pass in the functions.\n",
    "\n",
    "*args and **kwargs make the function flexible.\n",
    "\n",
    "*args can be used to take n number of arguments in function.\n",
    "\n",
    "Example"
   ]
  },
  {
   "cell_type": "code",
   "execution_count": 3,
   "id": "9472dc5c-2fb3-43ce-8fea-69b20479d548",
   "metadata": {},
   "outputs": [
    {
     "name": "stdout",
     "output_type": "stream",
     "text": [
      "Sum: 8\n",
      "Sum: 22\n",
      "Sum: 17\n"
     ]
    }
   ],
   "source": [
    "def adder(*num):\n",
    "    sum = 0\n",
    "    \n",
    "    for n in num:\n",
    "        sum = sum + n\n",
    "\n",
    "    print(\"Sum:\",sum)\n",
    "\n",
    "adder(3,5)\n",
    "adder(4,5,6,7)\n",
    "adder(1,2,3,5,6)"
   ]
  },
  {
   "cell_type": "markdown",
   "id": "67ff6104-37f1-4de4-bd44-3773b83d117e",
   "metadata": {},
   "source": [
    "On the other hand **kwargs can be used to take n number of key-value pairs in function."
   ]
  },
  {
   "cell_type": "code",
   "execution_count": 4,
   "id": "30a22d5f-2201-41f0-8db0-41bfcc7bab8e",
   "metadata": {},
   "outputs": [
    {
     "name": "stdout",
     "output_type": "stream",
     "text": [
      "{'Firstname': 'Sita', 'Lastname': 'Sharma', 'Age': 22, 'Phone': 1234567890}\n",
      "{'Firstname': 'John', 'Lastname': 'Wood', 'Email': 'johnwood@nomail.com', 'Country': 'Wakanda', 'Age': 25, 'Phone': 9876543210}\n"
     ]
    }
   ],
   "source": [
    "def intro(**data):\n",
    "    print(data)\n",
    "intro(Firstname=\"Sita\", Lastname=\"Sharma\", Age=22, Phone=1234567890)\n",
    "intro(Firstname=\"John\", Lastname=\"Wood\", Email=\"johnwood@nomail.com\", Country=\"Wakanda\", Age=25, Phone=9876543210)"
   ]
  },
  {
   "cell_type": "markdown",
   "id": "3b2012d0-754e-48d7-ae5d-743839bb0db9",
   "metadata": {},
   "source": [
    "Q3\n",
    "In Python, an iterator is an object that can be iterated upon, meaning it can be used in a loop. Iterators are used to access the elements of a collection one at a time, without having to store the entire collection in memory at once.\n",
    "\n",
    "To create an iterator object, we use the iter() method. This method takes an iterable as an argument and returns an iterator object.\n",
    "\n",
    "To iterate over the elements of an iterator, we use the next() method. This method returns the next element of the iterator.\n",
    "\n",
    "To print the first five elements of the given list [2, 4, 6, 8, 10, 12, 14, 16, 18, 20], we can do the following:"
   ]
  },
  {
   "cell_type": "code",
   "execution_count": 1,
   "id": "19d37b85-4d65-4a52-b18d-029b18e6b512",
   "metadata": {},
   "outputs": [
    {
     "name": "stdout",
     "output_type": "stream",
     "text": [
      "2\n",
      "4\n",
      "6\n",
      "8\n",
      "10\n"
     ]
    }
   ],
   "source": [
    "lst = [2, 4, 6, 8, 10, 12, 14, 16, 18, 20]\n",
    "iterator_obj = iter(lst) \n",
    "for i in range(5):  \n",
    "    print(next(iterator_obj))"
   ]
  },
  {
   "cell_type": "markdown",
   "id": "02c943f3-068f-4014-873b-209a0f404491",
   "metadata": {},
   "source": [
    "\n",
    "\n",
    "\n",
    "Q4 In Python, a generator function is a special type of function that returns an iterator. It uses the yield keyword instead of return to return values from the function one at a time. The generator function can pause its execution and return control to the calling code, and then resume execution from where it left off when the next value is requested.\n",
    "\n",
    "The yield keyword is used in a generator function to return a value to the caller while maintaining the state of the generator. When a generator function is called, it returns a generator object that can be used to iterate over the sequence of values produced by the generator.\n",
    "\n",
    "Here's an example of a simple generator function that generates a sequence of squares of numbers:"
   ]
  },
  {
   "cell_type": "code",
   "execution_count": 4,
   "id": "3058da1a-78a8-480d-a88f-b1233ebe00b3",
   "metadata": {},
   "outputs": [],
   "source": [
    "def square_generator(n):\n",
    "    for i in range(n):\n",
    "        yield i**2"
   ]
  },
  {
   "cell_type": "code",
   "execution_count": 5,
   "id": "41aa07c5-335c-403e-bcb3-abc830a900c9",
   "metadata": {},
   "outputs": [
    {
     "name": "stdout",
     "output_type": "stream",
     "text": [
      "0\n",
      "1\n",
      "4\n",
      "9\n",
      "16\n"
     ]
    }
   ],
   "source": [
    "for sq in square_generator(5):\n",
    "    print(sq)"
   ]
  },
  {
   "cell_type": "code",
   "execution_count": 66,
   "id": "fa0f07cf-78cb-401a-8c7d-3a5d688b74e7",
   "metadata": {},
   "outputs": [],
   "source": [
    "#Q5\n",
    "def primes():\n",
    "    yield 2\n",
    "    prime_list = [2]\n",
    "    n = 3\n",
    "    while n < 1000:\n",
    "        for p in prime_list:\n",
    "            if n % p == 0:\n",
    "                break\n",
    "        else:\n",
    "            yield n\n",
    "            prime_list.append(n)\n",
    "        n += 2"
   ]
  },
  {
   "cell_type": "code",
   "execution_count": 67,
   "id": "f8f50000-d0be-4c15-b1d2-de91617f260f",
   "metadata": {},
   "outputs": [
    {
     "name": "stdout",
     "output_type": "stream",
     "text": [
      "2\n",
      "3\n",
      "5\n",
      "7\n",
      "11\n",
      "13\n",
      "17\n",
      "19\n",
      "23\n",
      "29\n",
      "31\n",
      "37\n",
      "41\n",
      "43\n",
      "47\n",
      "53\n",
      "59\n",
      "61\n",
      "67\n",
      "71\n"
     ]
    }
   ],
   "source": [
    "prime_generator = primes()\n",
    "for i in range(20):\n",
    "    print(next(prime_generator))"
   ]
  },
  {
   "cell_type": "code",
   "execution_count": null,
   "id": "a49d67b6-e76d-4446-b0d8-975fca5ef2c0",
   "metadata": {},
   "outputs": [],
   "source": []
  }
 ],
 "metadata": {
  "kernelspec": {
   "display_name": "Python 3 (ipykernel)",
   "language": "python",
   "name": "python3"
  },
  "language_info": {
   "codemirror_mode": {
    "name": "ipython",
    "version": 3
   },
   "file_extension": ".py",
   "mimetype": "text/x-python",
   "name": "python",
   "nbconvert_exporter": "python",
   "pygments_lexer": "ipython3",
   "version": "3.10.8"
  }
 },
 "nbformat": 4,
 "nbformat_minor": 5
}
