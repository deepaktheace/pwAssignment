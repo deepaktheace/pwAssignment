{
 "cells": [
  {
   "cell_type": "markdown",
   "id": "23d4a20b-2292-4bb2-95a4-d50ebd22ff0c",
   "metadata": {},
   "source": [
    "Q1. What is an API? Give an example, where an API is used in real life."
   ]
  },
  {
   "cell_type": "markdown",
   "id": "bac1315e-7292-44a2-8861-bcdeef1819e9",
   "metadata": {},
   "source": [
    "An API, or Application Programming Interface, is a set of rules and protocols that allows different software applications to communicate with each other. It defines the methods and data formats that developers can use to request and exchange information between different systems, services, or programs. APIs are essential for enabling the integration and interaction of various software components, making it easier for developers to leverage the functionality of existing systems in their own applications.\n",
    "\n",
    "Example:\n",
    "\n",
    "Google Map API The Google Maps API is been used in applications like swiggy, zomato, ola, uber etc."
   ]
  },
  {
   "cell_type": "markdown",
   "id": "b65f5da0-35b5-48ae-8e7d-c04a692ee094",
   "metadata": {},
   "source": [
    "<br>\n",
    "Q2. Give advantages and disadvantages of using API."
   ]
  },
  {
   "cell_type": "markdown",
   "id": "21a335d7-2325-431b-9ec5-6fd6fd7e072d",
   "metadata": {},
   "source": [
    "Anvantages:\n",
    "\n",
    "1. Increased Interoperability: API solutions enable different software systems to communicate with each other, regardless of their programming language or platform. This enhances the interoperability between systems, allowing for the exchange of data and functionality.\n",
    "2. Improved Efficiency: API driven infrastructures enable developers to reuse code and functionality from existing software systems, saving time and reducing the amount of code that needs to be written from scratch.\n",
    "3. Better User Experience: APIs can enable third-party developers to create applications that integrate with existing software systems, providing a better user experience and increased functionality.\n",
    "\n",
    "Disadvantages:\n",
    "\n",
    "1. Security Concerns: API infrastructures can be vulnerable to security breaches, such as SQL injection attacks and cross-site scripting (XSS) attacks, making it crucial to implement security measures to protect against these threats.\n",
    "2. Complexity: APIs can be complex, requiring a significant amount of development effort to implement and maintain.\n",
    "3. Compatibility Issues: APIs can have compatibility issues between different versions of the same software system or between different systems, which can lead to errors and system failures."
   ]
  },
  {
   "cell_type": "markdown",
   "id": "61a44efb-8d5b-4be6-909e-1043519e77bb",
   "metadata": {},
   "source": [
    "<br>Q3. What is a Web API? Differentiate between API and Web API."
   ]
  },
  {
   "cell_type": "markdown",
   "id": "dce399f5-4c46-4b1c-9ada-0a92acec52bc",
   "metadata": {},
   "source": [
    "A Web API, often referred to simply as an API, is a type of Application Programming Interface specifically designed for communication and interaction over the internet. It allows different software applications to exchange data and functionality through web-based protocols like HTTP (Hypertext Transfer Protocol) or HTTPS (HTTP Secure). Web APIs are a subset of APIs and are used for web services and web-based applications.\n",
    "\n",
    "Here are the key differences between an API and a Web API:\n",
    "\n",
    "Scope of Interaction:\n",
    "\n",
    "API (Application Programming Interface): API is a broad term that encompasses various types of interfaces, including those used for communication between software components within a single application or between different applications, regardless of whether they are web-based or not. APIs can include libraries, functions, and protocols for any kind of software integration.\n",
    "Web API (Web Application Programming Interface): Web APIs specifically deal with interactions over the internet. They are designed to facilitate communication and data exchange between remote systems or services using web-based technologies like HTTP."
   ]
  },
  {
   "cell_type": "markdown",
   "id": "3af7dda8-2206-4100-85aa-1ec97777a97a",
   "metadata": {},
   "source": [
    "<br>Q4. Explain REST and SOAP Architecture. Mention shortcomings of SOAP."
   ]
  },
  {
   "cell_type": "markdown",
   "id": "bce12bea-c44b-4dbb-8447-2012292d048d",
   "metadata": {},
   "source": [
    "Shortcomings of SOAP Architecture\n",
    "\n",
    "API Calls are not Cached\n",
    "\n",
    "An API call is a process of sending a request when an API has been set up with the necessary endpoints. The information is transferred, processed, and feedback is supplied as a result of the process. It is not feasible to cache SOAP API requests.\n",
    "\n",
    "No Choice of Data Formats\n",
    "\n",
    "SOAP's support for data formats is likewise severely constrained. HTML, JSON, YAML, XML, and more formats are supported by REST. SOAP, on the other hand, only supports XML."
   ]
  },
  {
   "cell_type": "markdown",
   "id": "307b1ae4-8cfb-41ef-9948-baacfcb012a7",
   "metadata": {},
   "source": [
    "<br>Q5. Differentiate between REST and SOAP."
   ]
  },
  {
   "cell_type": "markdown",
   "id": "7e5aa2bd-b53e-4a77-bd77-9ac23a126a30",
   "metadata": {},
   "source": [
    "Flexibility:\n",
    "\n",
    "SOAP APIs are rigid and only allow XML messaging between applications. The application server also has to maintain the state of each client. This means it has to remember all previous requests when processing a new request.\n",
    "\n",
    "REST is more flexible and allows applications to transfer data as plain text, HTML, XML, and JSON. REST is also stateless, so the REST API treats every new request independently of previous requests.\n",
    "\n",
    "Performance:\n",
    "\n",
    "SOAP messages are larger and more complex, which makes them slower to transmit and process. This can increase page load times.\n",
    "\n",
    "REST is faster and more efficient than SOAP due to the smaller message sizes of REST. REST responses are also cacheable, so the server can store frequently accessed data in a cache for even shorter page load times.\n",
    "\n",
    "Scalability:\n",
    "\n",
    "The SOAP protocol requires applications to store the state between requests, which increases bandwidth and memory requirements. As a result, it makes applications expensive and challenging to scale.\n",
    "\n",
    "Unlike SOAP, REST permits stateless and layered architecture, which makes it more scalable. For example, the application server can pass the request to other servers or allow an intermediary (like a content delivery network) to handle it."
   ]
  },
  {
   "cell_type": "code",
   "execution_count": null,
   "id": "d840f8ad-5e82-438d-b6c4-409dd91e4640",
   "metadata": {},
   "outputs": [],
   "source": []
  }
 ],
 "metadata": {
  "kernelspec": {
   "display_name": "Python 3 (ipykernel)",
   "language": "python",
   "name": "python3"
  },
  "language_info": {
   "codemirror_mode": {
    "name": "ipython",
    "version": 3
   },
   "file_extension": ".py",
   "mimetype": "text/x-python",
   "name": "python",
   "nbconvert_exporter": "python",
   "pygments_lexer": "ipython3",
   "version": "3.10.8"
  }
 },
 "nbformat": 4,
 "nbformat_minor": 5
}
